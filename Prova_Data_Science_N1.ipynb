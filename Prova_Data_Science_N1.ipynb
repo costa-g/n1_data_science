{
  "cells": [
    {
      "cell_type": "markdown",
      "source": [
        "# Prova Data Science N1\n",
        "\n",
        "## <font color='red'>Importante: a prova é individual.</font>\n",
        "\n",
        "**Instruções:**\n",
        "\n",
        "1. Faça download deste notebook e carregue o mesmo na sua conta do Google Colab.\n",
        "2. Responda às questões propostas.\n",
        "3. Crie um repositório para o notebook, \"commite\" o notebook neste repositório.\n",
        "4. Na tarefa de avaliação do Teams, envie o link do repositório. Arquivos enviados diretamente no Teams não serão considerados.\n",
        "5. Commits no repositório após a data de entrega (combinada em sala de aula) serão desconsiderados."
      ],
      "metadata": {
        "id": "4glhaFlgmJJh"
      },
      "id": "4glhaFlgmJJh"
    },
    {
      "cell_type": "markdown",
      "source": [
        "# Objeto da avaliação\n",
        "\n",
        "Você irá fazer o download do arquivo de dados matches.csv do [repositório do Github](https://raw.githubusercontent.com/mdietterle/repositorio_dados/main/matches.csv)\n",
        "\n",
        "Todas as questões/atividades serão realizadas com base neste arquivo. É importante que você responda aos questionamentos propostos o mais completo possível, com a maior quantidade de detalhes que você conseguir incluir.\n",
        "\n",
        "Não se contente com o básico, seja criativo nas respostas, indo além do tradicional.\n",
        "\n",
        "## **Importante!!**\n",
        "\n",
        "Antes de começar a responder, abra o arquivo de dados e entenda o dataset. Não será fornecido um dicionário de dados, é sua tarefa analisar o dataset e \"inferir\" o que são as colunas e a sua organização."
      ],
      "metadata": {
        "id": "vzAsBKnPys5Y"
      },
      "id": "vzAsBKnPys5Y"
    },
    {
      "cell_type": "markdown",
      "source": [
        "## Instalação de bibliotecas necessárias\n",
        "\n",
        "Instale neste local todas as bibliotecas necessárias para resolução da avaliação."
      ],
      "metadata": {
        "id": "MdNqwBRABn08"
      },
      "id": "MdNqwBRABn08"
    },
    {
      "cell_type": "code",
      "source": [
        "# Instalação de bibliotecas básicas\n",
        "!pip install pandas plotly"
      ],
      "metadata": {
        "id": "IIpaALUHy5I8",
        "colab": {
          "base_uri": "https://localhost:8080/"
        },
        "outputId": "9cc4ee4e-5351-4dc6-a0cd-4664b80084cc"
      },
      "id": "IIpaALUHy5I8",
      "execution_count": 37,
      "outputs": [
        {
          "output_type": "stream",
          "name": "stdout",
          "text": [
            "Requirement already satisfied: pandas in /usr/local/lib/python3.10/dist-packages (2.1.4)\n",
            "Requirement already satisfied: plotly in /usr/local/lib/python3.10/dist-packages (5.15.0)\n",
            "Requirement already satisfied: numpy<2,>=1.22.4 in /usr/local/lib/python3.10/dist-packages (from pandas) (1.26.4)\n",
            "Requirement already satisfied: python-dateutil>=2.8.2 in /usr/local/lib/python3.10/dist-packages (from pandas) (2.8.2)\n",
            "Requirement already satisfied: pytz>=2020.1 in /usr/local/lib/python3.10/dist-packages (from pandas) (2024.2)\n",
            "Requirement already satisfied: tzdata>=2022.1 in /usr/local/lib/python3.10/dist-packages (from pandas) (2024.1)\n",
            "Requirement already satisfied: tenacity>=6.2.0 in /usr/local/lib/python3.10/dist-packages (from plotly) (9.0.0)\n",
            "Requirement already satisfied: packaging in /usr/local/lib/python3.10/dist-packages (from plotly) (24.1)\n",
            "Requirement already satisfied: six>=1.5 in /usr/local/lib/python3.10/dist-packages (from python-dateutil>=2.8.2->pandas) (1.16.0)\n"
          ]
        }
      ]
    },
    {
      "cell_type": "markdown",
      "source": [
        "## Estatísticas básicas do dataset\n",
        "\n",
        "\n",
        "Carregue o arquivo de dados no notebook e exiba as características básicas do arquivo (shape, tipo de dados, dados ausentes, estatísticas básicas dos dados, etc)"
      ],
      "metadata": {
        "id": "Ls1X_rucBXzW"
      },
      "id": "Ls1X_rucBXzW"
    },
    {
      "cell_type": "code",
      "execution_count": 38,
      "id": "eb6e51a1-8178-42df-b858-ef1e7d076377",
      "metadata": {
        "editable": false,
        "tags": [],
        "id": "eb6e51a1-8178-42df-b858-ef1e7d076377"
      },
      "outputs": [],
      "source": [
        "import requests\n",
        "import pandas as pd\n",
        "import plotly.express as px\n",
        "import plotly.graph_objects as go\n",
        "\n",
        "from plotly.subplots import make_subplots\n",
        "from bs4 import BeautifulSoup\n",
        "\n",
        "file_path = '/content/matches.csv'\n",
        "data = pd.read_csv(file_path)\n",
        "\n",
        "data_cleaned = data.dropna(subset=['gf', 'ga', 'sh', 'sot'])"
      ]
    },
    {
      "cell_type": "markdown",
      "source": [
        "## Dia da semana com placares mais altos\n",
        "\n",
        "Crie um gráfico que responda em qual dia da semana os placares foram mais altos. O conceito de \"placar mais alto\" é a soma dos gols feitos no jogo.\n",
        "\n",
        "Como a quantidade de jogos não é a mesma em todos os dias da semana (finais de semana tendem a ter mais jogos que em dias da semana - o que resultaria em placares mais altos nestes dias), você deverá encontrar uma forma de equalizar esta diferença na quantidade de jogos.\n",
        "\n",
        "A resposta deverá ser um gráfico que demonstre claramente o comparativo dos dias."
      ],
      "metadata": {
        "id": "Jt0B8pj9z0bp"
      },
      "id": "Jt0B8pj9z0bp"
    },
    {
      "cell_type": "code",
      "execution_count": 48,
      "id": "1f5ed67c-45f5-43f4-b7f0-31bca0aa6579",
      "metadata": {
        "editable": true,
        "tags": [],
        "id": "1f5ed67c-45f5-43f4-b7f0-31bca0aa6579",
        "colab": {
          "base_uri": "https://localhost:8080/",
          "height": 542
        },
        "outputId": "71ed4f46-f3d4-467a-ec16-edebd0d445ba"
      },
      "outputs": [
        {
          "output_type": "display_data",
          "data": {
            "text/html": [
              "<html>\n",
              "<head><meta charset=\"utf-8\" /></head>\n",
              "<body>\n",
              "    <div>            <script src=\"https://cdnjs.cloudflare.com/ajax/libs/mathjax/2.7.5/MathJax.js?config=TeX-AMS-MML_SVG\"></script><script type=\"text/javascript\">if (window.MathJax && window.MathJax.Hub && window.MathJax.Hub.Config) {window.MathJax.Hub.Config({SVG: {font: \"STIX-Web\"}});}</script>                <script type=\"text/javascript\">window.PlotlyConfig = {MathJaxConfig: 'local'};</script>\n",
              "        <script charset=\"utf-8\" src=\"https://cdn.plot.ly/plotly-2.24.1.min.js\"></script>                <div id=\"2c4ccb31-b471-45cb-acd8-17f7564d4c32\" class=\"plotly-graph-div\" style=\"height:525px; width:100%;\"></div>            <script type=\"text/javascript\">                                    window.PLOTLYENV=window.PLOTLYENV || {};                                    if (document.getElementById(\"2c4ccb31-b471-45cb-acd8-17f7564d4c32\")) {                    Plotly.newPlot(                        \"2c4ccb31-b471-45cb-acd8-17f7564d4c32\",                        [{\"hovertemplate\":\"Dia da Semana=%{x}\\u003cbr\\u003eM\\u00e9dia de Gols por Jogo=%{y}\\u003cextra\\u003e\\u003c\\u002fextra\\u003e\",\"legendgroup\":\"\",\"line\":{\"color\":\"#636efa\",\"dash\":\"solid\"},\"marker\":{\"symbol\":\"circle\",\"color\":\"rgb(26, 118, 255)\",\"size\":10},\"mode\":\"lines+markers\",\"name\":\"\",\"orientation\":\"v\",\"showlegend\":false,\"x\":[\"Mon\",\"Tue\",\"Wed\",\"Thu\",\"Fri\",\"Sat\",\"Sun\"],\"xaxis\":\"x\",\"y\":[2.4038461538461537,2.897727272727273,2.632,2.4,2.5185185185185186,2.646098003629764,2.937649880095923],\"yaxis\":\"y\",\"type\":\"scatter\"}],                        {\"template\":{\"data\":{\"histogram2dcontour\":[{\"type\":\"histogram2dcontour\",\"colorbar\":{\"outlinewidth\":0,\"ticks\":\"\"},\"colorscale\":[[0.0,\"#0d0887\"],[0.1111111111111111,\"#46039f\"],[0.2222222222222222,\"#7201a8\"],[0.3333333333333333,\"#9c179e\"],[0.4444444444444444,\"#bd3786\"],[0.5555555555555556,\"#d8576b\"],[0.6666666666666666,\"#ed7953\"],[0.7777777777777778,\"#fb9f3a\"],[0.8888888888888888,\"#fdca26\"],[1.0,\"#f0f921\"]]}],\"choropleth\":[{\"type\":\"choropleth\",\"colorbar\":{\"outlinewidth\":0,\"ticks\":\"\"}}],\"histogram2d\":[{\"type\":\"histogram2d\",\"colorbar\":{\"outlinewidth\":0,\"ticks\":\"\"},\"colorscale\":[[0.0,\"#0d0887\"],[0.1111111111111111,\"#46039f\"],[0.2222222222222222,\"#7201a8\"],[0.3333333333333333,\"#9c179e\"],[0.4444444444444444,\"#bd3786\"],[0.5555555555555556,\"#d8576b\"],[0.6666666666666666,\"#ed7953\"],[0.7777777777777778,\"#fb9f3a\"],[0.8888888888888888,\"#fdca26\"],[1.0,\"#f0f921\"]]}],\"heatmap\":[{\"type\":\"heatmap\",\"colorbar\":{\"outlinewidth\":0,\"ticks\":\"\"},\"colorscale\":[[0.0,\"#0d0887\"],[0.1111111111111111,\"#46039f\"],[0.2222222222222222,\"#7201a8\"],[0.3333333333333333,\"#9c179e\"],[0.4444444444444444,\"#bd3786\"],[0.5555555555555556,\"#d8576b\"],[0.6666666666666666,\"#ed7953\"],[0.7777777777777778,\"#fb9f3a\"],[0.8888888888888888,\"#fdca26\"],[1.0,\"#f0f921\"]]}],\"heatmapgl\":[{\"type\":\"heatmapgl\",\"colorbar\":{\"outlinewidth\":0,\"ticks\":\"\"},\"colorscale\":[[0.0,\"#0d0887\"],[0.1111111111111111,\"#46039f\"],[0.2222222222222222,\"#7201a8\"],[0.3333333333333333,\"#9c179e\"],[0.4444444444444444,\"#bd3786\"],[0.5555555555555556,\"#d8576b\"],[0.6666666666666666,\"#ed7953\"],[0.7777777777777778,\"#fb9f3a\"],[0.8888888888888888,\"#fdca26\"],[1.0,\"#f0f921\"]]}],\"contourcarpet\":[{\"type\":\"contourcarpet\",\"colorbar\":{\"outlinewidth\":0,\"ticks\":\"\"}}],\"contour\":[{\"type\":\"contour\",\"colorbar\":{\"outlinewidth\":0,\"ticks\":\"\"},\"colorscale\":[[0.0,\"#0d0887\"],[0.1111111111111111,\"#46039f\"],[0.2222222222222222,\"#7201a8\"],[0.3333333333333333,\"#9c179e\"],[0.4444444444444444,\"#bd3786\"],[0.5555555555555556,\"#d8576b\"],[0.6666666666666666,\"#ed7953\"],[0.7777777777777778,\"#fb9f3a\"],[0.8888888888888888,\"#fdca26\"],[1.0,\"#f0f921\"]]}],\"surface\":[{\"type\":\"surface\",\"colorbar\":{\"outlinewidth\":0,\"ticks\":\"\"},\"colorscale\":[[0.0,\"#0d0887\"],[0.1111111111111111,\"#46039f\"],[0.2222222222222222,\"#7201a8\"],[0.3333333333333333,\"#9c179e\"],[0.4444444444444444,\"#bd3786\"],[0.5555555555555556,\"#d8576b\"],[0.6666666666666666,\"#ed7953\"],[0.7777777777777778,\"#fb9f3a\"],[0.8888888888888888,\"#fdca26\"],[1.0,\"#f0f921\"]]}],\"mesh3d\":[{\"type\":\"mesh3d\",\"colorbar\":{\"outlinewidth\":0,\"ticks\":\"\"}}],\"scatter\":[{\"fillpattern\":{\"fillmode\":\"overlay\",\"size\":10,\"solidity\":0.2},\"type\":\"scatter\"}],\"parcoords\":[{\"type\":\"parcoords\",\"line\":{\"colorbar\":{\"outlinewidth\":0,\"ticks\":\"\"}}}],\"scatterpolargl\":[{\"type\":\"scatterpolargl\",\"marker\":{\"colorbar\":{\"outlinewidth\":0,\"ticks\":\"\"}}}],\"bar\":[{\"error_x\":{\"color\":\"#2a3f5f\"},\"error_y\":{\"color\":\"#2a3f5f\"},\"marker\":{\"line\":{\"color\":\"#E5ECF6\",\"width\":0.5},\"pattern\":{\"fillmode\":\"overlay\",\"size\":10,\"solidity\":0.2}},\"type\":\"bar\"}],\"scattergeo\":[{\"type\":\"scattergeo\",\"marker\":{\"colorbar\":{\"outlinewidth\":0,\"ticks\":\"\"}}}],\"scatterpolar\":[{\"type\":\"scatterpolar\",\"marker\":{\"colorbar\":{\"outlinewidth\":0,\"ticks\":\"\"}}}],\"histogram\":[{\"marker\":{\"pattern\":{\"fillmode\":\"overlay\",\"size\":10,\"solidity\":0.2}},\"type\":\"histogram\"}],\"scattergl\":[{\"type\":\"scattergl\",\"marker\":{\"colorbar\":{\"outlinewidth\":0,\"ticks\":\"\"}}}],\"scatter3d\":[{\"type\":\"scatter3d\",\"line\":{\"colorbar\":{\"outlinewidth\":0,\"ticks\":\"\"}},\"marker\":{\"colorbar\":{\"outlinewidth\":0,\"ticks\":\"\"}}}],\"scattermapbox\":[{\"type\":\"scattermapbox\",\"marker\":{\"colorbar\":{\"outlinewidth\":0,\"ticks\":\"\"}}}],\"scatterternary\":[{\"type\":\"scatterternary\",\"marker\":{\"colorbar\":{\"outlinewidth\":0,\"ticks\":\"\"}}}],\"scattercarpet\":[{\"type\":\"scattercarpet\",\"marker\":{\"colorbar\":{\"outlinewidth\":0,\"ticks\":\"\"}}}],\"carpet\":[{\"aaxis\":{\"endlinecolor\":\"#2a3f5f\",\"gridcolor\":\"white\",\"linecolor\":\"white\",\"minorgridcolor\":\"white\",\"startlinecolor\":\"#2a3f5f\"},\"baxis\":{\"endlinecolor\":\"#2a3f5f\",\"gridcolor\":\"white\",\"linecolor\":\"white\",\"minorgridcolor\":\"white\",\"startlinecolor\":\"#2a3f5f\"},\"type\":\"carpet\"}],\"table\":[{\"cells\":{\"fill\":{\"color\":\"#EBF0F8\"},\"line\":{\"color\":\"white\"}},\"header\":{\"fill\":{\"color\":\"#C8D4E3\"},\"line\":{\"color\":\"white\"}},\"type\":\"table\"}],\"barpolar\":[{\"marker\":{\"line\":{\"color\":\"#E5ECF6\",\"width\":0.5},\"pattern\":{\"fillmode\":\"overlay\",\"size\":10,\"solidity\":0.2}},\"type\":\"barpolar\"}],\"pie\":[{\"automargin\":true,\"type\":\"pie\"}]},\"layout\":{\"autotypenumbers\":\"strict\",\"colorway\":[\"#636efa\",\"#EF553B\",\"#00cc96\",\"#ab63fa\",\"#FFA15A\",\"#19d3f3\",\"#FF6692\",\"#B6E880\",\"#FF97FF\",\"#FECB52\"],\"font\":{\"color\":\"#2a3f5f\"},\"hovermode\":\"closest\",\"hoverlabel\":{\"align\":\"left\"},\"paper_bgcolor\":\"white\",\"plot_bgcolor\":\"#E5ECF6\",\"polar\":{\"bgcolor\":\"#E5ECF6\",\"angularaxis\":{\"gridcolor\":\"white\",\"linecolor\":\"white\",\"ticks\":\"\"},\"radialaxis\":{\"gridcolor\":\"white\",\"linecolor\":\"white\",\"ticks\":\"\"}},\"ternary\":{\"bgcolor\":\"#E5ECF6\",\"aaxis\":{\"gridcolor\":\"white\",\"linecolor\":\"white\",\"ticks\":\"\"},\"baxis\":{\"gridcolor\":\"white\",\"linecolor\":\"white\",\"ticks\":\"\"},\"caxis\":{\"gridcolor\":\"white\",\"linecolor\":\"white\",\"ticks\":\"\"}},\"coloraxis\":{\"colorbar\":{\"outlinewidth\":0,\"ticks\":\"\"}},\"colorscale\":{\"sequential\":[[0.0,\"#0d0887\"],[0.1111111111111111,\"#46039f\"],[0.2222222222222222,\"#7201a8\"],[0.3333333333333333,\"#9c179e\"],[0.4444444444444444,\"#bd3786\"],[0.5555555555555556,\"#d8576b\"],[0.6666666666666666,\"#ed7953\"],[0.7777777777777778,\"#fb9f3a\"],[0.8888888888888888,\"#fdca26\"],[1.0,\"#f0f921\"]],\"sequentialminus\":[[0.0,\"#0d0887\"],[0.1111111111111111,\"#46039f\"],[0.2222222222222222,\"#7201a8\"],[0.3333333333333333,\"#9c179e\"],[0.4444444444444444,\"#bd3786\"],[0.5555555555555556,\"#d8576b\"],[0.6666666666666666,\"#ed7953\"],[0.7777777777777778,\"#fb9f3a\"],[0.8888888888888888,\"#fdca26\"],[1.0,\"#f0f921\"]],\"diverging\":[[0,\"#8e0152\"],[0.1,\"#c51b7d\"],[0.2,\"#de77ae\"],[0.3,\"#f1b6da\"],[0.4,\"#fde0ef\"],[0.5,\"#f7f7f7\"],[0.6,\"#e6f5d0\"],[0.7,\"#b8e186\"],[0.8,\"#7fbc41\"],[0.9,\"#4d9221\"],[1,\"#276419\"]]},\"xaxis\":{\"gridcolor\":\"white\",\"linecolor\":\"white\",\"ticks\":\"\",\"title\":{\"standoff\":15},\"zerolinecolor\":\"white\",\"automargin\":true,\"zerolinewidth\":2},\"yaxis\":{\"gridcolor\":\"white\",\"linecolor\":\"white\",\"ticks\":\"\",\"title\":{\"standoff\":15},\"zerolinecolor\":\"white\",\"automargin\":true,\"zerolinewidth\":2},\"scene\":{\"xaxis\":{\"backgroundcolor\":\"#E5ECF6\",\"gridcolor\":\"white\",\"linecolor\":\"white\",\"showbackground\":true,\"ticks\":\"\",\"zerolinecolor\":\"white\",\"gridwidth\":2},\"yaxis\":{\"backgroundcolor\":\"#E5ECF6\",\"gridcolor\":\"white\",\"linecolor\":\"white\",\"showbackground\":true,\"ticks\":\"\",\"zerolinecolor\":\"white\",\"gridwidth\":2},\"zaxis\":{\"backgroundcolor\":\"#E5ECF6\",\"gridcolor\":\"white\",\"linecolor\":\"white\",\"showbackground\":true,\"ticks\":\"\",\"zerolinecolor\":\"white\",\"gridwidth\":2}},\"shapedefaults\":{\"line\":{\"color\":\"#2a3f5f\"}},\"annotationdefaults\":{\"arrowcolor\":\"#2a3f5f\",\"arrowhead\":0,\"arrowwidth\":1},\"geo\":{\"bgcolor\":\"white\",\"landcolor\":\"#E5ECF6\",\"subunitcolor\":\"white\",\"showland\":true,\"showlakes\":true,\"lakecolor\":\"white\"},\"title\":{\"x\":0.05},\"mapbox\":{\"style\":\"light\"}}},\"xaxis\":{\"anchor\":\"y\",\"domain\":[0.0,1.0],\"title\":{\"text\":\"Dia da Semana\"}},\"yaxis\":{\"anchor\":\"x\",\"domain\":[0.0,1.0],\"title\":{\"text\":\"M\\u00e9dia de Gols por Jogo\"},\"range\":[0,6]},\"legend\":{\"tracegroupgap\":0},\"title\":{\"text\":\"M\\u00e9dia de Gols por Jogo em Cada Dia da Semana (Equalizado por Jogos)\"},\"shapes\":[{\"line\":{\"color\":\"green\",\"dash\":\"dot\"},\"type\":\"line\",\"x0\":0,\"x1\":1,\"xref\":\"x domain\",\"y0\":2.6336914041168042,\"y1\":2.6336914041168042,\"yref\":\"y\"}],\"annotations\":[{\"showarrow\":false,\"text\":\"M\\u00e9dia Global: 2.63 gols\",\"x\":1,\"xanchor\":\"right\",\"xref\":\"x domain\",\"y\":2.6336914041168042,\"yanchor\":\"top\",\"yref\":\"y\"},{\"arrowhead\":2,\"showarrow\":true,\"text\":\"M\\u00e1xima: 2.94 gols\",\"x\":\"Sun\",\"y\":2.937649880095923},{\"arrowhead\":2,\"showarrow\":true,\"text\":\"M\\u00ednima: 2.40 gols\",\"x\":\"Thu\",\"y\":2.4}]},                        {\"responsive\": true}                    ).then(function(){\n",
              "                            \n",
              "var gd = document.getElementById('2c4ccb31-b471-45cb-acd8-17f7564d4c32');\n",
              "var x = new MutationObserver(function (mutations, observer) {{\n",
              "        var display = window.getComputedStyle(gd).display;\n",
              "        if (!display || display === 'none') {{\n",
              "            console.log([gd, 'removed!']);\n",
              "            Plotly.purge(gd);\n",
              "            observer.disconnect();\n",
              "        }}\n",
              "}});\n",
              "\n",
              "// Listen for the removal of the full notebook cells\n",
              "var notebookContainer = gd.closest('#notebook-container');\n",
              "if (notebookContainer) {{\n",
              "    x.observe(notebookContainer, {childList: true});\n",
              "}}\n",
              "\n",
              "// Listen for the clearing of the current output cell\n",
              "var outputEl = gd.closest('.output');\n",
              "if (outputEl) {{\n",
              "    x.observe(outputEl, {childList: true});\n",
              "}}\n",
              "\n",
              "                        })                };                            </script>        </div>\n",
              "</body>\n",
              "</html>"
            ]
          },
          "metadata": {}
        }
      ],
      "source": [
        "data_cleaned['total_goals'] = data_cleaned['gf'] + data_cleaned['ga']\n",
        "\n",
        "games_per_day = data_cleaned['day'].value_counts()\n",
        "total_goals_per_day = data_cleaned.groupby('day')['total_goals'].sum()\n",
        "average_goals_per_game_day = total_goals_per_day / games_per_day\n",
        "\n",
        "ordered_days = ['Mon', 'Tue', 'Wed', 'Thu', 'Fri', 'Sat', 'Sun']\n",
        "average_goals_per_game_day = average_goals_per_game_day.reindex(ordered_days)\n",
        "\n",
        "fig_day_goals_line = px.line(average_goals_per_game_day.sort_index(),\n",
        "                             x=average_goals_per_game_day.index,\n",
        "                             y=average_goals_per_game_day.values,\n",
        "                             title='Média de Gols por Jogo em Cada Dia da Semana (Equalizado por Jogos)',\n",
        "                             labels={'x':'Dia da Semana', 'y':'Média de Gols por Jogo'},\n",
        "                             markers=True)\n",
        "\n",
        "fig_day_goals_line.update_yaxes(range=[0, 6])\n",
        "\n",
        "global_average_goals = average_goals_per_game_day.mean()\n",
        "fig_day_goals_line.add_hline(y=global_average_goals, line_dash=\"dot\", line_color=\"green\",\n",
        "                             annotation_text=f'Média Global: {global_average_goals:.2f} gols',\n",
        "                             annotation_position=\"bottom right\")\n",
        "\n",
        "max_day = average_goals_per_game_day.idxmax()\n",
        "min_day = average_goals_per_game_day.idxmin()\n",
        "fig_day_goals_line.add_annotation(x=max_day, y=average_goals_per_game_day[max_day],\n",
        "                                  text=f'Máxima: {average_goals_per_game_day[max_day]:.2f} gols',\n",
        "                                  showarrow=True, arrowhead=2)\n",
        "fig_day_goals_line.add_annotation(x=min_day, y=average_goals_per_game_day[min_day],\n",
        "                                  text=f'Mínima: {average_goals_per_game_day[min_day]:.2f} gols',\n",
        "                                  showarrow=True, arrowhead=2)\n",
        "\n",
        "fig_day_goals_line.update_traces(marker=dict(size=10, color='rgb(26, 118, 255)', symbol='circle'))\n",
        "\n",
        "fig_day_goals_line.show()\n"
      ]
    },
    {
      "cell_type": "markdown",
      "source": [
        "## Capitães\n",
        "\n",
        "Quantos capitães diferentes cada equipe teve durante a temporada?\n",
        "\n",
        "Responda em forma de um gráfico comparativo, apresentando os dados o mais claramente possível."
      ],
      "metadata": {
        "id": "6QES0KN752x2"
      },
      "id": "6QES0KN752x2"
    },
    {
      "cell_type": "code",
      "source": [
        "captains_per_team = data_cleaned.groupby('team')['captain'].nunique()\n",
        "captains_per_team_sorted = captains_per_team.sort_values(ascending=False)\n",
        "\n",
        "fig_captains = px.bar(captains_per_team_sorted,\n",
        "                      x=captains_per_team_sorted.index,\n",
        "                      y=captains_per_team_sorted.values,\n",
        "                      title='Número de Capitães Diferentes por Equipe na Temporada',\n",
        "                      labels={'x':'Equipe', 'y':'Número de Capitães Diferentes'},\n",
        "                      text=captains_per_team_sorted.values,\n",
        "                      color=captains_per_team_sorted.values,\n",
        "                      color_continuous_scale='Viridis')\n",
        "\n",
        "fig_captains.update_layout(\n",
        "    xaxis_title='Equipe',\n",
        "    yaxis_title='Número de Capitães Diferentes',\n",
        "    xaxis_tickangle=-45,\n",
        "    title_font_size=20,\n",
        "    xaxis_title_font_size=16,\n",
        "    yaxis_title_font_size=16,\n",
        "    coloraxis_colorbar=dict(\n",
        "        title='Número de Capitães',\n",
        "        tickvals=[0, max(captains_per_team_sorted)],\n",
        "        ticktext=['Menos', 'Mais']\n",
        "    ),\n",
        "    plot_bgcolor='rgba(0,0,0,0)',\n",
        "    paper_bgcolor='rgba(0,0,0,0)',\n",
        ")\n",
        "\n",
        "fig_captains.update_traces(texttemplate='%{text}', textposition='outside')\n",
        "\n",
        "fig_captains.show()\n"
      ],
      "metadata": {
        "id": "jaNf3AN1-fVm",
        "colab": {
          "base_uri": "https://localhost:8080/",
          "height": 542
        },
        "outputId": "42f2920b-a012-4e32-8ce6-79f5e57fa44d"
      },
      "id": "jaNf3AN1-fVm",
      "execution_count": 51,
      "outputs": [
        {
          "output_type": "display_data",
          "data": {
            "text/html": [
              "<html>\n",
              "<head><meta charset=\"utf-8\" /></head>\n",
              "<body>\n",
              "    <div>            <script src=\"https://cdnjs.cloudflare.com/ajax/libs/mathjax/2.7.5/MathJax.js?config=TeX-AMS-MML_SVG\"></script><script type=\"text/javascript\">if (window.MathJax && window.MathJax.Hub && window.MathJax.Hub.Config) {window.MathJax.Hub.Config({SVG: {font: \"STIX-Web\"}});}</script>                <script type=\"text/javascript\">window.PlotlyConfig = {MathJaxConfig: 'local'};</script>\n",
              "        <script charset=\"utf-8\" src=\"https://cdn.plot.ly/plotly-2.24.1.min.js\"></script>                <div id=\"1d239552-d4d8-46b1-90c7-72c73e818645\" class=\"plotly-graph-div\" style=\"height:525px; width:100%;\"></div>            <script type=\"text/javascript\">                                    window.PLOTLYENV=window.PLOTLYENV || {};                                    if (document.getElementById(\"1d239552-d4d8-46b1-90c7-72c73e818645\")) {                    Plotly.newPlot(                        \"1d239552-d4d8-46b1-90c7-72c73e818645\",                        [{\"alignmentgroup\":\"True\",\"hovertemplate\":\"team=%{x}\\u003cbr\\u003eN\\u00famero de Capit\\u00e3es Diferentes=%{y}\\u003cbr\\u003etext=%{text}\\u003cbr\\u003ecolor=%{marker.color}\\u003cextra\\u003e\\u003c\\u002fextra\\u003e\",\"legendgroup\":\"\",\"marker\":{\"color\":[7,7,6,6,6,6,5,5,5,4,4,4,4,3,3,3,2,2,2,2,2,2,1],\"coloraxis\":\"coloraxis\",\"pattern\":{\"shape\":\"\"}},\"name\":\"\",\"offsetgroup\":\"\",\"orientation\":\"v\",\"showlegend\":false,\"text\":[7.0,7.0,6.0,6.0,6.0,6.0,5.0,5.0,5.0,4.0,4.0,4.0,4.0,3.0,3.0,3.0,2.0,2.0,2.0,2.0,2.0,2.0,1.0],\"textposition\":\"outside\",\"x\":[\"Everton\",\"Crystal Palace\",\"Arsenal\",\"Brighton and Hove Albion\",\"Newcastle United\",\"Manchester City\",\"Watford\",\"Liverpool\",\"Chelsea\",\"Fulham\",\"Aston Villa\",\"Manchester United\",\"West Bromwich Albion\",\"Burnley\",\"Sheffield United\",\"West Ham United\",\"Leeds United\",\"Norwich City\",\"Southampton\",\"Tottenham Hotspur\",\"Brentford\",\"Wolverhampton Wanderers\",\"Leicester City\"],\"xaxis\":\"x\",\"y\":[7,7,6,6,6,6,5,5,5,4,4,4,4,3,3,3,2,2,2,2,2,2,1],\"yaxis\":\"y\",\"type\":\"bar\",\"texttemplate\":\"%{text}\"}],                        {\"template\":{\"data\":{\"histogram2dcontour\":[{\"type\":\"histogram2dcontour\",\"colorbar\":{\"outlinewidth\":0,\"ticks\":\"\"},\"colorscale\":[[0.0,\"#0d0887\"],[0.1111111111111111,\"#46039f\"],[0.2222222222222222,\"#7201a8\"],[0.3333333333333333,\"#9c179e\"],[0.4444444444444444,\"#bd3786\"],[0.5555555555555556,\"#d8576b\"],[0.6666666666666666,\"#ed7953\"],[0.7777777777777778,\"#fb9f3a\"],[0.8888888888888888,\"#fdca26\"],[1.0,\"#f0f921\"]]}],\"choropleth\":[{\"type\":\"choropleth\",\"colorbar\":{\"outlinewidth\":0,\"ticks\":\"\"}}],\"histogram2d\":[{\"type\":\"histogram2d\",\"colorbar\":{\"outlinewidth\":0,\"ticks\":\"\"},\"colorscale\":[[0.0,\"#0d0887\"],[0.1111111111111111,\"#46039f\"],[0.2222222222222222,\"#7201a8\"],[0.3333333333333333,\"#9c179e\"],[0.4444444444444444,\"#bd3786\"],[0.5555555555555556,\"#d8576b\"],[0.6666666666666666,\"#ed7953\"],[0.7777777777777778,\"#fb9f3a\"],[0.8888888888888888,\"#fdca26\"],[1.0,\"#f0f921\"]]}],\"heatmap\":[{\"type\":\"heatmap\",\"colorbar\":{\"outlinewidth\":0,\"ticks\":\"\"},\"colorscale\":[[0.0,\"#0d0887\"],[0.1111111111111111,\"#46039f\"],[0.2222222222222222,\"#7201a8\"],[0.3333333333333333,\"#9c179e\"],[0.4444444444444444,\"#bd3786\"],[0.5555555555555556,\"#d8576b\"],[0.6666666666666666,\"#ed7953\"],[0.7777777777777778,\"#fb9f3a\"],[0.8888888888888888,\"#fdca26\"],[1.0,\"#f0f921\"]]}],\"heatmapgl\":[{\"type\":\"heatmapgl\",\"colorbar\":{\"outlinewidth\":0,\"ticks\":\"\"},\"colorscale\":[[0.0,\"#0d0887\"],[0.1111111111111111,\"#46039f\"],[0.2222222222222222,\"#7201a8\"],[0.3333333333333333,\"#9c179e\"],[0.4444444444444444,\"#bd3786\"],[0.5555555555555556,\"#d8576b\"],[0.6666666666666666,\"#ed7953\"],[0.7777777777777778,\"#fb9f3a\"],[0.8888888888888888,\"#fdca26\"],[1.0,\"#f0f921\"]]}],\"contourcarpet\":[{\"type\":\"contourcarpet\",\"colorbar\":{\"outlinewidth\":0,\"ticks\":\"\"}}],\"contour\":[{\"type\":\"contour\",\"colorbar\":{\"outlinewidth\":0,\"ticks\":\"\"},\"colorscale\":[[0.0,\"#0d0887\"],[0.1111111111111111,\"#46039f\"],[0.2222222222222222,\"#7201a8\"],[0.3333333333333333,\"#9c179e\"],[0.4444444444444444,\"#bd3786\"],[0.5555555555555556,\"#d8576b\"],[0.6666666666666666,\"#ed7953\"],[0.7777777777777778,\"#fb9f3a\"],[0.8888888888888888,\"#fdca26\"],[1.0,\"#f0f921\"]]}],\"surface\":[{\"type\":\"surface\",\"colorbar\":{\"outlinewidth\":0,\"ticks\":\"\"},\"colorscale\":[[0.0,\"#0d0887\"],[0.1111111111111111,\"#46039f\"],[0.2222222222222222,\"#7201a8\"],[0.3333333333333333,\"#9c179e\"],[0.4444444444444444,\"#bd3786\"],[0.5555555555555556,\"#d8576b\"],[0.6666666666666666,\"#ed7953\"],[0.7777777777777778,\"#fb9f3a\"],[0.8888888888888888,\"#fdca26\"],[1.0,\"#f0f921\"]]}],\"mesh3d\":[{\"type\":\"mesh3d\",\"colorbar\":{\"outlinewidth\":0,\"ticks\":\"\"}}],\"scatter\":[{\"fillpattern\":{\"fillmode\":\"overlay\",\"size\":10,\"solidity\":0.2},\"type\":\"scatter\"}],\"parcoords\":[{\"type\":\"parcoords\",\"line\":{\"colorbar\":{\"outlinewidth\":0,\"ticks\":\"\"}}}],\"scatterpolargl\":[{\"type\":\"scatterpolargl\",\"marker\":{\"colorbar\":{\"outlinewidth\":0,\"ticks\":\"\"}}}],\"bar\":[{\"error_x\":{\"color\":\"#2a3f5f\"},\"error_y\":{\"color\":\"#2a3f5f\"},\"marker\":{\"line\":{\"color\":\"#E5ECF6\",\"width\":0.5},\"pattern\":{\"fillmode\":\"overlay\",\"size\":10,\"solidity\":0.2}},\"type\":\"bar\"}],\"scattergeo\":[{\"type\":\"scattergeo\",\"marker\":{\"colorbar\":{\"outlinewidth\":0,\"ticks\":\"\"}}}],\"scatterpolar\":[{\"type\":\"scatterpolar\",\"marker\":{\"colorbar\":{\"outlinewidth\":0,\"ticks\":\"\"}}}],\"histogram\":[{\"marker\":{\"pattern\":{\"fillmode\":\"overlay\",\"size\":10,\"solidity\":0.2}},\"type\":\"histogram\"}],\"scattergl\":[{\"type\":\"scattergl\",\"marker\":{\"colorbar\":{\"outlinewidth\":0,\"ticks\":\"\"}}}],\"scatter3d\":[{\"type\":\"scatter3d\",\"line\":{\"colorbar\":{\"outlinewidth\":0,\"ticks\":\"\"}},\"marker\":{\"colorbar\":{\"outlinewidth\":0,\"ticks\":\"\"}}}],\"scattermapbox\":[{\"type\":\"scattermapbox\",\"marker\":{\"colorbar\":{\"outlinewidth\":0,\"ticks\":\"\"}}}],\"scatterternary\":[{\"type\":\"scatterternary\",\"marker\":{\"colorbar\":{\"outlinewidth\":0,\"ticks\":\"\"}}}],\"scattercarpet\":[{\"type\":\"scattercarpet\",\"marker\":{\"colorbar\":{\"outlinewidth\":0,\"ticks\":\"\"}}}],\"carpet\":[{\"aaxis\":{\"endlinecolor\":\"#2a3f5f\",\"gridcolor\":\"white\",\"linecolor\":\"white\",\"minorgridcolor\":\"white\",\"startlinecolor\":\"#2a3f5f\"},\"baxis\":{\"endlinecolor\":\"#2a3f5f\",\"gridcolor\":\"white\",\"linecolor\":\"white\",\"minorgridcolor\":\"white\",\"startlinecolor\":\"#2a3f5f\"},\"type\":\"carpet\"}],\"table\":[{\"cells\":{\"fill\":{\"color\":\"#EBF0F8\"},\"line\":{\"color\":\"white\"}},\"header\":{\"fill\":{\"color\":\"#C8D4E3\"},\"line\":{\"color\":\"white\"}},\"type\":\"table\"}],\"barpolar\":[{\"marker\":{\"line\":{\"color\":\"#E5ECF6\",\"width\":0.5},\"pattern\":{\"fillmode\":\"overlay\",\"size\":10,\"solidity\":0.2}},\"type\":\"barpolar\"}],\"pie\":[{\"automargin\":true,\"type\":\"pie\"}]},\"layout\":{\"autotypenumbers\":\"strict\",\"colorway\":[\"#636efa\",\"#EF553B\",\"#00cc96\",\"#ab63fa\",\"#FFA15A\",\"#19d3f3\",\"#FF6692\",\"#B6E880\",\"#FF97FF\",\"#FECB52\"],\"font\":{\"color\":\"#2a3f5f\"},\"hovermode\":\"closest\",\"hoverlabel\":{\"align\":\"left\"},\"paper_bgcolor\":\"white\",\"plot_bgcolor\":\"#E5ECF6\",\"polar\":{\"bgcolor\":\"#E5ECF6\",\"angularaxis\":{\"gridcolor\":\"white\",\"linecolor\":\"white\",\"ticks\":\"\"},\"radialaxis\":{\"gridcolor\":\"white\",\"linecolor\":\"white\",\"ticks\":\"\"}},\"ternary\":{\"bgcolor\":\"#E5ECF6\",\"aaxis\":{\"gridcolor\":\"white\",\"linecolor\":\"white\",\"ticks\":\"\"},\"baxis\":{\"gridcolor\":\"white\",\"linecolor\":\"white\",\"ticks\":\"\"},\"caxis\":{\"gridcolor\":\"white\",\"linecolor\":\"white\",\"ticks\":\"\"}},\"coloraxis\":{\"colorbar\":{\"outlinewidth\":0,\"ticks\":\"\"}},\"colorscale\":{\"sequential\":[[0.0,\"#0d0887\"],[0.1111111111111111,\"#46039f\"],[0.2222222222222222,\"#7201a8\"],[0.3333333333333333,\"#9c179e\"],[0.4444444444444444,\"#bd3786\"],[0.5555555555555556,\"#d8576b\"],[0.6666666666666666,\"#ed7953\"],[0.7777777777777778,\"#fb9f3a\"],[0.8888888888888888,\"#fdca26\"],[1.0,\"#f0f921\"]],\"sequentialminus\":[[0.0,\"#0d0887\"],[0.1111111111111111,\"#46039f\"],[0.2222222222222222,\"#7201a8\"],[0.3333333333333333,\"#9c179e\"],[0.4444444444444444,\"#bd3786\"],[0.5555555555555556,\"#d8576b\"],[0.6666666666666666,\"#ed7953\"],[0.7777777777777778,\"#fb9f3a\"],[0.8888888888888888,\"#fdca26\"],[1.0,\"#f0f921\"]],\"diverging\":[[0,\"#8e0152\"],[0.1,\"#c51b7d\"],[0.2,\"#de77ae\"],[0.3,\"#f1b6da\"],[0.4,\"#fde0ef\"],[0.5,\"#f7f7f7\"],[0.6,\"#e6f5d0\"],[0.7,\"#b8e186\"],[0.8,\"#7fbc41\"],[0.9,\"#4d9221\"],[1,\"#276419\"]]},\"xaxis\":{\"gridcolor\":\"white\",\"linecolor\":\"white\",\"ticks\":\"\",\"title\":{\"standoff\":15},\"zerolinecolor\":\"white\",\"automargin\":true,\"zerolinewidth\":2},\"yaxis\":{\"gridcolor\":\"white\",\"linecolor\":\"white\",\"ticks\":\"\",\"title\":{\"standoff\":15},\"zerolinecolor\":\"white\",\"automargin\":true,\"zerolinewidth\":2},\"scene\":{\"xaxis\":{\"backgroundcolor\":\"#E5ECF6\",\"gridcolor\":\"white\",\"linecolor\":\"white\",\"showbackground\":true,\"ticks\":\"\",\"zerolinecolor\":\"white\",\"gridwidth\":2},\"yaxis\":{\"backgroundcolor\":\"#E5ECF6\",\"gridcolor\":\"white\",\"linecolor\":\"white\",\"showbackground\":true,\"ticks\":\"\",\"zerolinecolor\":\"white\",\"gridwidth\":2},\"zaxis\":{\"backgroundcolor\":\"#E5ECF6\",\"gridcolor\":\"white\",\"linecolor\":\"white\",\"showbackground\":true,\"ticks\":\"\",\"zerolinecolor\":\"white\",\"gridwidth\":2}},\"shapedefaults\":{\"line\":{\"color\":\"#2a3f5f\"}},\"annotationdefaults\":{\"arrowcolor\":\"#2a3f5f\",\"arrowhead\":0,\"arrowwidth\":1},\"geo\":{\"bgcolor\":\"white\",\"landcolor\":\"#E5ECF6\",\"subunitcolor\":\"white\",\"showland\":true,\"showlakes\":true,\"lakecolor\":\"white\"},\"title\":{\"x\":0.05},\"mapbox\":{\"style\":\"light\"}}},\"xaxis\":{\"anchor\":\"y\",\"domain\":[0.0,1.0],\"title\":{\"text\":\"Equipe\",\"font\":{\"size\":16}},\"tickangle\":-45},\"yaxis\":{\"anchor\":\"x\",\"domain\":[0.0,1.0],\"title\":{\"text\":\"N\\u00famero de Capit\\u00e3es Diferentes\",\"font\":{\"size\":16}}},\"coloraxis\":{\"colorbar\":{\"title\":{\"text\":\"N\\u00famero de Capit\\u00e3es\"},\"tickvals\":[0,7],\"ticktext\":[\"Menos\",\"Mais\"]},\"colorscale\":[[0.0,\"#440154\"],[0.1111111111111111,\"#482878\"],[0.2222222222222222,\"#3e4989\"],[0.3333333333333333,\"#31688e\"],[0.4444444444444444,\"#26828e\"],[0.5555555555555556,\"#1f9e89\"],[0.6666666666666666,\"#35b779\"],[0.7777777777777778,\"#6ece58\"],[0.8888888888888888,\"#b5de2b\"],[1.0,\"#fde725\"]]},\"legend\":{\"tracegroupgap\":0},\"title\":{\"text\":\"N\\u00famero de Capit\\u00e3es Diferentes por Equipe na Temporada\",\"font\":{\"size\":20}},\"barmode\":\"relative\",\"plot_bgcolor\":\"rgba(0,0,0,0)\",\"paper_bgcolor\":\"rgba(0,0,0,0)\"},                        {\"responsive\": true}                    ).then(function(){\n",
              "                            \n",
              "var gd = document.getElementById('1d239552-d4d8-46b1-90c7-72c73e818645');\n",
              "var x = new MutationObserver(function (mutations, observer) {{\n",
              "        var display = window.getComputedStyle(gd).display;\n",
              "        if (!display || display === 'none') {{\n",
              "            console.log([gd, 'removed!']);\n",
              "            Plotly.purge(gd);\n",
              "            observer.disconnect();\n",
              "        }}\n",
              "}});\n",
              "\n",
              "// Listen for the removal of the full notebook cells\n",
              "var notebookContainer = gd.closest('#notebook-container');\n",
              "if (notebookContainer) {{\n",
              "    x.observe(notebookContainer, {childList: true});\n",
              "}}\n",
              "\n",
              "// Listen for the clearing of the current output cell\n",
              "var outputEl = gd.closest('.output');\n",
              "if (outputEl) {{\n",
              "    x.observe(outputEl, {childList: true});\n",
              "}}\n",
              "\n",
              "                        })                };                            </script>        </div>\n",
              "</body>\n",
              "</html>"
            ]
          },
          "metadata": {}
        }
      ]
    },
    {
      "cell_type": "markdown",
      "source": [
        "## Formação Tática\n",
        "\n",
        "Qual a formação tática mais comum para cada equipe de acordo com o resultado obtido (Ex: para vitórias, a formação mais comum é X, para empates Y e para Z em derrotas).\n",
        "\n",
        "**Importante** responda de forma que seja possível fazer comparativos entre equipes.\n",
        "\n",
        "Responda com um gráfico."
      ],
      "metadata": {
        "id": "7HVSnlK6-iDd"
      },
      "id": "7HVSnlK6-iDd"
    },
    {
      "cell_type": "code",
      "source": [
        "formation_counts = data_cleaned.groupby(['team', 'result', 'formation']).size().reset_index(name='count')\n",
        "\n",
        "fig_formation = px.bar(formation_counts,\n",
        "                       x='team',\n",
        "                       y='count',\n",
        "                       color='formation',\n",
        "                       text='count',\n",
        "                       facet_col='result',\n",
        "                       title='Frequência das Formaçőes Táticas por Equipe e Resultado',\n",
        "                       labels={'team': 'Equipe', 'count': 'Frequência', 'formation': 'Formação', 'result': 'Resultado'},\n",
        "                       color_discrete_map={'4-3-3': 'blue'},\n",
        "                       facet_col_wrap=3,\n",
        "                       height=600)\n",
        "\n",
        "fig_formation.update_layout(\n",
        "    xaxis_title='Equipe',\n",
        "    yaxis_title='Frequência',\n",
        "    xaxis_tickangle=-45,\n",
        "    title_font_size=20,\n",
        "    xaxis_title_font_size=16,\n",
        "    yaxis_title_font_size=16,\n",
        "    legend_title='Formação',\n",
        "    legend_title_font_size=16,\n",
        "    legend_font_size=14,\n",
        "    plot_bgcolor='rgba(0,0,0,0)',\n",
        "    paper_bgcolor='rgba(0,0,0,0)',\n",
        ")\n",
        "\n",
        "fig_formation.update_traces(texttemplate='%{text}', textposition='outside')\n",
        "\n",
        "fig_formation.show()"
      ],
      "metadata": {
        "id": "v0jNd2oP-om1",
        "colab": {
          "base_uri": "https://localhost:8080/",
          "height": 617
        },
        "outputId": "5742499b-e677-4d01-a8fa-2d6b67b8d823"
      },
      "id": "v0jNd2oP-om1",
      "execution_count": 55,
      "outputs": [
        {
          "output_type": "display_data",
          "data": {
            "text/html": [
              "<html>\n",
              "<head><meta charset=\"utf-8\" /></head>\n",
              "<body>\n",
              "    <div>            <script src=\"https://cdnjs.cloudflare.com/ajax/libs/mathjax/2.7.5/MathJax.js?config=TeX-AMS-MML_SVG\"></script><script type=\"text/javascript\">if (window.MathJax && window.MathJax.Hub && window.MathJax.Hub.Config) {window.MathJax.Hub.Config({SVG: {font: \"STIX-Web\"}});}</script>                <script type=\"text/javascript\">window.PlotlyConfig = {MathJaxConfig: 'local'};</script>\n",
              "        <script charset=\"utf-8\" src=\"https://cdn.plot.ly/plotly-2.24.1.min.js\"></script>                <div id=\"732c6dfc-cb51-4572-bef5-3cc53617be9d\" class=\"plotly-graph-div\" style=\"height:600px; width:100%;\"></div>            <script type=\"text/javascript\">                                    window.PLOTLYENV=window.PLOTLYENV || {};                                    if (document.getElementById(\"732c6dfc-cb51-4572-bef5-3cc53617be9d\")) {                    Plotly.newPlot(                        \"732c6dfc-cb51-4572-bef5-3cc53617be9d\",                        [{\"alignmentgroup\":\"True\",\"hovertemplate\":\"Forma\\u00e7\\u00e3o=3-4-3\\u003cbr\\u003eResultado=D\\u003cbr\\u003eEquipe=%{x}\\u003cbr\\u003eFrequ\\u00eancia=%{text}\\u003cextra\\u003e\\u003c\\u002fextra\\u003e\",\"legendgroup\":\"3-4-3\",\"marker\":{\"color\":\"#EF553B\",\"pattern\":{\"shape\":\"\"}},\"name\":\"3-4-3\",\"offsetgroup\":\"3-4-3\",\"orientation\":\"v\",\"showlegend\":true,\"text\":[1.0,1.0,10.0,10.0,2.0,6.0,2.0,5.0,3.0,1.0,2.0,7.0],\"textposition\":\"outside\",\"x\":[\"Arsenal\",\"Brentford\",\"Brighton and Hove Albion\",\"Chelsea\",\"Everton\",\"Fulham\",\"Leeds United\",\"Newcastle United\",\"Tottenham Hotspur\",\"West Bromwich Albion\",\"West Ham United\",\"Wolverhampton Wanderers\"],\"xaxis\":\"x\",\"y\":[1,1,10,10,2,6,2,5,3,1,2,7],\"yaxis\":\"y\",\"type\":\"bar\",\"texttemplate\":\"%{text}\"},{\"alignmentgroup\":\"True\",\"hovertemplate\":\"Forma\\u00e7\\u00e3o=3-4-3\\u003cbr\\u003eResultado=L\\u003cbr\\u003eEquipe=%{x}\\u003cbr\\u003eFrequ\\u00eancia=%{text}\\u003cextra\\u003e\\u003c\\u002fextra\\u003e\",\"legendgroup\":\"3-4-3\",\"marker\":{\"color\":\"#EF553B\",\"pattern\":{\"shape\":\"\"}},\"name\":\"3-4-3\",\"offsetgroup\":\"3-4-3\",\"orientation\":\"v\",\"showlegend\":false,\"text\":[6.0,5.0,5.0,4.0,6.0,2.0,5.0,1.0,5.0,3.0,1.0,7.0,1.0,3.0,5.0,18.0],\"textposition\":\"outside\",\"x\":[\"Arsenal\",\"Brighton and Hove Albion\",\"Chelsea\",\"Everton\",\"Fulham\",\"Leeds United\",\"Leicester City\",\"Manchester United\",\"Newcastle United\",\"Sheffield United\",\"Southampton\",\"Tottenham Hotspur\",\"Watford\",\"West Bromwich Albion\",\"West Ham United\",\"Wolverhampton Wanderers\"],\"xaxis\":\"x2\",\"y\":[6,5,5,4,6,2,5,1,5,3,1,7,1,3,5,18],\"yaxis\":\"y2\",\"type\":\"bar\",\"texttemplate\":\"%{text}\"},{\"alignmentgroup\":\"True\",\"hovertemplate\":\"Forma\\u00e7\\u00e3o=3-4-3\\u003cbr\\u003eResultado=W\\u003cbr\\u003eEquipe=%{x}\\u003cbr\\u003eFrequ\\u00eancia=%{text}\\u003cextra\\u003e\\u003c\\u002fextra\\u003e\",\"legendgroup\":\"3-4-3\",\"marker\":{\"color\":\"#EF553B\",\"pattern\":{\"shape\":\"\"}},\"name\":\"3-4-3\",\"offsetgroup\":\"3-4-3\",\"orientation\":\"v\",\"showlegend\":false,\"text\":[4.0,4.0,22.0,2.0,1.0,2.0,6.0,1.0,2.0,1.0,13.0,1.0,7.0,16.0],\"textposition\":\"outside\",\"x\":[\"Arsenal\",\"Brighton and Hove Albion\",\"Chelsea\",\"Everton\",\"Fulham\",\"Leeds United\",\"Leicester City\",\"Manchester City\",\"Sheffield United\",\"Southampton\",\"Tottenham Hotspur\",\"West Bromwich Albion\",\"West Ham United\",\"Wolverhampton Wanderers\"],\"xaxis\":\"x3\",\"y\":[4,4,22,2,1,2,6,1,2,1,13,1,7,16],\"yaxis\":\"y3\",\"type\":\"bar\",\"texttemplate\":\"%{text}\"},{\"alignmentgroup\":\"True\",\"hovertemplate\":\"Forma\\u00e7\\u00e3o=4-1-4-1\\u003cbr\\u003eResultado=D\\u003cbr\\u003eEquipe=%{x}\\u003cbr\\u003eFrequ\\u00eancia=%{text}\\u003cextra\\u003e\\u003c\\u002fextra\\u003e\",\"legendgroup\":\"4-1-4-1\",\"marker\":{\"color\":\"#00cc96\",\"pattern\":{\"shape\":\"\"}},\"name\":\"4-1-4-1\",\"offsetgroup\":\"4-1-4-1\",\"orientation\":\"v\",\"showlegend\":true,\"text\":[2.0,1.0,5.0,1.0,1.0,2.0,1.0,6.0],\"textposition\":\"outside\",\"x\":[\"Arsenal\",\"Brighton and Hove Albion\",\"Leeds United\",\"Leicester City\",\"Newcastle United\",\"Norwich City\",\"Southampton\",\"West Bromwich Albion\"],\"xaxis\":\"x\",\"y\":[2,1,5,1,1,2,1,6],\"yaxis\":\"y\",\"type\":\"bar\",\"texttemplate\":\"%{text}\"},{\"alignmentgroup\":\"True\",\"hovertemplate\":\"Forma\\u00e7\\u00e3o=4-1-4-1\\u003cbr\\u003eResultado=L\\u003cbr\\u003eEquipe=%{x}\\u003cbr\\u003eFrequ\\u00eancia=%{text}\\u003cextra\\u003e\\u003c\\u002fextra\\u003e\",\"legendgroup\":\"4-1-4-1\",\"marker\":{\"color\":\"#00cc96\",\"pattern\":{\"shape\":\"\"}},\"name\":\"4-1-4-1\",\"offsetgroup\":\"4-1-4-1\",\"orientation\":\"v\",\"showlegend\":false,\"text\":[1.0,1.0,1.0,15.0,2.0,4.0,1.0,5.0,6.0],\"textposition\":\"outside\",\"x\":[\"Aston Villa\",\"Crystal Palace\",\"Everton\",\"Leeds United\",\"Leicester City\",\"Newcastle United\",\"Norwich City\",\"Watford\",\"West Bromwich Albion\"],\"xaxis\":\"x2\",\"y\":[1,1,1,15,2,4,1,5,6],\"yaxis\":\"y2\",\"type\":\"bar\",\"texttemplate\":\"%{text}\"},{\"alignmentgroup\":\"True\",\"hovertemplate\":\"Forma\\u00e7\\u00e3o=4-1-4-1\\u003cbr\\u003eResultado=W\\u003cbr\\u003eEquipe=%{x}\\u003cbr\\u003eFrequ\\u00eancia=%{text}\\u003cextra\\u003e\\u003c\\u002fextra\\u003e\",\"legendgroup\":\"4-1-4-1\",\"marker\":{\"color\":\"#00cc96\",\"pattern\":{\"shape\":\"\"}},\"name\":\"4-1-4-1\",\"offsetgroup\":\"4-1-4-1\",\"orientation\":\"v\",\"showlegend\":false,\"text\":[1.0,1.0,1.0,13.0,3.0,1.0,2.0,1.0],\"textposition\":\"outside\",\"x\":[\"Arsenal\",\"Brentford\",\"Brighton and Hove Albion\",\"Leeds United\",\"Leicester City\",\"Southampton\",\"Watford\",\"West Bromwich Albion\"],\"xaxis\":\"x3\",\"y\":[1,1,1,13,3,1,2,1],\"yaxis\":\"y3\",\"type\":\"bar\",\"texttemplate\":\"%{text}\"},{\"alignmentgroup\":\"True\",\"hovertemplate\":\"Forma\\u00e7\\u00e3o=4-2-3-1\\u003cbr\\u003eResultado=D\\u003cbr\\u003eEquipe=%{x}\\u003cbr\\u003eFrequ\\u00eancia=%{text}\\u003cextra\\u003e\\u003c\\u002fextra\\u003e\",\"legendgroup\":\"4-2-3-1\",\"marker\":{\"color\":\"#ab63fa\",\"pattern\":{\"shape\":\"\"}},\"name\":\"4-2-3-1\",\"offsetgroup\":\"4-2-3-1\",\"orientation\":\"v\",\"showlegend\":true,\"text\":[7.0,5.0,4.0,4.0,3.0,4.0,5.0,8.0,1.0,4.0,16.0,5.0,1.0,11.0,3.0],\"textposition\":\"outside\",\"x\":[\"Arsenal\",\"Aston Villa\",\"Brighton and Hove Albion\",\"Chelsea\",\"Crystal Palace\",\"Fulham\",\"Leeds United\",\"Leicester City\",\"Liverpool\",\"Manchester City\",\"Manchester United\",\"Tottenham Hotspur\",\"Watford\",\"West Ham United\",\"Wolverhampton Wanderers\"],\"xaxis\":\"x\",\"y\":[7,5,4,4,3,4,5,8,1,4,16,5,1,11,3],\"yaxis\":\"y\",\"type\":\"bar\",\"texttemplate\":\"%{text}\"},{\"alignmentgroup\":\"True\",\"hovertemplate\":\"Forma\\u00e7\\u00e3o=4-2-3-1\\u003cbr\\u003eResultado=L\\u003cbr\\u003eEquipe=%{x}\\u003cbr\\u003eFrequ\\u00eancia=%{text}\\u003cextra\\u003e\\u003c\\u002fextra\\u003e\",\"legendgroup\":\"4-2-3-1\",\"marker\":{\"color\":\"#ab63fa\",\"pattern\":{\"shape\":\"\"}},\"name\":\"4-2-3-1\",\"offsetgroup\":\"4-2-3-1\",\"orientation\":\"v\",\"showlegend\":false,\"text\":[14.0,13.0,4.0,5.0,5.0,9.0,6.0,7.0,1.0,12.0,5.0,1.0,10.0,2.0,1.0,12.0,3.0],\"textposition\":\"outside\",\"x\":[\"Arsenal\",\"Aston Villa\",\"Brighton and Hove Albion\",\"Crystal Palace\",\"Everton\",\"Fulham\",\"Leeds United\",\"Leicester City\",\"Manchester City\",\"Manchester United\",\"Norwich City\",\"Southampton\",\"Tottenham Hotspur\",\"Watford\",\"West Bromwich Albion\",\"West Ham United\",\"Wolverhampton Wanderers\"],\"xaxis\":\"x2\",\"y\":[14,13,4,5,5,9,6,7,1,12,5,1,10,2,1,12,3],\"yaxis\":\"y2\",\"type\":\"bar\",\"texttemplate\":\"%{text}\"},{\"alignmentgroup\":\"True\",\"hovertemplate\":\"Forma\\u00e7\\u00e3o=4-2-3-1\\u003cbr\\u003eResultado=W\\u003cbr\\u003eEquipe=%{x}\\u003cbr\\u003eFrequ\\u00eancia=%{text}\\u003cextra\\u003e\\u003c\\u002fextra\\u003e\",\"legendgroup\":\"4-2-3-1\",\"marker\":{\"color\":\"#ab63fa\",\"pattern\":{\"shape\":\"\"}},\"name\":\"4-2-3-1\",\"offsetgroup\":\"4-2-3-1\",\"orientation\":\"v\",\"showlegend\":false,\"text\":[25.0,12.0,1.0,3.0,6.0,2.0,3.0,11.0,1.0,8.0,29.0,2.0,17.0,1.0,1.0,27.0,4.0],\"textposition\":\"outside\",\"x\":[\"Arsenal\",\"Aston Villa\",\"Chelsea\",\"Crystal Palace\",\"Everton\",\"Fulham\",\"Leeds United\",\"Leicester City\",\"Liverpool\",\"Manchester City\",\"Manchester United\",\"Norwich City\",\"Tottenham Hotspur\",\"Watford\",\"West Bromwich Albion\",\"West Ham United\",\"Wolverhampton Wanderers\"],\"xaxis\":\"x3\",\"y\":[25,12,1,3,6,2,3,11,1,8,29,2,17,1,1,27,4],\"yaxis\":\"y3\",\"type\":\"bar\",\"texttemplate\":\"%{text}\"},{\"alignmentgroup\":\"True\",\"hovertemplate\":\"Forma\\u00e7\\u00e3o=4-3-3\\u003cbr\\u003eResultado=D\\u003cbr\\u003eEquipe=%{x}\\u003cbr\\u003eFrequ\\u00eancia=%{text}\\u003cextra\\u003e\\u003c\\u002fextra\\u003e\",\"legendgroup\":\"4-3-3\",\"marker\":{\"color\":\"blue\",\"pattern\":{\"shape\":\"\"}},\"name\":\"4-3-3\",\"offsetgroup\":\"4-3-3\",\"orientation\":\"v\",\"showlegend\":true,\"text\":[4.0,2.0,12.0,2.0,3.0,7.0,6.0,1.0,4.0,2.0,1.0],\"textposition\":\"outside\",\"x\":[\"Aston Villa\",\"Chelsea\",\"Crystal Palace\",\"Everton\",\"Leicester City\",\"Liverpool\",\"Manchester City\",\"Manchester United\",\"Newcastle United\",\"Watford\",\"Wolverhampton Wanderers\"],\"xaxis\":\"x\",\"y\":[4,2,12,2,3,7,6,1,4,2,1],\"yaxis\":\"y\",\"type\":\"bar\",\"texttemplate\":\"%{text}\"},{\"alignmentgroup\":\"True\",\"hovertemplate\":\"Forma\\u00e7\\u00e3o=4-3-3\\u003cbr\\u003eResultado=L\\u003cbr\\u003eEquipe=%{x}\\u003cbr\\u003eFrequ\\u00eancia=%{text}\\u003cextra\\u003e\\u003c\\u002fextra\\u003e\",\"legendgroup\":\"4-3-3\",\"marker\":{\"color\":\"blue\",\"pattern\":{\"shape\":\"\"}},\"name\":\"4-3-3\",\"offsetgroup\":\"4-3-3\",\"orientation\":\"v\",\"showlegend\":false,\"text\":[1.0,9.0,1.0,2.0,7.0,11.0,6.0,2.0,2.0,9.0,7.0,4.0,10.0,1.0,2.0,7.0,3.0],\"textposition\":\"outside\",\"x\":[\"Arsenal\",\"Aston Villa\",\"Brentford\",\"Brighton and Hove Albion\",\"Chelsea\",\"Crystal Palace\",\"Everton\",\"Fulham\",\"Leicester City\",\"Liverpool\",\"Manchester City\",\"Newcastle United\",\"Norwich City\",\"Southampton\",\"Tottenham Hotspur\",\"Watford\",\"Wolverhampton Wanderers\"],\"xaxis\":\"x2\",\"y\":[1,9,1,2,7,11,6,2,2,9,7,4,10,1,2,7,3],\"yaxis\":\"y2\",\"type\":\"bar\",\"texttemplate\":\"%{text}\"},{\"alignmentgroup\":\"True\",\"hovertemplate\":\"Forma\\u00e7\\u00e3o=4-3-3\\u003cbr\\u003eResultado=W\\u003cbr\\u003eEquipe=%{x}\\u003cbr\\u003eFrequ\\u00eancia=%{text}\\u003cextra\\u003e\\u003c\\u002fextra\\u003e\",\"legendgroup\":\"4-3-3\",\"marker\":{\"color\":\"blue\",\"pattern\":{\"shape\":\"\"}},\"name\":\"4-3-3\",\"offsetgroup\":\"4-3-3\",\"orientation\":\"v\",\"showlegend\":false,\"text\":[2.0,10.0,2.0,9.0,9.0,7.0,1.0,2.0,18.0,40.0,1.0,10.0,1.0,4.0,2.0],\"textposition\":\"outside\",\"x\":[\"Arsenal\",\"Aston Villa\",\"Brentford\",\"Chelsea\",\"Crystal Palace\",\"Everton\",\"Leeds United\",\"Leicester City\",\"Liverpool\",\"Manchester City\",\"Manchester United\",\"Newcastle United\",\"Norwich City\",\"Tottenham Hotspur\",\"Watford\"],\"xaxis\":\"x3\",\"y\":[2,10,2,9,9,7,1,2,18,40,1,10,1,4,2],\"yaxis\":\"y3\",\"type\":\"bar\",\"texttemplate\":\"%{text}\"},{\"alignmentgroup\":\"True\",\"hovertemplate\":\"Forma\\u00e7\\u00e3o=4-4-1-1\\u003cbr\\u003eResultado=D\\u003cbr\\u003eEquipe=%{x}\\u003cbr\\u003eFrequ\\u00eancia=%{text}\\u003cextra\\u003e\\u003c\\u002fextra\\u003e\",\"legendgroup\":\"4-4-1-1\",\"marker\":{\"color\":\"#FFA15A\",\"pattern\":{\"shape\":\"\"}},\"name\":\"4-4-1-1\",\"offsetgroup\":\"4-4-1-1\",\"orientation\":\"v\",\"showlegend\":true,\"text\":[3.0,1.0,1.0],\"textposition\":\"outside\",\"x\":[\"Everton\",\"Fulham\",\"Leeds United\"],\"xaxis\":\"x\",\"y\":[3,1,1],\"yaxis\":\"y\",\"type\":\"bar\",\"texttemplate\":\"%{text}\"},{\"alignmentgroup\":\"True\",\"hovertemplate\":\"Forma\\u00e7\\u00e3o=4-4-1-1\\u003cbr\\u003eResultado=L\\u003cbr\\u003eEquipe=%{x}\\u003cbr\\u003eFrequ\\u00eancia=%{text}\\u003cextra\\u003e\\u003c\\u002fextra\\u003e\",\"legendgroup\":\"4-4-1-1\",\"marker\":{\"color\":\"#FFA15A\",\"pattern\":{\"shape\":\"\"}},\"name\":\"4-4-1-1\",\"offsetgroup\":\"4-4-1-1\",\"orientation\":\"v\",\"showlegend\":false,\"text\":[2.0,1.0,4.0,6.0,3.0,1.0,1.0,1.0,1.0,8.0],\"textposition\":\"outside\",\"x\":[\"Arsenal\",\"Brighton and Hove Albion\",\"Burnley\",\"Everton\",\"Leeds United\",\"Leicester City\",\"Newcastle United\",\"Norwich City\",\"Watford\",\"West Bromwich Albion\"],\"xaxis\":\"x2\",\"y\":[2,1,4,6,3,1,1,1,1,8],\"yaxis\":\"y2\",\"type\":\"bar\",\"texttemplate\":\"%{text}\"},{\"alignmentgroup\":\"True\",\"hovertemplate\":\"Forma\\u00e7\\u00e3o=4-4-1-1\\u003cbr\\u003eResultado=W\\u003cbr\\u003eEquipe=%{x}\\u003cbr\\u003eFrequ\\u00eancia=%{text}\\u003cextra\\u003e\\u003c\\u002fextra\\u003e\",\"legendgroup\":\"4-4-1-1\",\"marker\":{\"color\":\"#FFA15A\",\"pattern\":{\"shape\":\"\"}},\"name\":\"4-4-1-1\",\"offsetgroup\":\"4-4-1-1\",\"orientation\":\"v\",\"showlegend\":false,\"text\":[5.0,1.0,3.0,2.0,1.0,1.0],\"textposition\":\"outside\",\"x\":[\"Arsenal\",\"Burnley\",\"Everton\",\"Leeds United\",\"Manchester City\",\"West Bromwich Albion\"],\"xaxis\":\"x3\",\"y\":[5,1,3,2,1,1],\"yaxis\":\"y3\",\"type\":\"bar\",\"texttemplate\":\"%{text}\"},{\"alignmentgroup\":\"True\",\"hovertemplate\":\"Forma\\u00e7\\u00e3o=4-4-2\\u003cbr\\u003eResultado=D\\u003cbr\\u003eEquipe=%{x}\\u003cbr\\u003eFrequ\\u00eancia=%{text}\\u003cextra\\u003e\\u003c\\u002fextra\\u003e\",\"legendgroup\":\"4-4-2\",\"marker\":{\"color\":\"#19d3f3\",\"pattern\":{\"shape\":\"\"}},\"name\":\"4-4-2\",\"offsetgroup\":\"4-4-2\",\"orientation\":\"v\",\"showlegend\":true,\"text\":[22.0,7.0,2.0,1.0,1.0,1.0,2.0,1.0,17.0,1.0,1.0],\"textposition\":\"outside\",\"x\":[\"Burnley\",\"Crystal Palace\",\"Everton\",\"Fulham\",\"Leicester City\",\"Liverpool\",\"Newcastle United\",\"Norwich City\",\"Southampton\",\"Tottenham Hotspur\",\"Watford\"],\"xaxis\":\"x\",\"y\":[22,7,2,1,1,1,2,1,17,1,1],\"yaxis\":\"y\",\"type\":\"bar\",\"texttemplate\":\"%{text}\"},{\"alignmentgroup\":\"True\",\"hovertemplate\":\"Forma\\u00e7\\u00e3o=4-4-2\\u003cbr\\u003eResultado=L\\u003cbr\\u003eEquipe=%{x}\\u003cbr\\u003eFrequ\\u00eancia=%{text}\\u003cextra\\u003e\\u003c\\u002fextra\\u003e\",\"legendgroup\":\"4-4-2\",\"marker\":{\"color\":\"#19d3f3\",\"pattern\":{\"shape\":\"\"}},\"name\":\"4-4-2\",\"offsetgroup\":\"4-4-2\",\"orientation\":\"v\",\"showlegend\":false,\"text\":[1.0,3.0,28.0,12.0,5.0,1.0,2.0,1.0,5.0,25.0,2.0,3.0,2.0],\"textposition\":\"outside\",\"x\":[\"Arsenal\",\"Brighton and Hove Albion\",\"Burnley\",\"Crystal Palace\",\"Everton\",\"Fulham\",\"Leicester City\",\"Manchester United\",\"Newcastle United\",\"Southampton\",\"Tottenham Hotspur\",\"Watford\",\"West Ham United\"],\"xaxis\":\"x2\",\"y\":[1,3,28,12,5,1,2,1,5,25,2,3,2],\"yaxis\":\"y2\",\"type\":\"bar\",\"texttemplate\":\"%{text}\"},{\"alignmentgroup\":\"True\",\"hovertemplate\":\"Forma\\u00e7\\u00e3o=4-4-2\\u003cbr\\u003eResultado=W\\u003cbr\\u003eEquipe=%{x}\\u003cbr\\u003eFrequ\\u00eancia=%{text}\\u003cextra\\u003e\\u003c\\u002fextra\\u003e\",\"legendgroup\":\"4-4-2\",\"marker\":{\"color\":\"#19d3f3\",\"pattern\":{\"shape\":\"\"}},\"name\":\"4-4-2\",\"offsetgroup\":\"4-4-2\",\"orientation\":\"v\",\"showlegend\":false,\"text\":[3.0,15.0,8.0,3.0,2.0,2.0,1.0,5.0,2.0,18.0,1.0],\"textposition\":\"outside\",\"x\":[\"Brighton and Hove Albion\",\"Burnley\",\"Crystal Palace\",\"Everton\",\"Fulham\",\"Leicester City\",\"Manchester United\",\"Newcastle United\",\"Norwich City\",\"Southampton\",\"Tottenham Hotspur\"],\"xaxis\":\"x3\",\"y\":[3,15,8,3,2,2,1,5,2,18,1],\"yaxis\":\"y3\",\"type\":\"bar\",\"texttemplate\":\"%{text}\"},{\"alignmentgroup\":\"True\",\"hovertemplate\":\"Forma\\u00e7\\u00e3o=4-3-2-1\\u003cbr\\u003eResultado=D\\u003cbr\\u003eEquipe=%{x}\\u003cbr\\u003eFrequ\\u00eancia=%{text}\\u003cextra\\u003e\\u003c\\u002fextra\\u003e\",\"legendgroup\":\"4-3-2-1\",\"marker\":{\"color\":\"#FF6692\",\"pattern\":{\"shape\":\"\"}},\"name\":\"4-3-2-1\",\"offsetgroup\":\"4-3-2-1\",\"orientation\":\"v\",\"showlegend\":true,\"text\":[1.0],\"textposition\":\"outside\",\"x\":[\"Aston Villa\"],\"xaxis\":\"x\",\"y\":[1],\"yaxis\":\"y\",\"type\":\"bar\",\"texttemplate\":\"%{text}\"},{\"alignmentgroup\":\"True\",\"hovertemplate\":\"Forma\\u00e7\\u00e3o=4-3-2-1\\u003cbr\\u003eResultado=L\\u003cbr\\u003eEquipe=%{x}\\u003cbr\\u003eFrequ\\u00eancia=%{text}\\u003cextra\\u003e\\u003c\\u002fextra\\u003e\",\"legendgroup\":\"4-3-2-1\",\"marker\":{\"color\":\"#FF6692\",\"pattern\":{\"shape\":\"\"}},\"name\":\"4-3-2-1\",\"offsetgroup\":\"4-3-2-1\",\"orientation\":\"v\",\"showlegend\":false,\"text\":[1.0,1.0,1.0],\"textposition\":\"outside\",\"x\":[\"Aston Villa\",\"Everton\",\"Tottenham Hotspur\"],\"xaxis\":\"x2\",\"y\":[1,1,1],\"yaxis\":\"y2\",\"type\":\"bar\",\"texttemplate\":\"%{text}\"},{\"alignmentgroup\":\"True\",\"hovertemplate\":\"Forma\\u00e7\\u00e3o=4-5-1\\u003cbr\\u003eResultado=D\\u003cbr\\u003eEquipe=%{x}\\u003cbr\\u003eFrequ\\u00eancia=%{text}\\u003cextra\\u003e\\u003c\\u002fextra\\u003e\",\"legendgroup\":\"4-5-1\",\"marker\":{\"color\":\"#B6E880\",\"pattern\":{\"shape\":\"\"}},\"name\":\"4-5-1\",\"offsetgroup\":\"4-5-1\",\"orientation\":\"v\",\"showlegend\":true,\"text\":[1.0,1.0,1.0,2.0,1.0],\"textposition\":\"outside\",\"x\":[\"Aston Villa\",\"Leeds United\",\"Newcastle United\",\"West Bromwich Albion\",\"West Ham United\"],\"xaxis\":\"x\",\"y\":[1,1,1,2,1],\"yaxis\":\"y\",\"type\":\"bar\",\"texttemplate\":\"%{text}\"},{\"alignmentgroup\":\"True\",\"hovertemplate\":\"Forma\\u00e7\\u00e3o=4-5-1\\u003cbr\\u003eResultado=L\\u003cbr\\u003eEquipe=%{x}\\u003cbr\\u003eFrequ\\u00eancia=%{text}\\u003cextra\\u003e\\u003c\\u002fextra\\u003e\",\"legendgroup\":\"4-5-1\",\"marker\":{\"color\":\"#B6E880\",\"pattern\":{\"shape\":\"\"}},\"name\":\"4-5-1\",\"offsetgroup\":\"4-5-1\",\"orientation\":\"v\",\"showlegend\":false,\"text\":[1.0,1.0,1.0,1.0,4.0],\"textposition\":\"outside\",\"x\":[\"Brentford\",\"Burnley\",\"Leeds United\",\"Newcastle United\",\"Watford\"],\"xaxis\":\"x2\",\"y\":[1,1,1,1,4],\"yaxis\":\"y2\",\"type\":\"bar\",\"texttemplate\":\"%{text}\"},{\"alignmentgroup\":\"True\",\"hovertemplate\":\"Forma\\u00e7\\u00e3o=4-5-1\\u003cbr\\u003eResultado=W\\u003cbr\\u003eEquipe=%{x}\\u003cbr\\u003eFrequ\\u00eancia=%{text}\\u003cextra\\u003e\\u003c\\u002fextra\\u003e\",\"legendgroup\":\"4-5-1\",\"marker\":{\"color\":\"#B6E880\",\"pattern\":{\"shape\":\"\"}},\"name\":\"4-5-1\",\"offsetgroup\":\"4-5-1\",\"orientation\":\"v\",\"showlegend\":false,\"text\":[1.0,1.0],\"textposition\":\"outside\",\"x\":[\"Brentford\",\"Watford\"],\"xaxis\":\"x3\",\"y\":[1,1],\"yaxis\":\"y3\",\"type\":\"bar\",\"texttemplate\":\"%{text}\"},{\"alignmentgroup\":\"True\",\"hovertemplate\":\"Forma\\u00e7\\u00e3o=3-4-1-2\\u003cbr\\u003eResultado=D\\u003cbr\\u003eEquipe=%{x}\\u003cbr\\u003eFrequ\\u00eancia=%{text}\\u003cextra\\u003e\\u003c\\u002fextra\\u003e\",\"legendgroup\":\"3-4-1-2\",\"marker\":{\"color\":\"#FF97FF\",\"pattern\":{\"shape\":\"\"}},\"name\":\"3-4-1-2\",\"offsetgroup\":\"3-4-1-2\",\"orientation\":\"v\",\"showlegend\":true,\"text\":[1.0,3.0,1.0,1.0,1.0,1.0,2.0,1.0,1.0],\"textposition\":\"outside\",\"x\":[\"Brentford\",\"Brighton and Hove Albion\",\"Chelsea\",\"Everton\",\"Leicester City\",\"Newcastle United\",\"Tottenham Hotspur\",\"West Ham United\",\"Wolverhampton Wanderers\"],\"xaxis\":\"x\",\"y\":[1,3,1,1,1,1,2,1,1],\"yaxis\":\"y\",\"type\":\"bar\",\"texttemplate\":\"%{text}\"},{\"alignmentgroup\":\"True\",\"hovertemplate\":\"Forma\\u00e7\\u00e3o=3-4-1-2\\u003cbr\\u003eResultado=L\\u003cbr\\u003eEquipe=%{x}\\u003cbr\\u003eFrequ\\u00eancia=%{text}\\u003cextra\\u003e\\u003c\\u002fextra\\u003e\",\"legendgroup\":\"3-4-1-2\",\"marker\":{\"color\":\"#FF97FF\",\"pattern\":{\"shape\":\"\"}},\"name\":\"3-4-1-2\",\"offsetgroup\":\"3-4-1-2\",\"orientation\":\"v\",\"showlegend\":false,\"text\":[2.0,3.0,1.0,1.0,1.0,4.0,1.0,2.0,3.0,3.0],\"textposition\":\"outside\",\"x\":[\"Aston Villa\",\"Brighton and Hove Albion\",\"Chelsea\",\"Everton\",\"Fulham\",\"Leicester City\",\"Sheffield United\",\"West Bromwich Albion\",\"West Ham United\",\"Wolverhampton Wanderers\"],\"xaxis\":\"x2\",\"y\":[2,3,1,1,1,4,1,2,3,3],\"yaxis\":\"y2\",\"type\":\"bar\",\"texttemplate\":\"%{text}\"},{\"alignmentgroup\":\"True\",\"hovertemplate\":\"Forma\\u00e7\\u00e3o=3-4-1-2\\u003cbr\\u003eResultado=W\\u003cbr\\u003eEquipe=%{x}\\u003cbr\\u003eFrequ\\u00eancia=%{text}\\u003cextra\\u003e\\u003c\\u002fextra\\u003e\",\"legendgroup\":\"3-4-1-2\",\"marker\":{\"color\":\"#FF97FF\",\"pattern\":{\"shape\":\"\"}},\"name\":\"3-4-1-2\",\"offsetgroup\":\"3-4-1-2\",\"orientation\":\"v\",\"showlegend\":false,\"text\":[4.0,3.0,1.0,5.0,1.0,1.0,1.0,1.0],\"textposition\":\"outside\",\"x\":[\"Brighton and Hove Albion\",\"Chelsea\",\"Everton\",\"Leicester City\",\"Manchester United\",\"Sheffield United\",\"West Bromwich Albion\",\"Wolverhampton Wanderers\"],\"xaxis\":\"x3\",\"y\":[4,3,1,5,1,1,1,1],\"yaxis\":\"y3\",\"type\":\"bar\",\"texttemplate\":\"%{text}\"},{\"alignmentgroup\":\"True\",\"hovertemplate\":\"Forma\\u00e7\\u00e3o=3-5-2\\u003cbr\\u003eResultado=D\\u003cbr\\u003eEquipe=%{x}\\u003cbr\\u003eFrequ\\u00eancia=%{text}\\u003cextra\\u003e\\u003c\\u002fextra\\u003e\",\"legendgroup\":\"3-5-2\",\"marker\":{\"color\":\"#FECB52\",\"pattern\":{\"shape\":\"\"}},\"name\":\"3-5-2\",\"offsetgroup\":\"3-5-2\",\"orientation\":\"v\",\"showlegend\":true,\"text\":[5.0,7.0,1.0,1.0,1.0,4.0,2.0,2.0,1.0,1.0,1.0,1.0],\"textposition\":\"outside\",\"x\":[\"Brentford\",\"Brighton and Hove Albion\",\"Everton\",\"Fulham\",\"Leicester City\",\"Newcastle United\",\"Norwich City\",\"Sheffield United\",\"Southampton\",\"Tottenham Hotspur\",\"West Bromwich Albion\",\"Wolverhampton Wanderers\"],\"xaxis\":\"x\",\"y\":[5,7,1,1,1,4,2,2,1,1,1,1],\"yaxis\":\"y\",\"type\":\"bar\",\"texttemplate\":\"%{text}\"},{\"alignmentgroup\":\"True\",\"hovertemplate\":\"Forma\\u00e7\\u00e3o=3-5-2\\u003cbr\\u003eResultado=L\\u003cbr\\u003eEquipe=%{x}\\u003cbr\\u003eFrequ\\u00eancia=%{text}\\u003cextra\\u003e\\u003c\\u002fextra\\u003e\",\"legendgroup\":\"3-5-2\",\"marker\":{\"color\":\"#FECB52\",\"pattern\":{\"shape\":\"\"}},\"name\":\"3-5-2\",\"offsetgroup\":\"3-5-2\",\"orientation\":\"v\",\"showlegend\":false,\"text\":[2.0,14.0,5.0,1.0,1.0,1.0,1.0,1.0,7.0,5.0,25.0,2.0,2.0,1.0,4.0],\"textposition\":\"outside\",\"x\":[\"Aston Villa\",\"Brentford\",\"Brighton and Hove Albion\",\"Chelsea\",\"Fulham\",\"Leicester City\",\"Manchester City\",\"Manchester United\",\"Newcastle United\",\"Norwich City\",\"Sheffield United\",\"Southampton\",\"West Bromwich Albion\",\"West Ham United\",\"Wolverhampton Wanderers\"],\"xaxis\":\"x2\",\"y\":[2,14,5,1,1,1,1,1,7,5,25,2,2,1,4],\"yaxis\":\"y2\",\"type\":\"bar\",\"texttemplate\":\"%{text}\"},{\"alignmentgroup\":\"True\",\"hovertemplate\":\"Forma\\u00e7\\u00e3o=3-5-2\\u003cbr\\u003eResultado=W\\u003cbr\\u003eEquipe=%{x}\\u003cbr\\u003eFrequ\\u00eancia=%{text}\\u003cextra\\u003e\\u003c\\u002fextra\\u003e\",\"legendgroup\":\"3-5-2\",\"marker\":{\"color\":\"#FECB52\",\"pattern\":{\"shape\":\"\"}},\"name\":\"3-5-2\",\"offsetgroup\":\"3-5-2\",\"orientation\":\"v\",\"showlegend\":false,\"text\":[2.0,7.0,5.0,2.0,2.0,1.0,1.0,1.0,6.0,4.0,1.0,1.0,6.0],\"textposition\":\"outside\",\"x\":[\"Aston Villa\",\"Brentford\",\"Brighton and Hove Albion\",\"Chelsea\",\"Everton\",\"Leeds United\",\"Leicester City\",\"Manchester City\",\"Newcastle United\",\"Sheffield United\",\"Southampton\",\"Tottenham Hotspur\",\"Wolverhampton Wanderers\"],\"xaxis\":\"x3\",\"y\":[2,7,5,2,2,1,1,1,6,4,1,1,6],\"yaxis\":\"y3\",\"type\":\"bar\",\"texttemplate\":\"%{text}\"},{\"alignmentgroup\":\"True\",\"hovertemplate\":\"Forma\\u00e7\\u00e3o=4-4-2\\u25c6\\u003cbr\\u003eResultado=D\\u003cbr\\u003eEquipe=%{x}\\u003cbr\\u003eFrequ\\u00eancia=%{text}\\u003cextra\\u003e\\u003c\\u002fextra\\u003e\",\"legendgroup\":\"4-4-2\\u25c6\",\"marker\":{\"color\":\"#636efa\",\"pattern\":{\"shape\":\"\"}},\"name\":\"4-4-2\\u25c6\",\"offsetgroup\":\"4-4-2\\u25c6\",\"orientation\":\"v\",\"showlegend\":true,\"text\":[3.0,1.0,1.0,1.0,1.0,1.0],\"textposition\":\"outside\",\"x\":[\"Brighton and Hove Albion\",\"Everton\",\"Manchester United\",\"Newcastle United\",\"Norwich City\",\"Southampton\"],\"xaxis\":\"x\",\"y\":[3,1,1,1,1,1],\"yaxis\":\"y\",\"type\":\"bar\",\"texttemplate\":\"%{text}\"},{\"alignmentgroup\":\"True\",\"hovertemplate\":\"Forma\\u00e7\\u00e3o=4-4-2\\u25c6\\u003cbr\\u003eResultado=L\\u003cbr\\u003eEquipe=%{x}\\u003cbr\\u003eFrequ\\u00eancia=%{text}\\u003cextra\\u003e\\u003c\\u002fextra\\u003e\",\"legendgroup\":\"4-4-2\\u25c6\",\"marker\":{\"color\":\"#636efa\",\"pattern\":{\"shape\":\"\"}},\"name\":\"4-4-2\\u25c6\",\"offsetgroup\":\"4-4-2\\u25c6\",\"orientation\":\"v\",\"showlegend\":false,\"text\":[4.0,2.0,3.0,1.0,1.0,2.0,1.0],\"textposition\":\"outside\",\"x\":[\"Aston Villa\",\"Brighton and Hove Albion\",\"Everton\",\"Leeds United\",\"Manchester United\",\"Newcastle United\",\"Tottenham Hotspur\"],\"xaxis\":\"x2\",\"y\":[4,2,3,1,1,2,1],\"yaxis\":\"y2\",\"type\":\"bar\",\"texttemplate\":\"%{text}\"},{\"alignmentgroup\":\"True\",\"hovertemplate\":\"Forma\\u00e7\\u00e3o=4-4-2\\u25c6\\u003cbr\\u003eResultado=W\\u003cbr\\u003eEquipe=%{x}\\u003cbr\\u003eFrequ\\u00eancia=%{text}\\u003cextra\\u003e\\u003c\\u002fextra\\u003e\",\"legendgroup\":\"4-4-2\\u25c6\",\"marker\":{\"color\":\"#636efa\",\"pattern\":{\"shape\":\"\"}},\"name\":\"4-4-2\\u25c6\",\"offsetgroup\":\"4-4-2\\u25c6\",\"orientation\":\"v\",\"showlegend\":false,\"text\":[3.0,1.0,1.0,1.0,1.0,2.0,2.0],\"textposition\":\"outside\",\"x\":[\"Aston Villa\",\"Brighton and Hove Albion\",\"Everton\",\"Leicester City\",\"Liverpool\",\"Manchester United\",\"Newcastle United\"],\"xaxis\":\"x3\",\"y\":[3,1,1,1,1,2,2],\"yaxis\":\"y3\",\"type\":\"bar\",\"texttemplate\":\"%{text}\"},{\"alignmentgroup\":\"True\",\"hovertemplate\":\"Forma\\u00e7\\u00e3o=3-5-1-1\\u003cbr\\u003eResultado=D\\u003cbr\\u003eEquipe=%{x}\\u003cbr\\u003eFrequ\\u00eancia=%{text}\\u003cextra\\u003e\\u003c\\u002fextra\\u003e\",\"legendgroup\":\"3-5-1-1\",\"marker\":{\"color\":\"#EF553B\",\"pattern\":{\"shape\":\"\"}},\"name\":\"3-5-1-1\",\"offsetgroup\":\"3-5-1-1\",\"orientation\":\"v\",\"showlegend\":true,\"text\":[1.0,1.0,1.0],\"textposition\":\"outside\",\"x\":[\"Everton\",\"Leeds United\",\"West Bromwich Albion\"],\"xaxis\":\"x\",\"y\":[1,1,1],\"yaxis\":\"y\",\"type\":\"bar\",\"texttemplate\":\"%{text}\"},{\"alignmentgroup\":\"True\",\"hovertemplate\":\"Forma\\u00e7\\u00e3o=3-5-1-1\\u003cbr\\u003eResultado=L\\u003cbr\\u003eEquipe=%{x}\\u003cbr\\u003eFrequ\\u00eancia=%{text}\\u003cextra\\u003e\\u003c\\u002fextra\\u003e\",\"legendgroup\":\"3-5-1-1\",\"marker\":{\"color\":\"#EF553B\",\"pattern\":{\"shape\":\"\"}},\"name\":\"3-5-1-1\",\"offsetgroup\":\"3-5-1-1\",\"orientation\":\"v\",\"showlegend\":false,\"text\":[1.0,1.0,1.0],\"textposition\":\"outside\",\"x\":[\"Brighton and Hove Albion\",\"Leeds United\",\"Newcastle United\"],\"xaxis\":\"x2\",\"y\":[1,1,1],\"yaxis\":\"y2\",\"type\":\"bar\",\"texttemplate\":\"%{text}\"},{\"alignmentgroup\":\"True\",\"hovertemplate\":\"Forma\\u00e7\\u00e3o=3-5-1-1\\u003cbr\\u003eResultado=W\\u003cbr\\u003eEquipe=%{x}\\u003cbr\\u003eFrequ\\u00eancia=%{text}\\u003cextra\\u003e\\u003c\\u002fextra\\u003e\",\"legendgroup\":\"3-5-1-1\",\"marker\":{\"color\":\"#EF553B\",\"pattern\":{\"shape\":\"\"}},\"name\":\"3-5-1-1\",\"offsetgroup\":\"3-5-1-1\",\"orientation\":\"v\",\"showlegend\":false,\"text\":[4.0],\"textposition\":\"outside\",\"x\":[\"Leeds United\"],\"xaxis\":\"x3\",\"y\":[4],\"yaxis\":\"y3\",\"type\":\"bar\",\"texttemplate\":\"%{text}\"},{\"alignmentgroup\":\"True\",\"hovertemplate\":\"Forma\\u00e7\\u00e3o=4-2-2-2\\u003cbr\\u003eResultado=D\\u003cbr\\u003eEquipe=%{x}\\u003cbr\\u003eFrequ\\u00eancia=%{text}\\u003cextra\\u003e\\u003c\\u002fextra\\u003e\",\"legendgroup\":\"4-2-2-2\",\"marker\":{\"color\":\"#00cc96\",\"pattern\":{\"shape\":\"\"}},\"name\":\"4-2-2-2\",\"offsetgroup\":\"4-2-2-2\",\"orientation\":\"v\",\"showlegend\":true,\"text\":[1.0,1.0],\"textposition\":\"outside\",\"x\":[\"Chelsea\",\"Manchester United\"],\"xaxis\":\"x\",\"y\":[1,1],\"yaxis\":\"y\",\"type\":\"bar\",\"texttemplate\":\"%{text}\"},{\"alignmentgroup\":\"True\",\"hovertemplate\":\"Forma\\u00e7\\u00e3o=4-2-2-2\\u003cbr\\u003eResultado=L\\u003cbr\\u003eEquipe=%{x}\\u003cbr\\u003eFrequ\\u00eancia=%{text}\\u003cextra\\u003e\\u003c\\u002fextra\\u003e\",\"legendgroup\":\"4-2-2-2\",\"marker\":{\"color\":\"#00cc96\",\"pattern\":{\"shape\":\"\"}},\"name\":\"4-2-2-2\",\"offsetgroup\":\"4-2-2-2\",\"orientation\":\"v\",\"showlegend\":false,\"text\":[1.0],\"textposition\":\"outside\",\"x\":[\"Southampton\"],\"xaxis\":\"x2\",\"y\":[1],\"yaxis\":\"y2\",\"type\":\"bar\",\"texttemplate\":\"%{text}\"},{\"alignmentgroup\":\"True\",\"hovertemplate\":\"Forma\\u00e7\\u00e3o=4-2-2-2\\u003cbr\\u003eResultado=W\\u003cbr\\u003eEquipe=%{x}\\u003cbr\\u003eFrequ\\u00eancia=%{text}\\u003cextra\\u003e\\u003c\\u002fextra\\u003e\",\"legendgroup\":\"4-2-2-2\",\"marker\":{\"color\":\"#00cc96\",\"pattern\":{\"shape\":\"\"}},\"name\":\"4-2-2-2\",\"offsetgroup\":\"4-2-2-2\",\"orientation\":\"v\",\"showlegend\":false,\"text\":[1.0,2.0],\"textposition\":\"outside\",\"x\":[\"Chelsea\",\"Manchester United\"],\"xaxis\":\"x3\",\"y\":[1,2],\"yaxis\":\"y3\",\"type\":\"bar\",\"texttemplate\":\"%{text}\"},{\"alignmentgroup\":\"True\",\"hovertemplate\":\"Forma\\u00e7\\u00e3o=3-4-3\\u25c6\\u003cbr\\u003eResultado=L\\u003cbr\\u003eEquipe=%{x}\\u003cbr\\u003eFrequ\\u00eancia=%{text}\\u003cextra\\u003e\\u003c\\u002fextra\\u003e\",\"legendgroup\":\"3-4-3\\u25c6\",\"marker\":{\"color\":\"#ab63fa\",\"pattern\":{\"shape\":\"\"}},\"name\":\"3-4-3\\u25c6\",\"offsetgroup\":\"3-4-3\\u25c6\",\"orientation\":\"v\",\"showlegend\":true,\"text\":[1.0],\"textposition\":\"outside\",\"x\":[\"Leeds United\"],\"xaxis\":\"x2\",\"y\":[1],\"yaxis\":\"y2\",\"type\":\"bar\",\"texttemplate\":\"%{text}\"},{\"alignmentgroup\":\"True\",\"hovertemplate\":\"Forma\\u00e7\\u00e3o=4-3-3\\u25c6\\u003cbr\\u003eResultado=W\\u003cbr\\u003eEquipe=%{x}\\u003cbr\\u003eFrequ\\u00eancia=%{text}\\u003cextra\\u003e\\u003c\\u002fextra\\u003e\",\"legendgroup\":\"4-3-3\\u25c6\",\"marker\":{\"color\":\"#FFA15A\",\"pattern\":{\"shape\":\"\"}},\"name\":\"4-3-3\\u25c6\",\"offsetgroup\":\"4-3-3\\u25c6\",\"orientation\":\"v\",\"showlegend\":true,\"text\":[1.0],\"textposition\":\"outside\",\"x\":[\"Manchester City\"],\"xaxis\":\"x3\",\"y\":[1],\"yaxis\":\"y3\",\"type\":\"bar\",\"texttemplate\":\"%{text}\"},{\"alignmentgroup\":\"True\",\"hovertemplate\":\"Forma\\u00e7\\u00e3o=4-2-3-1\\u25c6\\u003cbr\\u003eResultado=D\\u003cbr\\u003eEquipe=%{x}\\u003cbr\\u003eFrequ\\u00eancia=%{text}\\u003cextra\\u003e\\u003c\\u002fextra\\u003e\",\"legendgroup\":\"4-2-3-1\\u25c6\",\"marker\":{\"color\":\"#19d3f3\",\"pattern\":{\"shape\":\"\"}},\"name\":\"4-2-3-1\\u25c6\",\"offsetgroup\":\"4-2-3-1\\u25c6\",\"orientation\":\"v\",\"showlegend\":true,\"text\":[1.0],\"textposition\":\"outside\",\"x\":[\"Manchester United\"],\"xaxis\":\"x\",\"y\":[1],\"yaxis\":\"y\",\"type\":\"bar\",\"texttemplate\":\"%{text}\"}],                        {\"template\":{\"data\":{\"histogram2dcontour\":[{\"type\":\"histogram2dcontour\",\"colorbar\":{\"outlinewidth\":0,\"ticks\":\"\"},\"colorscale\":[[0.0,\"#0d0887\"],[0.1111111111111111,\"#46039f\"],[0.2222222222222222,\"#7201a8\"],[0.3333333333333333,\"#9c179e\"],[0.4444444444444444,\"#bd3786\"],[0.5555555555555556,\"#d8576b\"],[0.6666666666666666,\"#ed7953\"],[0.7777777777777778,\"#fb9f3a\"],[0.8888888888888888,\"#fdca26\"],[1.0,\"#f0f921\"]]}],\"choropleth\":[{\"type\":\"choropleth\",\"colorbar\":{\"outlinewidth\":0,\"ticks\":\"\"}}],\"histogram2d\":[{\"type\":\"histogram2d\",\"colorbar\":{\"outlinewidth\":0,\"ticks\":\"\"},\"colorscale\":[[0.0,\"#0d0887\"],[0.1111111111111111,\"#46039f\"],[0.2222222222222222,\"#7201a8\"],[0.3333333333333333,\"#9c179e\"],[0.4444444444444444,\"#bd3786\"],[0.5555555555555556,\"#d8576b\"],[0.6666666666666666,\"#ed7953\"],[0.7777777777777778,\"#fb9f3a\"],[0.8888888888888888,\"#fdca26\"],[1.0,\"#f0f921\"]]}],\"heatmap\":[{\"type\":\"heatmap\",\"colorbar\":{\"outlinewidth\":0,\"ticks\":\"\"},\"colorscale\":[[0.0,\"#0d0887\"],[0.1111111111111111,\"#46039f\"],[0.2222222222222222,\"#7201a8\"],[0.3333333333333333,\"#9c179e\"],[0.4444444444444444,\"#bd3786\"],[0.5555555555555556,\"#d8576b\"],[0.6666666666666666,\"#ed7953\"],[0.7777777777777778,\"#fb9f3a\"],[0.8888888888888888,\"#fdca26\"],[1.0,\"#f0f921\"]]}],\"heatmapgl\":[{\"type\":\"heatmapgl\",\"colorbar\":{\"outlinewidth\":0,\"ticks\":\"\"},\"colorscale\":[[0.0,\"#0d0887\"],[0.1111111111111111,\"#46039f\"],[0.2222222222222222,\"#7201a8\"],[0.3333333333333333,\"#9c179e\"],[0.4444444444444444,\"#bd3786\"],[0.5555555555555556,\"#d8576b\"],[0.6666666666666666,\"#ed7953\"],[0.7777777777777778,\"#fb9f3a\"],[0.8888888888888888,\"#fdca26\"],[1.0,\"#f0f921\"]]}],\"contourcarpet\":[{\"type\":\"contourcarpet\",\"colorbar\":{\"outlinewidth\":0,\"ticks\":\"\"}}],\"contour\":[{\"type\":\"contour\",\"colorbar\":{\"outlinewidth\":0,\"ticks\":\"\"},\"colorscale\":[[0.0,\"#0d0887\"],[0.1111111111111111,\"#46039f\"],[0.2222222222222222,\"#7201a8\"],[0.3333333333333333,\"#9c179e\"],[0.4444444444444444,\"#bd3786\"],[0.5555555555555556,\"#d8576b\"],[0.6666666666666666,\"#ed7953\"],[0.7777777777777778,\"#fb9f3a\"],[0.8888888888888888,\"#fdca26\"],[1.0,\"#f0f921\"]]}],\"surface\":[{\"type\":\"surface\",\"colorbar\":{\"outlinewidth\":0,\"ticks\":\"\"},\"colorscale\":[[0.0,\"#0d0887\"],[0.1111111111111111,\"#46039f\"],[0.2222222222222222,\"#7201a8\"],[0.3333333333333333,\"#9c179e\"],[0.4444444444444444,\"#bd3786\"],[0.5555555555555556,\"#d8576b\"],[0.6666666666666666,\"#ed7953\"],[0.7777777777777778,\"#fb9f3a\"],[0.8888888888888888,\"#fdca26\"],[1.0,\"#f0f921\"]]}],\"mesh3d\":[{\"type\":\"mesh3d\",\"colorbar\":{\"outlinewidth\":0,\"ticks\":\"\"}}],\"scatter\":[{\"fillpattern\":{\"fillmode\":\"overlay\",\"size\":10,\"solidity\":0.2},\"type\":\"scatter\"}],\"parcoords\":[{\"type\":\"parcoords\",\"line\":{\"colorbar\":{\"outlinewidth\":0,\"ticks\":\"\"}}}],\"scatterpolargl\":[{\"type\":\"scatterpolargl\",\"marker\":{\"colorbar\":{\"outlinewidth\":0,\"ticks\":\"\"}}}],\"bar\":[{\"error_x\":{\"color\":\"#2a3f5f\"},\"error_y\":{\"color\":\"#2a3f5f\"},\"marker\":{\"line\":{\"color\":\"#E5ECF6\",\"width\":0.5},\"pattern\":{\"fillmode\":\"overlay\",\"size\":10,\"solidity\":0.2}},\"type\":\"bar\"}],\"scattergeo\":[{\"type\":\"scattergeo\",\"marker\":{\"colorbar\":{\"outlinewidth\":0,\"ticks\":\"\"}}}],\"scatterpolar\":[{\"type\":\"scatterpolar\",\"marker\":{\"colorbar\":{\"outlinewidth\":0,\"ticks\":\"\"}}}],\"histogram\":[{\"marker\":{\"pattern\":{\"fillmode\":\"overlay\",\"size\":10,\"solidity\":0.2}},\"type\":\"histogram\"}],\"scattergl\":[{\"type\":\"scattergl\",\"marker\":{\"colorbar\":{\"outlinewidth\":0,\"ticks\":\"\"}}}],\"scatter3d\":[{\"type\":\"scatter3d\",\"line\":{\"colorbar\":{\"outlinewidth\":0,\"ticks\":\"\"}},\"marker\":{\"colorbar\":{\"outlinewidth\":0,\"ticks\":\"\"}}}],\"scattermapbox\":[{\"type\":\"scattermapbox\",\"marker\":{\"colorbar\":{\"outlinewidth\":0,\"ticks\":\"\"}}}],\"scatterternary\":[{\"type\":\"scatterternary\",\"marker\":{\"colorbar\":{\"outlinewidth\":0,\"ticks\":\"\"}}}],\"scattercarpet\":[{\"type\":\"scattercarpet\",\"marker\":{\"colorbar\":{\"outlinewidth\":0,\"ticks\":\"\"}}}],\"carpet\":[{\"aaxis\":{\"endlinecolor\":\"#2a3f5f\",\"gridcolor\":\"white\",\"linecolor\":\"white\",\"minorgridcolor\":\"white\",\"startlinecolor\":\"#2a3f5f\"},\"baxis\":{\"endlinecolor\":\"#2a3f5f\",\"gridcolor\":\"white\",\"linecolor\":\"white\",\"minorgridcolor\":\"white\",\"startlinecolor\":\"#2a3f5f\"},\"type\":\"carpet\"}],\"table\":[{\"cells\":{\"fill\":{\"color\":\"#EBF0F8\"},\"line\":{\"color\":\"white\"}},\"header\":{\"fill\":{\"color\":\"#C8D4E3\"},\"line\":{\"color\":\"white\"}},\"type\":\"table\"}],\"barpolar\":[{\"marker\":{\"line\":{\"color\":\"#E5ECF6\",\"width\":0.5},\"pattern\":{\"fillmode\":\"overlay\",\"size\":10,\"solidity\":0.2}},\"type\":\"barpolar\"}],\"pie\":[{\"automargin\":true,\"type\":\"pie\"}]},\"layout\":{\"autotypenumbers\":\"strict\",\"colorway\":[\"#636efa\",\"#EF553B\",\"#00cc96\",\"#ab63fa\",\"#FFA15A\",\"#19d3f3\",\"#FF6692\",\"#B6E880\",\"#FF97FF\",\"#FECB52\"],\"font\":{\"color\":\"#2a3f5f\"},\"hovermode\":\"closest\",\"hoverlabel\":{\"align\":\"left\"},\"paper_bgcolor\":\"white\",\"plot_bgcolor\":\"#E5ECF6\",\"polar\":{\"bgcolor\":\"#E5ECF6\",\"angularaxis\":{\"gridcolor\":\"white\",\"linecolor\":\"white\",\"ticks\":\"\"},\"radialaxis\":{\"gridcolor\":\"white\",\"linecolor\":\"white\",\"ticks\":\"\"}},\"ternary\":{\"bgcolor\":\"#E5ECF6\",\"aaxis\":{\"gridcolor\":\"white\",\"linecolor\":\"white\",\"ticks\":\"\"},\"baxis\":{\"gridcolor\":\"white\",\"linecolor\":\"white\",\"ticks\":\"\"},\"caxis\":{\"gridcolor\":\"white\",\"linecolor\":\"white\",\"ticks\":\"\"}},\"coloraxis\":{\"colorbar\":{\"outlinewidth\":0,\"ticks\":\"\"}},\"colorscale\":{\"sequential\":[[0.0,\"#0d0887\"],[0.1111111111111111,\"#46039f\"],[0.2222222222222222,\"#7201a8\"],[0.3333333333333333,\"#9c179e\"],[0.4444444444444444,\"#bd3786\"],[0.5555555555555556,\"#d8576b\"],[0.6666666666666666,\"#ed7953\"],[0.7777777777777778,\"#fb9f3a\"],[0.8888888888888888,\"#fdca26\"],[1.0,\"#f0f921\"]],\"sequentialminus\":[[0.0,\"#0d0887\"],[0.1111111111111111,\"#46039f\"],[0.2222222222222222,\"#7201a8\"],[0.3333333333333333,\"#9c179e\"],[0.4444444444444444,\"#bd3786\"],[0.5555555555555556,\"#d8576b\"],[0.6666666666666666,\"#ed7953\"],[0.7777777777777778,\"#fb9f3a\"],[0.8888888888888888,\"#fdca26\"],[1.0,\"#f0f921\"]],\"diverging\":[[0,\"#8e0152\"],[0.1,\"#c51b7d\"],[0.2,\"#de77ae\"],[0.3,\"#f1b6da\"],[0.4,\"#fde0ef\"],[0.5,\"#f7f7f7\"],[0.6,\"#e6f5d0\"],[0.7,\"#b8e186\"],[0.8,\"#7fbc41\"],[0.9,\"#4d9221\"],[1,\"#276419\"]]},\"xaxis\":{\"gridcolor\":\"white\",\"linecolor\":\"white\",\"ticks\":\"\",\"title\":{\"standoff\":15},\"zerolinecolor\":\"white\",\"automargin\":true,\"zerolinewidth\":2},\"yaxis\":{\"gridcolor\":\"white\",\"linecolor\":\"white\",\"ticks\":\"\",\"title\":{\"standoff\":15},\"zerolinecolor\":\"white\",\"automargin\":true,\"zerolinewidth\":2},\"scene\":{\"xaxis\":{\"backgroundcolor\":\"#E5ECF6\",\"gridcolor\":\"white\",\"linecolor\":\"white\",\"showbackground\":true,\"ticks\":\"\",\"zerolinecolor\":\"white\",\"gridwidth\":2},\"yaxis\":{\"backgroundcolor\":\"#E5ECF6\",\"gridcolor\":\"white\",\"linecolor\":\"white\",\"showbackground\":true,\"ticks\":\"\",\"zerolinecolor\":\"white\",\"gridwidth\":2},\"zaxis\":{\"backgroundcolor\":\"#E5ECF6\",\"gridcolor\":\"white\",\"linecolor\":\"white\",\"showbackground\":true,\"ticks\":\"\",\"zerolinecolor\":\"white\",\"gridwidth\":2}},\"shapedefaults\":{\"line\":{\"color\":\"#2a3f5f\"}},\"annotationdefaults\":{\"arrowcolor\":\"#2a3f5f\",\"arrowhead\":0,\"arrowwidth\":1},\"geo\":{\"bgcolor\":\"white\",\"landcolor\":\"#E5ECF6\",\"subunitcolor\":\"white\",\"showland\":true,\"showlakes\":true,\"lakecolor\":\"white\"},\"title\":{\"x\":0.05},\"mapbox\":{\"style\":\"light\"}}},\"xaxis\":{\"anchor\":\"y\",\"domain\":[0.0,0.31999999999999995],\"title\":{\"text\":\"Equipe\",\"font\":{\"size\":16}},\"tickangle\":-45},\"yaxis\":{\"anchor\":\"x\",\"domain\":[0.0,1.0],\"title\":{\"text\":\"Frequ\\u00eancia\",\"font\":{\"size\":16}}},\"xaxis2\":{\"anchor\":\"y2\",\"domain\":[0.33999999999999997,0.6599999999999999],\"matches\":\"x\",\"title\":{\"text\":\"Equipe\"}},\"yaxis2\":{\"anchor\":\"x2\",\"domain\":[0.0,1.0],\"matches\":\"y\",\"showticklabels\":false},\"xaxis3\":{\"anchor\":\"y3\",\"domain\":[0.6799999999999999,0.9999999999999999],\"matches\":\"x\",\"title\":{\"text\":\"Equipe\"}},\"yaxis3\":{\"anchor\":\"x3\",\"domain\":[0.0,1.0],\"matches\":\"y\",\"showticklabels\":false},\"annotations\":[{\"font\":{},\"showarrow\":false,\"text\":\"Resultado=D\",\"x\":0.15999999999999998,\"xanchor\":\"center\",\"xref\":\"paper\",\"y\":1.0,\"yanchor\":\"bottom\",\"yref\":\"paper\"},{\"font\":{},\"showarrow\":false,\"text\":\"Resultado=L\",\"x\":0.49999999999999994,\"xanchor\":\"center\",\"xref\":\"paper\",\"y\":1.0,\"yanchor\":\"bottom\",\"yref\":\"paper\"},{\"font\":{},\"showarrow\":false,\"text\":\"Resultado=W\",\"x\":0.8399999999999999,\"xanchor\":\"center\",\"xref\":\"paper\",\"y\":1.0,\"yanchor\":\"bottom\",\"yref\":\"paper\"}],\"legend\":{\"title\":{\"text\":\"Forma\\u00e7\\u00e3o\",\"font\":{\"size\":16}},\"tracegroupgap\":0,\"font\":{\"size\":14}},\"title\":{\"text\":\"Frequ\\u00eancia das Forma\\u00e7\\u0151es T\\u00e1ticas por Equipe e Resultado\",\"font\":{\"size\":20}},\"barmode\":\"relative\",\"height\":600,\"plot_bgcolor\":\"rgba(0,0,0,0)\",\"paper_bgcolor\":\"rgba(0,0,0,0)\"},                        {\"responsive\": true}                    ).then(function(){\n",
              "                            \n",
              "var gd = document.getElementById('732c6dfc-cb51-4572-bef5-3cc53617be9d');\n",
              "var x = new MutationObserver(function (mutations, observer) {{\n",
              "        var display = window.getComputedStyle(gd).display;\n",
              "        if (!display || display === 'none') {{\n",
              "            console.log([gd, 'removed!']);\n",
              "            Plotly.purge(gd);\n",
              "            observer.disconnect();\n",
              "        }}\n",
              "}});\n",
              "\n",
              "// Listen for the removal of the full notebook cells\n",
              "var notebookContainer = gd.closest('#notebook-container');\n",
              "if (notebookContainer) {{\n",
              "    x.observe(notebookContainer, {childList: true});\n",
              "}}\n",
              "\n",
              "// Listen for the clearing of the current output cell\n",
              "var outputEl = gd.closest('.output');\n",
              "if (outputEl) {{\n",
              "    x.observe(outputEl, {childList: true});\n",
              "}}\n",
              "\n",
              "                        })                };                            </script>        </div>\n",
              "</body>\n",
              "</html>"
            ]
          },
          "metadata": {}
        }
      ]
    },
    {
      "cell_type": "markdown",
      "source": [
        "## Posse de bola\n",
        "\n",
        "Qual a média de posse de bola da equipe mandante quando ela perdeu o jogo?\n",
        "\n",
        "Responda em forma de gráfico para poder comparar entre todas as equipes."
      ],
      "metadata": {
        "id": "VdLnYjeh-v5S"
      },
      "id": "VdLnYjeh-v5S"
    },
    {
      "cell_type": "code",
      "source": [
        "home_losses = data_cleaned[(data['venue'] == 'Home') & (data['result'] == 'L')]\n",
        "average_possession_home_losses = home_losses.groupby('team')['poss'].mean().reset_index()\n",
        "\n",
        "fig_possession = px.bar(average_possession_home_losses,\n",
        "                        x='team',\n",
        "                        y='poss',\n",
        "                        title='Média de Posse de Bola da Equipe Mandante Quando Perdeu o Jogo',\n",
        "                        labels={'team':'Equipe', 'poss':'Média de Posse de Bola (%)'})\n",
        "\n",
        "fig_possession.show()"
      ],
      "metadata": {
        "id": "KQssuIU4AGsH",
        "colab": {
          "base_uri": "https://localhost:8080/",
          "height": 542
        },
        "outputId": "f0b72bc3-0ab8-4d32-f8c7-3a829951cc19"
      },
      "id": "KQssuIU4AGsH",
      "execution_count": 21,
      "outputs": [
        {
          "output_type": "display_data",
          "data": {
            "text/html": [
              "<html>\n",
              "<head><meta charset=\"utf-8\" /></head>\n",
              "<body>\n",
              "    <div>            <script src=\"https://cdnjs.cloudflare.com/ajax/libs/mathjax/2.7.5/MathJax.js?config=TeX-AMS-MML_SVG\"></script><script type=\"text/javascript\">if (window.MathJax && window.MathJax.Hub && window.MathJax.Hub.Config) {window.MathJax.Hub.Config({SVG: {font: \"STIX-Web\"}});}</script>                <script type=\"text/javascript\">window.PlotlyConfig = {MathJaxConfig: 'local'};</script>\n",
              "        <script charset=\"utf-8\" src=\"https://cdn.plot.ly/plotly-2.24.1.min.js\"></script>                <div id=\"c93d9d6b-688f-448f-bb38-855ebe1a408d\" class=\"plotly-graph-div\" style=\"height:525px; width:100%;\"></div>            <script type=\"text/javascript\">                                    window.PLOTLYENV=window.PLOTLYENV || {};                                    if (document.getElementById(\"c93d9d6b-688f-448f-bb38-855ebe1a408d\")) {                    Plotly.newPlot(                        \"c93d9d6b-688f-448f-bb38-855ebe1a408d\",                        [{\"alignmentgroup\":\"True\",\"hovertemplate\":\"Equipe=%{x}\\u003cbr\\u003eM\\u00e9dia de Posse de Bola (%)=%{y}\\u003cextra\\u003e\\u003c\\u002fextra\\u003e\",\"legendgroup\":\"\",\"marker\":{\"color\":\"#636efa\",\"pattern\":{\"shape\":\"\"}},\"name\":\"\",\"offsetgroup\":\"\",\"orientation\":\"v\",\"showlegend\":false,\"textposition\":\"auto\",\"x\":[\"Arsenal\",\"Aston Villa\",\"Brentford\",\"Brighton and Hove Albion\",\"Burnley\",\"Chelsea\",\"Crystal Palace\",\"Everton\",\"Fulham\",\"Leeds United\",\"Leicester City\",\"Liverpool\",\"Manchester City\",\"Manchester United\",\"Newcastle United\",\"Norwich City\",\"Sheffield United\",\"Southampton\",\"Tottenham Hotspur\",\"Watford\",\"West Bromwich Albion\",\"West Ham United\",\"Wolverhampton Wanderers\"],\"xaxis\":\"x\",\"y\":[50.27272727272727,46.86666666666667,44.875,55.76923076923077,39.8,57.0,46.166666666666664,47.75,53.30769230769231,58.15384615384615,52.84615384615385,63.5,66.16666666666667,52.6,37.833333333333336,44.81818181818182,42.76923076923077,53.75,51.45454545454545,41.69230769230769,37.4,49.77777777777778,53.86666666666667],\"yaxis\":\"y\",\"type\":\"bar\"}],                        {\"template\":{\"data\":{\"histogram2dcontour\":[{\"type\":\"histogram2dcontour\",\"colorbar\":{\"outlinewidth\":0,\"ticks\":\"\"},\"colorscale\":[[0.0,\"#0d0887\"],[0.1111111111111111,\"#46039f\"],[0.2222222222222222,\"#7201a8\"],[0.3333333333333333,\"#9c179e\"],[0.4444444444444444,\"#bd3786\"],[0.5555555555555556,\"#d8576b\"],[0.6666666666666666,\"#ed7953\"],[0.7777777777777778,\"#fb9f3a\"],[0.8888888888888888,\"#fdca26\"],[1.0,\"#f0f921\"]]}],\"choropleth\":[{\"type\":\"choropleth\",\"colorbar\":{\"outlinewidth\":0,\"ticks\":\"\"}}],\"histogram2d\":[{\"type\":\"histogram2d\",\"colorbar\":{\"outlinewidth\":0,\"ticks\":\"\"},\"colorscale\":[[0.0,\"#0d0887\"],[0.1111111111111111,\"#46039f\"],[0.2222222222222222,\"#7201a8\"],[0.3333333333333333,\"#9c179e\"],[0.4444444444444444,\"#bd3786\"],[0.5555555555555556,\"#d8576b\"],[0.6666666666666666,\"#ed7953\"],[0.7777777777777778,\"#fb9f3a\"],[0.8888888888888888,\"#fdca26\"],[1.0,\"#f0f921\"]]}],\"heatmap\":[{\"type\":\"heatmap\",\"colorbar\":{\"outlinewidth\":0,\"ticks\":\"\"},\"colorscale\":[[0.0,\"#0d0887\"],[0.1111111111111111,\"#46039f\"],[0.2222222222222222,\"#7201a8\"],[0.3333333333333333,\"#9c179e\"],[0.4444444444444444,\"#bd3786\"],[0.5555555555555556,\"#d8576b\"],[0.6666666666666666,\"#ed7953\"],[0.7777777777777778,\"#fb9f3a\"],[0.8888888888888888,\"#fdca26\"],[1.0,\"#f0f921\"]]}],\"heatmapgl\":[{\"type\":\"heatmapgl\",\"colorbar\":{\"outlinewidth\":0,\"ticks\":\"\"},\"colorscale\":[[0.0,\"#0d0887\"],[0.1111111111111111,\"#46039f\"],[0.2222222222222222,\"#7201a8\"],[0.3333333333333333,\"#9c179e\"],[0.4444444444444444,\"#bd3786\"],[0.5555555555555556,\"#d8576b\"],[0.6666666666666666,\"#ed7953\"],[0.7777777777777778,\"#fb9f3a\"],[0.8888888888888888,\"#fdca26\"],[1.0,\"#f0f921\"]]}],\"contourcarpet\":[{\"type\":\"contourcarpet\",\"colorbar\":{\"outlinewidth\":0,\"ticks\":\"\"}}],\"contour\":[{\"type\":\"contour\",\"colorbar\":{\"outlinewidth\":0,\"ticks\":\"\"},\"colorscale\":[[0.0,\"#0d0887\"],[0.1111111111111111,\"#46039f\"],[0.2222222222222222,\"#7201a8\"],[0.3333333333333333,\"#9c179e\"],[0.4444444444444444,\"#bd3786\"],[0.5555555555555556,\"#d8576b\"],[0.6666666666666666,\"#ed7953\"],[0.7777777777777778,\"#fb9f3a\"],[0.8888888888888888,\"#fdca26\"],[1.0,\"#f0f921\"]]}],\"surface\":[{\"type\":\"surface\",\"colorbar\":{\"outlinewidth\":0,\"ticks\":\"\"},\"colorscale\":[[0.0,\"#0d0887\"],[0.1111111111111111,\"#46039f\"],[0.2222222222222222,\"#7201a8\"],[0.3333333333333333,\"#9c179e\"],[0.4444444444444444,\"#bd3786\"],[0.5555555555555556,\"#d8576b\"],[0.6666666666666666,\"#ed7953\"],[0.7777777777777778,\"#fb9f3a\"],[0.8888888888888888,\"#fdca26\"],[1.0,\"#f0f921\"]]}],\"mesh3d\":[{\"type\":\"mesh3d\",\"colorbar\":{\"outlinewidth\":0,\"ticks\":\"\"}}],\"scatter\":[{\"fillpattern\":{\"fillmode\":\"overlay\",\"size\":10,\"solidity\":0.2},\"type\":\"scatter\"}],\"parcoords\":[{\"type\":\"parcoords\",\"line\":{\"colorbar\":{\"outlinewidth\":0,\"ticks\":\"\"}}}],\"scatterpolargl\":[{\"type\":\"scatterpolargl\",\"marker\":{\"colorbar\":{\"outlinewidth\":0,\"ticks\":\"\"}}}],\"bar\":[{\"error_x\":{\"color\":\"#2a3f5f\"},\"error_y\":{\"color\":\"#2a3f5f\"},\"marker\":{\"line\":{\"color\":\"#E5ECF6\",\"width\":0.5},\"pattern\":{\"fillmode\":\"overlay\",\"size\":10,\"solidity\":0.2}},\"type\":\"bar\"}],\"scattergeo\":[{\"type\":\"scattergeo\",\"marker\":{\"colorbar\":{\"outlinewidth\":0,\"ticks\":\"\"}}}],\"scatterpolar\":[{\"type\":\"scatterpolar\",\"marker\":{\"colorbar\":{\"outlinewidth\":0,\"ticks\":\"\"}}}],\"histogram\":[{\"marker\":{\"pattern\":{\"fillmode\":\"overlay\",\"size\":10,\"solidity\":0.2}},\"type\":\"histogram\"}],\"scattergl\":[{\"type\":\"scattergl\",\"marker\":{\"colorbar\":{\"outlinewidth\":0,\"ticks\":\"\"}}}],\"scatter3d\":[{\"type\":\"scatter3d\",\"line\":{\"colorbar\":{\"outlinewidth\":0,\"ticks\":\"\"}},\"marker\":{\"colorbar\":{\"outlinewidth\":0,\"ticks\":\"\"}}}],\"scattermapbox\":[{\"type\":\"scattermapbox\",\"marker\":{\"colorbar\":{\"outlinewidth\":0,\"ticks\":\"\"}}}],\"scatterternary\":[{\"type\":\"scatterternary\",\"marker\":{\"colorbar\":{\"outlinewidth\":0,\"ticks\":\"\"}}}],\"scattercarpet\":[{\"type\":\"scattercarpet\",\"marker\":{\"colorbar\":{\"outlinewidth\":0,\"ticks\":\"\"}}}],\"carpet\":[{\"aaxis\":{\"endlinecolor\":\"#2a3f5f\",\"gridcolor\":\"white\",\"linecolor\":\"white\",\"minorgridcolor\":\"white\",\"startlinecolor\":\"#2a3f5f\"},\"baxis\":{\"endlinecolor\":\"#2a3f5f\",\"gridcolor\":\"white\",\"linecolor\":\"white\",\"minorgridcolor\":\"white\",\"startlinecolor\":\"#2a3f5f\"},\"type\":\"carpet\"}],\"table\":[{\"cells\":{\"fill\":{\"color\":\"#EBF0F8\"},\"line\":{\"color\":\"white\"}},\"header\":{\"fill\":{\"color\":\"#C8D4E3\"},\"line\":{\"color\":\"white\"}},\"type\":\"table\"}],\"barpolar\":[{\"marker\":{\"line\":{\"color\":\"#E5ECF6\",\"width\":0.5},\"pattern\":{\"fillmode\":\"overlay\",\"size\":10,\"solidity\":0.2}},\"type\":\"barpolar\"}],\"pie\":[{\"automargin\":true,\"type\":\"pie\"}]},\"layout\":{\"autotypenumbers\":\"strict\",\"colorway\":[\"#636efa\",\"#EF553B\",\"#00cc96\",\"#ab63fa\",\"#FFA15A\",\"#19d3f3\",\"#FF6692\",\"#B6E880\",\"#FF97FF\",\"#FECB52\"],\"font\":{\"color\":\"#2a3f5f\"},\"hovermode\":\"closest\",\"hoverlabel\":{\"align\":\"left\"},\"paper_bgcolor\":\"white\",\"plot_bgcolor\":\"#E5ECF6\",\"polar\":{\"bgcolor\":\"#E5ECF6\",\"angularaxis\":{\"gridcolor\":\"white\",\"linecolor\":\"white\",\"ticks\":\"\"},\"radialaxis\":{\"gridcolor\":\"white\",\"linecolor\":\"white\",\"ticks\":\"\"}},\"ternary\":{\"bgcolor\":\"#E5ECF6\",\"aaxis\":{\"gridcolor\":\"white\",\"linecolor\":\"white\",\"ticks\":\"\"},\"baxis\":{\"gridcolor\":\"white\",\"linecolor\":\"white\",\"ticks\":\"\"},\"caxis\":{\"gridcolor\":\"white\",\"linecolor\":\"white\",\"ticks\":\"\"}},\"coloraxis\":{\"colorbar\":{\"outlinewidth\":0,\"ticks\":\"\"}},\"colorscale\":{\"sequential\":[[0.0,\"#0d0887\"],[0.1111111111111111,\"#46039f\"],[0.2222222222222222,\"#7201a8\"],[0.3333333333333333,\"#9c179e\"],[0.4444444444444444,\"#bd3786\"],[0.5555555555555556,\"#d8576b\"],[0.6666666666666666,\"#ed7953\"],[0.7777777777777778,\"#fb9f3a\"],[0.8888888888888888,\"#fdca26\"],[1.0,\"#f0f921\"]],\"sequentialminus\":[[0.0,\"#0d0887\"],[0.1111111111111111,\"#46039f\"],[0.2222222222222222,\"#7201a8\"],[0.3333333333333333,\"#9c179e\"],[0.4444444444444444,\"#bd3786\"],[0.5555555555555556,\"#d8576b\"],[0.6666666666666666,\"#ed7953\"],[0.7777777777777778,\"#fb9f3a\"],[0.8888888888888888,\"#fdca26\"],[1.0,\"#f0f921\"]],\"diverging\":[[0,\"#8e0152\"],[0.1,\"#c51b7d\"],[0.2,\"#de77ae\"],[0.3,\"#f1b6da\"],[0.4,\"#fde0ef\"],[0.5,\"#f7f7f7\"],[0.6,\"#e6f5d0\"],[0.7,\"#b8e186\"],[0.8,\"#7fbc41\"],[0.9,\"#4d9221\"],[1,\"#276419\"]]},\"xaxis\":{\"gridcolor\":\"white\",\"linecolor\":\"white\",\"ticks\":\"\",\"title\":{\"standoff\":15},\"zerolinecolor\":\"white\",\"automargin\":true,\"zerolinewidth\":2},\"yaxis\":{\"gridcolor\":\"white\",\"linecolor\":\"white\",\"ticks\":\"\",\"title\":{\"standoff\":15},\"zerolinecolor\":\"white\",\"automargin\":true,\"zerolinewidth\":2},\"scene\":{\"xaxis\":{\"backgroundcolor\":\"#E5ECF6\",\"gridcolor\":\"white\",\"linecolor\":\"white\",\"showbackground\":true,\"ticks\":\"\",\"zerolinecolor\":\"white\",\"gridwidth\":2},\"yaxis\":{\"backgroundcolor\":\"#E5ECF6\",\"gridcolor\":\"white\",\"linecolor\":\"white\",\"showbackground\":true,\"ticks\":\"\",\"zerolinecolor\":\"white\",\"gridwidth\":2},\"zaxis\":{\"backgroundcolor\":\"#E5ECF6\",\"gridcolor\":\"white\",\"linecolor\":\"white\",\"showbackground\":true,\"ticks\":\"\",\"zerolinecolor\":\"white\",\"gridwidth\":2}},\"shapedefaults\":{\"line\":{\"color\":\"#2a3f5f\"}},\"annotationdefaults\":{\"arrowcolor\":\"#2a3f5f\",\"arrowhead\":0,\"arrowwidth\":1},\"geo\":{\"bgcolor\":\"white\",\"landcolor\":\"#E5ECF6\",\"subunitcolor\":\"white\",\"showland\":true,\"showlakes\":true,\"lakecolor\":\"white\"},\"title\":{\"x\":0.05},\"mapbox\":{\"style\":\"light\"}}},\"xaxis\":{\"anchor\":\"y\",\"domain\":[0.0,1.0],\"title\":{\"text\":\"Equipe\"}},\"yaxis\":{\"anchor\":\"x\",\"domain\":[0.0,1.0],\"title\":{\"text\":\"M\\u00e9dia de Posse de Bola (%)\"}},\"legend\":{\"tracegroupgap\":0},\"title\":{\"text\":\"M\\u00e9dia de Posse de Bola da Equipe Mandante Quando Perdeu o Jogo\"},\"barmode\":\"relative\"},                        {\"responsive\": true}                    ).then(function(){\n",
              "                            \n",
              "var gd = document.getElementById('c93d9d6b-688f-448f-bb38-855ebe1a408d');\n",
              "var x = new MutationObserver(function (mutations, observer) {{\n",
              "        var display = window.getComputedStyle(gd).display;\n",
              "        if (!display || display === 'none') {{\n",
              "            console.log([gd, 'removed!']);\n",
              "            Plotly.purge(gd);\n",
              "            observer.disconnect();\n",
              "        }}\n",
              "}});\n",
              "\n",
              "// Listen for the removal of the full notebook cells\n",
              "var notebookContainer = gd.closest('#notebook-container');\n",
              "if (notebookContainer) {{\n",
              "    x.observe(notebookContainer, {childList: true});\n",
              "}}\n",
              "\n",
              "// Listen for the clearing of the current output cell\n",
              "var outputEl = gd.closest('.output');\n",
              "if (outputEl) {{\n",
              "    x.observe(outputEl, {childList: true});\n",
              "}}\n",
              "\n",
              "                        })                };                            </script>        </div>\n",
              "</body>\n",
              "</html>"
            ]
          },
          "metadata": {}
        }
      ]
    },
    {
      "cell_type": "markdown",
      "source": [
        "## Classificação\n",
        "\n",
        "Qual a classificação final do campeonato?\n",
        "\n",
        "Responda em forma de tabela, ordenada do primeiro colocado ao último.\n",
        "Você deverá apresentar o brasão do time (pode ser obtido online [aqui](https://logodetimes.com/premier-league/), mas automatize a busca, não salve o logo localmente), o nome, a quantidade de pontos e a posição final no campeonato.\n",
        "\n",
        "**OBS** Vitória vale 3 pontos, empates 1 ponto e derrota 0 pontos."
      ],
      "metadata": {
        "id": "JcoATpa6AJrl"
      },
      "id": "JcoATpa6AJrl"
    },
    {
      "cell_type": "code",
      "source": [
        "data_cleaned['points'] = data_cleaned['result'].apply(lambda x: 3 if x == 'W' else (1 if x == 'D' else 0))\n",
        "\n",
        "team_points = data_cleaned.groupby('team')['points'].sum().reset_index()\n",
        "team_points = team_points.sort_values(by='points', ascending=False).reset_index(drop=True)\n",
        "\n",
        "def get_team_logo(team_name):\n",
        "    # Converte o nome da equipe para o padrão da URL\n",
        "    formatted_team_name = team_name.lower().replace(' ', '-') + '-football-club.png'\n",
        "    search_url = f\"https://logodetimes.com/wp-content/uploads/{formatted_team_name}\"\n",
        "    response = requests.get(search_url)\n",
        "    if response.status_code == 200:\n",
        "        return search_url\n",
        "    return None\n",
        "\n",
        "team_points['logo'] = team_points['team'].apply(get_team_logo)\n",
        "\n",
        "fig = go.Figure(data=[go.Table(\n",
        "    header=dict(values=['Posição', 'Brasão', 'Equipe', 'Pontos'],\n",
        "                fill_color='paleturquoise',\n",
        "                align='left'),\n",
        "    cells=dict(values=[team_points.index + 1, team_points['logo'], team_points['team'], team_points['points']],\n",
        "               fill_color='lavender',\n",
        "               align='left',\n",
        "               format=[\"\", \"<img src='{}'>\", \"\", \"\"],\n",
        "               height=30))\n",
        "])\n",
        "\n",
        "fig.update_layout(title=\"Classificação Final do Campeonato\")\n",
        "fig.show()"
      ],
      "metadata": {
        "id": "5-8n2KTnAJY1",
        "colab": {
          "base_uri": "https://localhost:8080/",
          "height": 542
        },
        "outputId": "6d1e6caa-c374-4a67-a177-405e844117f3"
      },
      "id": "5-8n2KTnAJY1",
      "execution_count": 69,
      "outputs": [
        {
          "output_type": "display_data",
          "data": {
            "text/html": [
              "<html>\n",
              "<head><meta charset=\"utf-8\" /></head>\n",
              "<body>\n",
              "    <div>            <script src=\"https://cdnjs.cloudflare.com/ajax/libs/mathjax/2.7.5/MathJax.js?config=TeX-AMS-MML_SVG\"></script><script type=\"text/javascript\">if (window.MathJax && window.MathJax.Hub && window.MathJax.Hub.Config) {window.MathJax.Hub.Config({SVG: {font: \"STIX-Web\"}});}</script>                <script type=\"text/javascript\">window.PlotlyConfig = {MathJaxConfig: 'local'};</script>\n",
              "        <script charset=\"utf-8\" src=\"https://cdn.plot.ly/plotly-2.24.1.min.js\"></script>                <div id=\"7609b81a-439a-4a31-ab38-dd9bf19105f8\" class=\"plotly-graph-div\" style=\"height:525px; width:100%;\"></div>            <script type=\"text/javascript\">                                    window.PLOTLYENV=window.PLOTLYENV || {};                                    if (document.getElementById(\"7609b81a-439a-4a31-ab38-dd9bf19105f8\")) {                    Plotly.newPlot(                        \"7609b81a-439a-4a31-ab38-dd9bf19105f8\",                        [{\"cells\":{\"align\":\"left\",\"fill\":{\"color\":\"lavender\"},\"format\":[\"\",\"\\u003cimg src='{}'\\u003e\",\"\",\"\"],\"height\":30,\"values\":[[1,2,3,4,5,6,7,8,9,10,11,12,13,14,15,16,17,18,19,20,21,22,23],[\"https:\\u002f\\u002flogodetimes.com\\u002fwp-content\\u002fuploads\\u002fmanchester-city-football-club.png\",\"https:\\u002f\\u002flogodetimes.com\\u002fwp-content\\u002fuploads\\u002fchelsea-football-club.png\",\"https:\\u002f\\u002flogodetimes.com\\u002fwp-content\\u002fuploads\\u002fmanchester-united-football-club.png\",\"https:\\u002f\\u002flogodetimes.com\\u002fwp-content\\u002fuploads\\u002farsenal-football-club.png\",\"https:\\u002f\\u002flogodetimes.com\\u002fwp-content\\u002fuploads\\u002ftottenham-hotspur-football-club.png\",\"https:\\u002f\\u002flogodetimes.com\\u002fwp-content\\u002fuploads\\u002fwest-ham-united-football-club.png\",\"https:\\u002f\\u002flogodetimes.com\\u002fwp-content\\u002fuploads\\u002fleicester-city-football-club.png\",\"https:\\u002f\\u002flogodetimes.com\\u002fwp-content\\u002fuploads\\u002fwolverhampton-wanderers-football-club.png\",\"https:\\u002f\\u002flogodetimes.com\\u002fwp-content\\u002fuploads\\u002fleeds-united-football-club.png\",\"https:\\u002f\\u002flogodetimes.com\\u002fwp-content\\u002fuploads\\u002faston-villa-football-club.png\",\"https:\\u002f\\u002flogodetimes.com\\u002fwp-content\\u002fuploads\\u002feverton-football-club.png\",\"https:\\u002f\\u002flogodetimes.com\\u002fwp-content\\u002fuploads\\u002fnewcastle-united-football-club.png\",\"https:\\u002f\\u002flogodetimes.com\\u002fwp-content\\u002fuploads\\u002fsouthampton-football-club.png\",\"https:\\u002f\\u002flogodetimes.com\\u002fwp-content\\u002fuploads\\u002fcrystal-palace-football-club.png\",null,\"https:\\u002f\\u002flogodetimes.com\\u002fwp-content\\u002fuploads\\u002fburnley-football-club.png\",\"https:\\u002f\\u002flogodetimes.com\\u002fwp-content\\u002fuploads\\u002fliverpool-football-club.png\",\"https:\\u002f\\u002flogodetimes.com\\u002fwp-content\\u002fuploads\\u002fbrentford-football-club.png\",null,null,null,\"https:\\u002f\\u002flogodetimes.com\\u002fwp-content\\u002fuploads\\u002fwatford-football-club.png\",\"https:\\u002f\\u002flogodetimes.com\\u002fwp-content\\u002fuploads\\u002fnorwich-city-football-club.png\"],[\"Manchester City\",\"Chelsea\",\"Manchester United\",\"Arsenal\",\"Tottenham Hotspur\",\"West Ham United\",\"Leicester City\",\"Wolverhampton Wanderers\",\"Leeds United\",\"Aston Villa\",\"Everton\",\"Newcastle United\",\"Southampton\",\"Crystal Palace\",\"Brighton and Hove Albion\",\"Burnley\",\"Liverpool\",\"Brentford\",\"Fulham\",\"West Bromwich Albion\",\"Sheffield United\",\"Watford\",\"Norwich City\"],[166,132,128,121,120,117,108,94,93,92,88,88,83,82,82,70,69,40,28,26,23,22,21]]},\"header\":{\"align\":\"left\",\"fill\":{\"color\":\"paleturquoise\"},\"values\":[\"Posi\\u00e7\\u00e3o\",\"Bras\\u00e3o\",\"Equipe\",\"Pontos\"]},\"type\":\"table\"}],                        {\"template\":{\"data\":{\"histogram2dcontour\":[{\"type\":\"histogram2dcontour\",\"colorbar\":{\"outlinewidth\":0,\"ticks\":\"\"},\"colorscale\":[[0.0,\"#0d0887\"],[0.1111111111111111,\"#46039f\"],[0.2222222222222222,\"#7201a8\"],[0.3333333333333333,\"#9c179e\"],[0.4444444444444444,\"#bd3786\"],[0.5555555555555556,\"#d8576b\"],[0.6666666666666666,\"#ed7953\"],[0.7777777777777778,\"#fb9f3a\"],[0.8888888888888888,\"#fdca26\"],[1.0,\"#f0f921\"]]}],\"choropleth\":[{\"type\":\"choropleth\",\"colorbar\":{\"outlinewidth\":0,\"ticks\":\"\"}}],\"histogram2d\":[{\"type\":\"histogram2d\",\"colorbar\":{\"outlinewidth\":0,\"ticks\":\"\"},\"colorscale\":[[0.0,\"#0d0887\"],[0.1111111111111111,\"#46039f\"],[0.2222222222222222,\"#7201a8\"],[0.3333333333333333,\"#9c179e\"],[0.4444444444444444,\"#bd3786\"],[0.5555555555555556,\"#d8576b\"],[0.6666666666666666,\"#ed7953\"],[0.7777777777777778,\"#fb9f3a\"],[0.8888888888888888,\"#fdca26\"],[1.0,\"#f0f921\"]]}],\"heatmap\":[{\"type\":\"heatmap\",\"colorbar\":{\"outlinewidth\":0,\"ticks\":\"\"},\"colorscale\":[[0.0,\"#0d0887\"],[0.1111111111111111,\"#46039f\"],[0.2222222222222222,\"#7201a8\"],[0.3333333333333333,\"#9c179e\"],[0.4444444444444444,\"#bd3786\"],[0.5555555555555556,\"#d8576b\"],[0.6666666666666666,\"#ed7953\"],[0.7777777777777778,\"#fb9f3a\"],[0.8888888888888888,\"#fdca26\"],[1.0,\"#f0f921\"]]}],\"heatmapgl\":[{\"type\":\"heatmapgl\",\"colorbar\":{\"outlinewidth\":0,\"ticks\":\"\"},\"colorscale\":[[0.0,\"#0d0887\"],[0.1111111111111111,\"#46039f\"],[0.2222222222222222,\"#7201a8\"],[0.3333333333333333,\"#9c179e\"],[0.4444444444444444,\"#bd3786\"],[0.5555555555555556,\"#d8576b\"],[0.6666666666666666,\"#ed7953\"],[0.7777777777777778,\"#fb9f3a\"],[0.8888888888888888,\"#fdca26\"],[1.0,\"#f0f921\"]]}],\"contourcarpet\":[{\"type\":\"contourcarpet\",\"colorbar\":{\"outlinewidth\":0,\"ticks\":\"\"}}],\"contour\":[{\"type\":\"contour\",\"colorbar\":{\"outlinewidth\":0,\"ticks\":\"\"},\"colorscale\":[[0.0,\"#0d0887\"],[0.1111111111111111,\"#46039f\"],[0.2222222222222222,\"#7201a8\"],[0.3333333333333333,\"#9c179e\"],[0.4444444444444444,\"#bd3786\"],[0.5555555555555556,\"#d8576b\"],[0.6666666666666666,\"#ed7953\"],[0.7777777777777778,\"#fb9f3a\"],[0.8888888888888888,\"#fdca26\"],[1.0,\"#f0f921\"]]}],\"surface\":[{\"type\":\"surface\",\"colorbar\":{\"outlinewidth\":0,\"ticks\":\"\"},\"colorscale\":[[0.0,\"#0d0887\"],[0.1111111111111111,\"#46039f\"],[0.2222222222222222,\"#7201a8\"],[0.3333333333333333,\"#9c179e\"],[0.4444444444444444,\"#bd3786\"],[0.5555555555555556,\"#d8576b\"],[0.6666666666666666,\"#ed7953\"],[0.7777777777777778,\"#fb9f3a\"],[0.8888888888888888,\"#fdca26\"],[1.0,\"#f0f921\"]]}],\"mesh3d\":[{\"type\":\"mesh3d\",\"colorbar\":{\"outlinewidth\":0,\"ticks\":\"\"}}],\"scatter\":[{\"fillpattern\":{\"fillmode\":\"overlay\",\"size\":10,\"solidity\":0.2},\"type\":\"scatter\"}],\"parcoords\":[{\"type\":\"parcoords\",\"line\":{\"colorbar\":{\"outlinewidth\":0,\"ticks\":\"\"}}}],\"scatterpolargl\":[{\"type\":\"scatterpolargl\",\"marker\":{\"colorbar\":{\"outlinewidth\":0,\"ticks\":\"\"}}}],\"bar\":[{\"error_x\":{\"color\":\"#2a3f5f\"},\"error_y\":{\"color\":\"#2a3f5f\"},\"marker\":{\"line\":{\"color\":\"#E5ECF6\",\"width\":0.5},\"pattern\":{\"fillmode\":\"overlay\",\"size\":10,\"solidity\":0.2}},\"type\":\"bar\"}],\"scattergeo\":[{\"type\":\"scattergeo\",\"marker\":{\"colorbar\":{\"outlinewidth\":0,\"ticks\":\"\"}}}],\"scatterpolar\":[{\"type\":\"scatterpolar\",\"marker\":{\"colorbar\":{\"outlinewidth\":0,\"ticks\":\"\"}}}],\"histogram\":[{\"marker\":{\"pattern\":{\"fillmode\":\"overlay\",\"size\":10,\"solidity\":0.2}},\"type\":\"histogram\"}],\"scattergl\":[{\"type\":\"scattergl\",\"marker\":{\"colorbar\":{\"outlinewidth\":0,\"ticks\":\"\"}}}],\"scatter3d\":[{\"type\":\"scatter3d\",\"line\":{\"colorbar\":{\"outlinewidth\":0,\"ticks\":\"\"}},\"marker\":{\"colorbar\":{\"outlinewidth\":0,\"ticks\":\"\"}}}],\"scattermapbox\":[{\"type\":\"scattermapbox\",\"marker\":{\"colorbar\":{\"outlinewidth\":0,\"ticks\":\"\"}}}],\"scatterternary\":[{\"type\":\"scatterternary\",\"marker\":{\"colorbar\":{\"outlinewidth\":0,\"ticks\":\"\"}}}],\"scattercarpet\":[{\"type\":\"scattercarpet\",\"marker\":{\"colorbar\":{\"outlinewidth\":0,\"ticks\":\"\"}}}],\"carpet\":[{\"aaxis\":{\"endlinecolor\":\"#2a3f5f\",\"gridcolor\":\"white\",\"linecolor\":\"white\",\"minorgridcolor\":\"white\",\"startlinecolor\":\"#2a3f5f\"},\"baxis\":{\"endlinecolor\":\"#2a3f5f\",\"gridcolor\":\"white\",\"linecolor\":\"white\",\"minorgridcolor\":\"white\",\"startlinecolor\":\"#2a3f5f\"},\"type\":\"carpet\"}],\"table\":[{\"cells\":{\"fill\":{\"color\":\"#EBF0F8\"},\"line\":{\"color\":\"white\"}},\"header\":{\"fill\":{\"color\":\"#C8D4E3\"},\"line\":{\"color\":\"white\"}},\"type\":\"table\"}],\"barpolar\":[{\"marker\":{\"line\":{\"color\":\"#E5ECF6\",\"width\":0.5},\"pattern\":{\"fillmode\":\"overlay\",\"size\":10,\"solidity\":0.2}},\"type\":\"barpolar\"}],\"pie\":[{\"automargin\":true,\"type\":\"pie\"}]},\"layout\":{\"autotypenumbers\":\"strict\",\"colorway\":[\"#636efa\",\"#EF553B\",\"#00cc96\",\"#ab63fa\",\"#FFA15A\",\"#19d3f3\",\"#FF6692\",\"#B6E880\",\"#FF97FF\",\"#FECB52\"],\"font\":{\"color\":\"#2a3f5f\"},\"hovermode\":\"closest\",\"hoverlabel\":{\"align\":\"left\"},\"paper_bgcolor\":\"white\",\"plot_bgcolor\":\"#E5ECF6\",\"polar\":{\"bgcolor\":\"#E5ECF6\",\"angularaxis\":{\"gridcolor\":\"white\",\"linecolor\":\"white\",\"ticks\":\"\"},\"radialaxis\":{\"gridcolor\":\"white\",\"linecolor\":\"white\",\"ticks\":\"\"}},\"ternary\":{\"bgcolor\":\"#E5ECF6\",\"aaxis\":{\"gridcolor\":\"white\",\"linecolor\":\"white\",\"ticks\":\"\"},\"baxis\":{\"gridcolor\":\"white\",\"linecolor\":\"white\",\"ticks\":\"\"},\"caxis\":{\"gridcolor\":\"white\",\"linecolor\":\"white\",\"ticks\":\"\"}},\"coloraxis\":{\"colorbar\":{\"outlinewidth\":0,\"ticks\":\"\"}},\"colorscale\":{\"sequential\":[[0.0,\"#0d0887\"],[0.1111111111111111,\"#46039f\"],[0.2222222222222222,\"#7201a8\"],[0.3333333333333333,\"#9c179e\"],[0.4444444444444444,\"#bd3786\"],[0.5555555555555556,\"#d8576b\"],[0.6666666666666666,\"#ed7953\"],[0.7777777777777778,\"#fb9f3a\"],[0.8888888888888888,\"#fdca26\"],[1.0,\"#f0f921\"]],\"sequentialminus\":[[0.0,\"#0d0887\"],[0.1111111111111111,\"#46039f\"],[0.2222222222222222,\"#7201a8\"],[0.3333333333333333,\"#9c179e\"],[0.4444444444444444,\"#bd3786\"],[0.5555555555555556,\"#d8576b\"],[0.6666666666666666,\"#ed7953\"],[0.7777777777777778,\"#fb9f3a\"],[0.8888888888888888,\"#fdca26\"],[1.0,\"#f0f921\"]],\"diverging\":[[0,\"#8e0152\"],[0.1,\"#c51b7d\"],[0.2,\"#de77ae\"],[0.3,\"#f1b6da\"],[0.4,\"#fde0ef\"],[0.5,\"#f7f7f7\"],[0.6,\"#e6f5d0\"],[0.7,\"#b8e186\"],[0.8,\"#7fbc41\"],[0.9,\"#4d9221\"],[1,\"#276419\"]]},\"xaxis\":{\"gridcolor\":\"white\",\"linecolor\":\"white\",\"ticks\":\"\",\"title\":{\"standoff\":15},\"zerolinecolor\":\"white\",\"automargin\":true,\"zerolinewidth\":2},\"yaxis\":{\"gridcolor\":\"white\",\"linecolor\":\"white\",\"ticks\":\"\",\"title\":{\"standoff\":15},\"zerolinecolor\":\"white\",\"automargin\":true,\"zerolinewidth\":2},\"scene\":{\"xaxis\":{\"backgroundcolor\":\"#E5ECF6\",\"gridcolor\":\"white\",\"linecolor\":\"white\",\"showbackground\":true,\"ticks\":\"\",\"zerolinecolor\":\"white\",\"gridwidth\":2},\"yaxis\":{\"backgroundcolor\":\"#E5ECF6\",\"gridcolor\":\"white\",\"linecolor\":\"white\",\"showbackground\":true,\"ticks\":\"\",\"zerolinecolor\":\"white\",\"gridwidth\":2},\"zaxis\":{\"backgroundcolor\":\"#E5ECF6\",\"gridcolor\":\"white\",\"linecolor\":\"white\",\"showbackground\":true,\"ticks\":\"\",\"zerolinecolor\":\"white\",\"gridwidth\":2}},\"shapedefaults\":{\"line\":{\"color\":\"#2a3f5f\"}},\"annotationdefaults\":{\"arrowcolor\":\"#2a3f5f\",\"arrowhead\":0,\"arrowwidth\":1},\"geo\":{\"bgcolor\":\"white\",\"landcolor\":\"#E5ECF6\",\"subunitcolor\":\"white\",\"showland\":true,\"showlakes\":true,\"lakecolor\":\"white\"},\"title\":{\"x\":0.05},\"mapbox\":{\"style\":\"light\"}}},\"title\":{\"text\":\"Classifica\\u00e7\\u00e3o Final do Campeonato\"}},                        {\"responsive\": true}                    ).then(function(){\n",
              "                            \n",
              "var gd = document.getElementById('7609b81a-439a-4a31-ab38-dd9bf19105f8');\n",
              "var x = new MutationObserver(function (mutations, observer) {{\n",
              "        var display = window.getComputedStyle(gd).display;\n",
              "        if (!display || display === 'none') {{\n",
              "            console.log([gd, 'removed!']);\n",
              "            Plotly.purge(gd);\n",
              "            observer.disconnect();\n",
              "        }}\n",
              "}});\n",
              "\n",
              "// Listen for the removal of the full notebook cells\n",
              "var notebookContainer = gd.closest('#notebook-container');\n",
              "if (notebookContainer) {{\n",
              "    x.observe(notebookContainer, {childList: true});\n",
              "}}\n",
              "\n",
              "// Listen for the clearing of the current output cell\n",
              "var outputEl = gd.closest('.output');\n",
              "if (outputEl) {{\n",
              "    x.observe(outputEl, {childList: true});\n",
              "}}\n",
              "\n",
              "                        })                };                            </script>        </div>\n",
              "</body>\n",
              "</html>"
            ]
          },
          "metadata": {}
        }
      ]
    },
    {
      "cell_type": "markdown",
      "source": [
        "## Público\n",
        "\n",
        "Crie uma visualização que apresente o público total de cada equipe, e também um detalhamento por jogos.\n",
        "\n",
        "Apresentar os dados usando a técnica \"DrillDown\" será considerado um \"plus\". A visualização DrillDown permite que gráficos sejam detalhados com cliques em itens do gráfico.\n",
        "\n",
        "Um exemplo com tabelas pode ser encontrado [aqui](https://dash.plotly.com/dash-ag-grid/enterprise-master-detail).\n",
        "\n",
        "Um exemplo usando gráficos pode ser encontrado [aqui](https://community.plotly.com/t/show-and-tell-drill-down-functionality-in-dash-using-callback-context/54403?u=atharvakatre)"
      ],
      "metadata": {
        "id": "rF_PpoXgEHXT"
      },
      "id": "rF_PpoXgEHXT"
    },
    {
      "cell_type": "code",
      "source": [
        "data_cleaned = data.dropna(subset=['attendance'])\n",
        "total_attendance_per_team = data_cleaned.groupby('team')['attendance'].sum().reset_index()\n",
        "team_names = total_attendance_per_team['team'].unique()\n",
        "\n",
        "team_name_initial = total_attendance_per_team['team'].iloc[0]\n",
        "team_games = get_team_games(team_name_initial)\n",
        "\n",
        "def get_team_games(team_name):\n",
        "    return data_cleaned[data_cleaned['team'] == team_name]\n",
        "\n",
        "def update_game_detail(team_name):\n",
        "    team_games = get_team_games(team_name)\n",
        "    fig_combined.data[1].x = team_games['date']\n",
        "    fig_combined.data[1].y = team_games['attendance']\n",
        "    fig_combined.data[1].name = f'Público por Jogo - {team_name}'\n",
        "    fig_combined.layout.annotations[1].text = f'Público por Jogo - {team_name}'\n",
        "\n",
        "fig_total_attendance = px.bar(total_attendance_per_team,\n",
        "                              x='team',\n",
        "                              y='attendance',\n",
        "                              title='Público Total por Equipe',\n",
        "                              labels={'team': 'Equipe', 'attendance': 'Público Total'})\n",
        "\n",
        "fig_team_games = px.bar(team_games,\n",
        "                        x='date',\n",
        "                        y='attendance',\n",
        "                        title=f'Público por Jogo - {team_name_initial}',\n",
        "                        labels={'date': 'Data do Jogo', 'attendance': 'Público'})\n",
        "\n",
        "fig_combined = make_subplots(rows=2, cols=1,\n",
        "                             subplot_titles=('Público Total por Equipe', f'Público por Jogo - {team_name_initial}'))\n",
        "\n",
        "fig_combined.add_trace(go.Bar(x=total_attendance_per_team['team'],\n",
        "                              y=total_attendance_per_team['attendance'],\n",
        "                              name='Público Total por Equipe'), row=1, col=1)\n",
        "\n",
        "fig_combined.add_trace(go.Bar(x=team_games['date'],\n",
        "                              y=team_games['attendance'],\n",
        "                              name=f'Público por Jogo - {team_name_initial}'), row=2, col=1)\n",
        "\n",
        "dropdown_buttons = []\n",
        "for team in team_names:\n",
        "    dropdown_buttons.append(dict(method='restyle',\n",
        "                                 label=team,\n",
        "                                 args=[{'x': [get_team_games(team)['date']],\n",
        "                                        'y': [get_team_games(team)['attendance']],\n",
        "                                        'name': f'Público por Jogo - {team}'},\n",
        "                                       [1]]))\n",
        "\n",
        "fig_combined.update_layout(\n",
        "    updatemenus=[{\n",
        "        'buttons': dropdown_buttons,\n",
        "        'direction': 'down',\n",
        "        'showactive': True,\n",
        "        'x': 0.5,\n",
        "        'xanchor': 'center',\n",
        "        'y': 1.15,\n",
        "        'yanchor': 'top',\n",
        "    }],\n",
        "    height=700\n",
        ")\n",
        "\n",
        "fig_combined.show()"
      ],
      "metadata": {
        "colab": {
          "base_uri": "https://localhost:8080/",
          "height": 717
        },
        "id": "_wGYau90--g8",
        "outputId": "81513cf0-199c-46b7-cd17-a4c1780cbc00"
      },
      "id": "_wGYau90--g8",
      "execution_count": 31,
      "outputs": [
        {
          "output_type": "display_data",
          "data": {
            "text/html": [
              "<html>\n",
              "<head><meta charset=\"utf-8\" /></head>\n",
              "<body>\n",
              "    <div>            <script src=\"https://cdnjs.cloudflare.com/ajax/libs/mathjax/2.7.5/MathJax.js?config=TeX-AMS-MML_SVG\"></script><script type=\"text/javascript\">if (window.MathJax && window.MathJax.Hub && window.MathJax.Hub.Config) {window.MathJax.Hub.Config({SVG: {font: \"STIX-Web\"}});}</script>                <script type=\"text/javascript\">window.PlotlyConfig = {MathJaxConfig: 'local'};</script>\n",
              "        <script charset=\"utf-8\" src=\"https://cdn.plot.ly/plotly-2.24.1.min.js\"></script>                <div id=\"87c78df5-01d2-4bc2-b6a6-cad776228106\" class=\"plotly-graph-div\" style=\"height:700px; width:100%;\"></div>            <script type=\"text/javascript\">                                    window.PLOTLYENV=window.PLOTLYENV || {};                                    if (document.getElementById(\"87c78df5-01d2-4bc2-b6a6-cad776228106\")) {                    Plotly.newPlot(                        \"87c78df5-01d2-4bc2-b6a6-cad776228106\",                        [{\"name\":\"P\\u00fablico Total por Equipe\",\"x\":[\"Arsenal\",\"Aston Villa\",\"Brentford\",\"Brighton and Hove Albion\",\"Burnley\",\"Chelsea\",\"Crystal Palace\",\"Everton\",\"Fulham\",\"Leeds United\",\"Leicester City\",\"Liverpool\",\"Manchester City\",\"Manchester United\",\"Newcastle United\",\"Norwich City\",\"Sheffield United\",\"Southampton\",\"Tottenham Hotspur\",\"Watford\",\"West Bromwich Albion\",\"West Ham United\",\"Wolverhampton Wanderers\"],\"y\":[1597772.0,1327256.0,933379.0,1237655.0,979023.0,1235753.0,1075537.0,1253713.0,14000.0,1286408.0,1176338.0,21288.0,1536521.0,1937582.0,1559203.0,1117172.0,17000.0,1215543.0,1578794.0,1038691.0,15371.0,1683799.0,1172547.0],\"type\":\"bar\",\"xaxis\":\"x\",\"yaxis\":\"y\"},{\"name\":\"P\\u00fablico por Jogo - Arsenal\",\"x\":[\"2021-08-13\",\"2021-08-22\",\"2021-08-28\",\"2021-09-11\",\"2021-09-18\",\"2021-09-26\",\"2021-10-02\",\"2021-10-18\",\"2021-10-22\",\"2021-10-30\",\"2021-11-07\",\"2021-11-20\",\"2021-11-27\",\"2021-12-02\",\"2021-12-06\",\"2021-12-11\",\"2021-12-15\",\"2021-12-18\",\"2021-12-26\",\"2022-01-01\",\"2022-01-23\",\"2022-02-10\",\"2022-02-19\",\"2022-02-24\",\"2022-03-06\",\"2022-03-13\",\"2022-03-16\",\"2022-03-19\",\"2022-04-04\",\"2022-04-09\",\"2022-04-16\",\"2022-04-20\",\"2022-04-23\",\"2020-12-06\",\"2020-12-13\",\"2021-05-19\",\"2021-05-23\"],\"y\":[16479.0,58729.0,52276.0,58000.0,20000.0,59919.0,31266.0,59475.0,59496.0,32209.0,59833.0,53092.0,59886.0,73123.0,38906.0,59653.0,59777.0,36166.0,26940.0,59757.0,59255.0,31523.0,59249.0,59888.0,21142.0,60111.0,59968.0,41956.0,25149.0,60112.0,31465.0,32249.0,60223.0,2000.0,2000.0,6500.0,10000.0],\"type\":\"bar\",\"xaxis\":\"x2\",\"yaxis\":\"y2\"}],                        {\"template\":{\"data\":{\"histogram2dcontour\":[{\"type\":\"histogram2dcontour\",\"colorbar\":{\"outlinewidth\":0,\"ticks\":\"\"},\"colorscale\":[[0.0,\"#0d0887\"],[0.1111111111111111,\"#46039f\"],[0.2222222222222222,\"#7201a8\"],[0.3333333333333333,\"#9c179e\"],[0.4444444444444444,\"#bd3786\"],[0.5555555555555556,\"#d8576b\"],[0.6666666666666666,\"#ed7953\"],[0.7777777777777778,\"#fb9f3a\"],[0.8888888888888888,\"#fdca26\"],[1.0,\"#f0f921\"]]}],\"choropleth\":[{\"type\":\"choropleth\",\"colorbar\":{\"outlinewidth\":0,\"ticks\":\"\"}}],\"histogram2d\":[{\"type\":\"histogram2d\",\"colorbar\":{\"outlinewidth\":0,\"ticks\":\"\"},\"colorscale\":[[0.0,\"#0d0887\"],[0.1111111111111111,\"#46039f\"],[0.2222222222222222,\"#7201a8\"],[0.3333333333333333,\"#9c179e\"],[0.4444444444444444,\"#bd3786\"],[0.5555555555555556,\"#d8576b\"],[0.6666666666666666,\"#ed7953\"],[0.7777777777777778,\"#fb9f3a\"],[0.8888888888888888,\"#fdca26\"],[1.0,\"#f0f921\"]]}],\"heatmap\":[{\"type\":\"heatmap\",\"colorbar\":{\"outlinewidth\":0,\"ticks\":\"\"},\"colorscale\":[[0.0,\"#0d0887\"],[0.1111111111111111,\"#46039f\"],[0.2222222222222222,\"#7201a8\"],[0.3333333333333333,\"#9c179e\"],[0.4444444444444444,\"#bd3786\"],[0.5555555555555556,\"#d8576b\"],[0.6666666666666666,\"#ed7953\"],[0.7777777777777778,\"#fb9f3a\"],[0.8888888888888888,\"#fdca26\"],[1.0,\"#f0f921\"]]}],\"heatmapgl\":[{\"type\":\"heatmapgl\",\"colorbar\":{\"outlinewidth\":0,\"ticks\":\"\"},\"colorscale\":[[0.0,\"#0d0887\"],[0.1111111111111111,\"#46039f\"],[0.2222222222222222,\"#7201a8\"],[0.3333333333333333,\"#9c179e\"],[0.4444444444444444,\"#bd3786\"],[0.5555555555555556,\"#d8576b\"],[0.6666666666666666,\"#ed7953\"],[0.7777777777777778,\"#fb9f3a\"],[0.8888888888888888,\"#fdca26\"],[1.0,\"#f0f921\"]]}],\"contourcarpet\":[{\"type\":\"contourcarpet\",\"colorbar\":{\"outlinewidth\":0,\"ticks\":\"\"}}],\"contour\":[{\"type\":\"contour\",\"colorbar\":{\"outlinewidth\":0,\"ticks\":\"\"},\"colorscale\":[[0.0,\"#0d0887\"],[0.1111111111111111,\"#46039f\"],[0.2222222222222222,\"#7201a8\"],[0.3333333333333333,\"#9c179e\"],[0.4444444444444444,\"#bd3786\"],[0.5555555555555556,\"#d8576b\"],[0.6666666666666666,\"#ed7953\"],[0.7777777777777778,\"#fb9f3a\"],[0.8888888888888888,\"#fdca26\"],[1.0,\"#f0f921\"]]}],\"surface\":[{\"type\":\"surface\",\"colorbar\":{\"outlinewidth\":0,\"ticks\":\"\"},\"colorscale\":[[0.0,\"#0d0887\"],[0.1111111111111111,\"#46039f\"],[0.2222222222222222,\"#7201a8\"],[0.3333333333333333,\"#9c179e\"],[0.4444444444444444,\"#bd3786\"],[0.5555555555555556,\"#d8576b\"],[0.6666666666666666,\"#ed7953\"],[0.7777777777777778,\"#fb9f3a\"],[0.8888888888888888,\"#fdca26\"],[1.0,\"#f0f921\"]]}],\"mesh3d\":[{\"type\":\"mesh3d\",\"colorbar\":{\"outlinewidth\":0,\"ticks\":\"\"}}],\"scatter\":[{\"fillpattern\":{\"fillmode\":\"overlay\",\"size\":10,\"solidity\":0.2},\"type\":\"scatter\"}],\"parcoords\":[{\"type\":\"parcoords\",\"line\":{\"colorbar\":{\"outlinewidth\":0,\"ticks\":\"\"}}}],\"scatterpolargl\":[{\"type\":\"scatterpolargl\",\"marker\":{\"colorbar\":{\"outlinewidth\":0,\"ticks\":\"\"}}}],\"bar\":[{\"error_x\":{\"color\":\"#2a3f5f\"},\"error_y\":{\"color\":\"#2a3f5f\"},\"marker\":{\"line\":{\"color\":\"#E5ECF6\",\"width\":0.5},\"pattern\":{\"fillmode\":\"overlay\",\"size\":10,\"solidity\":0.2}},\"type\":\"bar\"}],\"scattergeo\":[{\"type\":\"scattergeo\",\"marker\":{\"colorbar\":{\"outlinewidth\":0,\"ticks\":\"\"}}}],\"scatterpolar\":[{\"type\":\"scatterpolar\",\"marker\":{\"colorbar\":{\"outlinewidth\":0,\"ticks\":\"\"}}}],\"histogram\":[{\"marker\":{\"pattern\":{\"fillmode\":\"overlay\",\"size\":10,\"solidity\":0.2}},\"type\":\"histogram\"}],\"scattergl\":[{\"type\":\"scattergl\",\"marker\":{\"colorbar\":{\"outlinewidth\":0,\"ticks\":\"\"}}}],\"scatter3d\":[{\"type\":\"scatter3d\",\"line\":{\"colorbar\":{\"outlinewidth\":0,\"ticks\":\"\"}},\"marker\":{\"colorbar\":{\"outlinewidth\":0,\"ticks\":\"\"}}}],\"scattermapbox\":[{\"type\":\"scattermapbox\",\"marker\":{\"colorbar\":{\"outlinewidth\":0,\"ticks\":\"\"}}}],\"scatterternary\":[{\"type\":\"scatterternary\",\"marker\":{\"colorbar\":{\"outlinewidth\":0,\"ticks\":\"\"}}}],\"scattercarpet\":[{\"type\":\"scattercarpet\",\"marker\":{\"colorbar\":{\"outlinewidth\":0,\"ticks\":\"\"}}}],\"carpet\":[{\"aaxis\":{\"endlinecolor\":\"#2a3f5f\",\"gridcolor\":\"white\",\"linecolor\":\"white\",\"minorgridcolor\":\"white\",\"startlinecolor\":\"#2a3f5f\"},\"baxis\":{\"endlinecolor\":\"#2a3f5f\",\"gridcolor\":\"white\",\"linecolor\":\"white\",\"minorgridcolor\":\"white\",\"startlinecolor\":\"#2a3f5f\"},\"type\":\"carpet\"}],\"table\":[{\"cells\":{\"fill\":{\"color\":\"#EBF0F8\"},\"line\":{\"color\":\"white\"}},\"header\":{\"fill\":{\"color\":\"#C8D4E3\"},\"line\":{\"color\":\"white\"}},\"type\":\"table\"}],\"barpolar\":[{\"marker\":{\"line\":{\"color\":\"#E5ECF6\",\"width\":0.5},\"pattern\":{\"fillmode\":\"overlay\",\"size\":10,\"solidity\":0.2}},\"type\":\"barpolar\"}],\"pie\":[{\"automargin\":true,\"type\":\"pie\"}]},\"layout\":{\"autotypenumbers\":\"strict\",\"colorway\":[\"#636efa\",\"#EF553B\",\"#00cc96\",\"#ab63fa\",\"#FFA15A\",\"#19d3f3\",\"#FF6692\",\"#B6E880\",\"#FF97FF\",\"#FECB52\"],\"font\":{\"color\":\"#2a3f5f\"},\"hovermode\":\"closest\",\"hoverlabel\":{\"align\":\"left\"},\"paper_bgcolor\":\"white\",\"plot_bgcolor\":\"#E5ECF6\",\"polar\":{\"bgcolor\":\"#E5ECF6\",\"angularaxis\":{\"gridcolor\":\"white\",\"linecolor\":\"white\",\"ticks\":\"\"},\"radialaxis\":{\"gridcolor\":\"white\",\"linecolor\":\"white\",\"ticks\":\"\"}},\"ternary\":{\"bgcolor\":\"#E5ECF6\",\"aaxis\":{\"gridcolor\":\"white\",\"linecolor\":\"white\",\"ticks\":\"\"},\"baxis\":{\"gridcolor\":\"white\",\"linecolor\":\"white\",\"ticks\":\"\"},\"caxis\":{\"gridcolor\":\"white\",\"linecolor\":\"white\",\"ticks\":\"\"}},\"coloraxis\":{\"colorbar\":{\"outlinewidth\":0,\"ticks\":\"\"}},\"colorscale\":{\"sequential\":[[0.0,\"#0d0887\"],[0.1111111111111111,\"#46039f\"],[0.2222222222222222,\"#7201a8\"],[0.3333333333333333,\"#9c179e\"],[0.4444444444444444,\"#bd3786\"],[0.5555555555555556,\"#d8576b\"],[0.6666666666666666,\"#ed7953\"],[0.7777777777777778,\"#fb9f3a\"],[0.8888888888888888,\"#fdca26\"],[1.0,\"#f0f921\"]],\"sequentialminus\":[[0.0,\"#0d0887\"],[0.1111111111111111,\"#46039f\"],[0.2222222222222222,\"#7201a8\"],[0.3333333333333333,\"#9c179e\"],[0.4444444444444444,\"#bd3786\"],[0.5555555555555556,\"#d8576b\"],[0.6666666666666666,\"#ed7953\"],[0.7777777777777778,\"#fb9f3a\"],[0.8888888888888888,\"#fdca26\"],[1.0,\"#f0f921\"]],\"diverging\":[[0,\"#8e0152\"],[0.1,\"#c51b7d\"],[0.2,\"#de77ae\"],[0.3,\"#f1b6da\"],[0.4,\"#fde0ef\"],[0.5,\"#f7f7f7\"],[0.6,\"#e6f5d0\"],[0.7,\"#b8e186\"],[0.8,\"#7fbc41\"],[0.9,\"#4d9221\"],[1,\"#276419\"]]},\"xaxis\":{\"gridcolor\":\"white\",\"linecolor\":\"white\",\"ticks\":\"\",\"title\":{\"standoff\":15},\"zerolinecolor\":\"white\",\"automargin\":true,\"zerolinewidth\":2},\"yaxis\":{\"gridcolor\":\"white\",\"linecolor\":\"white\",\"ticks\":\"\",\"title\":{\"standoff\":15},\"zerolinecolor\":\"white\",\"automargin\":true,\"zerolinewidth\":2},\"scene\":{\"xaxis\":{\"backgroundcolor\":\"#E5ECF6\",\"gridcolor\":\"white\",\"linecolor\":\"white\",\"showbackground\":true,\"ticks\":\"\",\"zerolinecolor\":\"white\",\"gridwidth\":2},\"yaxis\":{\"backgroundcolor\":\"#E5ECF6\",\"gridcolor\":\"white\",\"linecolor\":\"white\",\"showbackground\":true,\"ticks\":\"\",\"zerolinecolor\":\"white\",\"gridwidth\":2},\"zaxis\":{\"backgroundcolor\":\"#E5ECF6\",\"gridcolor\":\"white\",\"linecolor\":\"white\",\"showbackground\":true,\"ticks\":\"\",\"zerolinecolor\":\"white\",\"gridwidth\":2}},\"shapedefaults\":{\"line\":{\"color\":\"#2a3f5f\"}},\"annotationdefaults\":{\"arrowcolor\":\"#2a3f5f\",\"arrowhead\":0,\"arrowwidth\":1},\"geo\":{\"bgcolor\":\"white\",\"landcolor\":\"#E5ECF6\",\"subunitcolor\":\"white\",\"showland\":true,\"showlakes\":true,\"lakecolor\":\"white\"},\"title\":{\"x\":0.05},\"mapbox\":{\"style\":\"light\"}}},\"xaxis\":{\"anchor\":\"y\",\"domain\":[0.0,1.0]},\"yaxis\":{\"anchor\":\"x\",\"domain\":[0.625,1.0]},\"xaxis2\":{\"anchor\":\"y2\",\"domain\":[0.0,1.0]},\"yaxis2\":{\"anchor\":\"x2\",\"domain\":[0.0,0.375]},\"annotations\":[{\"font\":{\"size\":16},\"showarrow\":false,\"text\":\"P\\u00fablico Total por Equipe\",\"x\":0.5,\"xanchor\":\"center\",\"xref\":\"paper\",\"y\":1.0,\"yanchor\":\"bottom\",\"yref\":\"paper\"},{\"font\":{\"size\":16},\"showarrow\":false,\"text\":\"P\\u00fablico por Jogo - Arsenal\",\"x\":0.5,\"xanchor\":\"center\",\"xref\":\"paper\",\"y\":0.375,\"yanchor\":\"bottom\",\"yref\":\"paper\"}],\"updatemenus\":[{\"buttons\":[{\"args\":[{\"x\":[[\"2021-08-13\",\"2021-08-22\",\"2021-08-28\",\"2021-09-11\",\"2021-09-18\",\"2021-09-26\",\"2021-10-02\",\"2021-10-18\",\"2021-10-22\",\"2021-10-30\",\"2021-11-07\",\"2021-11-20\",\"2021-11-27\",\"2021-12-02\",\"2021-12-06\",\"2021-12-11\",\"2021-12-15\",\"2021-12-18\",\"2021-12-26\",\"2022-01-01\",\"2022-01-23\",\"2022-02-10\",\"2022-02-19\",\"2022-02-24\",\"2022-03-06\",\"2022-03-13\",\"2022-03-16\",\"2022-03-19\",\"2022-04-04\",\"2022-04-09\",\"2022-04-16\",\"2022-04-20\",\"2022-04-23\",\"2020-12-06\",\"2020-12-13\",\"2021-05-19\",\"2021-05-23\"]],\"y\":[[16479.0,58729.0,52276.0,58000.0,20000.0,59919.0,31266.0,59475.0,59496.0,32209.0,59833.0,53092.0,59886.0,73123.0,38906.0,59653.0,59777.0,36166.0,26940.0,59757.0,59255.0,31523.0,59249.0,59888.0,21142.0,60111.0,59968.0,41956.0,25149.0,60112.0,31465.0,32249.0,60223.0,2000.0,2000.0,6500.0,10000.0]],\"name\":\"P\\u00fablico por Jogo - Arsenal\"},[1]],\"label\":\"Arsenal\",\"method\":\"restyle\"},{\"args\":[{\"x\":[[\"2021-08-14\",\"2021-08-21\",\"2021-08-28\",\"2021-09-11\",\"2021-09-18\",\"2021-09-25\",\"2021-10-03\",\"2021-10-16\",\"2021-10-22\",\"2021-10-31\",\"2021-11-05\",\"2021-11-20\",\"2021-11-27\",\"2021-12-01\",\"2021-12-05\",\"2021-12-11\",\"2021-12-14\",\"2021-12-26\",\"2022-01-02\",\"2022-01-15\",\"2022-01-22\",\"2022-02-09\",\"2022-02-13\",\"2022-02-19\",\"2022-02-26\",\"2022-03-05\",\"2022-03-10\",\"2022-03-13\",\"2022-03-19\",\"2022-04-02\",\"2022-04-09\",\"2022-04-23\",\"2021-05-19\",\"2021-05-23\"]],\"y\":[[20051.0,41964.0,42045.0,39969.0,41888.0,72922.0,53076.0,41951.0,59496.0,41874.0,30178.0,41925.0,25203.0,41400.0,41572.0,53093.0,26836.0,41907.0,16876.0,41968.0,38203.0,41927.0,52207.0,41936.0,31475.0,41855.0,36400.0,59957.0,41956.0,31012.0,41949.0,32185.0,10000.0,10000.0]],\"name\":\"P\\u00fablico por Jogo - Aston Villa\"},[1]],\"label\":\"Aston Villa\",\"method\":\"restyle\"},{\"args\":[{\"x\":[[\"2021-08-13\",\"2021-08-21\",\"2021-08-28\",\"2021-09-11\",\"2021-09-18\",\"2021-09-25\",\"2021-10-03\",\"2021-10-16\",\"2021-10-24\",\"2021-10-30\",\"2021-11-06\",\"2021-11-20\",\"2021-11-28\",\"2021-12-02\",\"2021-12-05\",\"2021-12-10\",\"2021-12-26\",\"2021-12-29\",\"2022-01-02\",\"2022-01-11\",\"2022-01-16\",\"2022-01-19\",\"2022-01-22\",\"2022-02-09\",\"2022-02-12\",\"2022-02-19\",\"2022-02-26\",\"2022-03-05\",\"2022-03-12\",\"2022-03-20\",\"2022-04-02\",\"2022-04-10\",\"2022-04-16\",\"2022-04-23\"]],\"y\":[[16479.0,23091.0,42045.0,16518.0,30000.0,16876.0,49940.0,16940.0,16814.0,18821.0,16837.0,52131.0,16957.0,54202.0,35639.0,16861.0,30141.0,17009.0,16876.0,27383.0,52824.0,17094.0,16982.0,51658.0,16958.0,59249.0,17039.0,26887.0,17088.0,31830.0,39061.0,17032.0,21045.0,17072.0]],\"name\":\"P\\u00fablico por Jogo - Brentford\"},[1]],\"label\":\"Brentford\",\"method\":\"restyle\"},{\"args\":[{\"x\":[[\"2021-08-14\",\"2021-08-21\",\"2021-08-28\",\"2021-09-11\",\"2021-09-19\",\"2021-09-27\",\"2021-10-02\",\"2021-10-16\",\"2021-10-23\",\"2021-10-30\",\"2021-11-06\",\"2021-11-20\",\"2021-11-27\",\"2021-12-01\",\"2021-12-04\",\"2021-12-15\",\"2021-12-26\",\"2021-12-29\",\"2022-01-02\",\"2022-01-14\",\"2022-01-18\",\"2022-01-23\",\"2022-02-12\",\"2022-02-15\",\"2022-02-19\",\"2022-02-26\",\"2022-03-05\",\"2022-03-12\",\"2022-03-16\",\"2022-04-02\",\"2022-04-09\",\"2022-04-16\",\"2022-04-20\",\"2022-04-24\",\"2020-12-07\",\"2021-05-18\",\"2021-05-23\"]],\"y\":[[16910.0,29485.0,30548.0,16518.0,31078.0,22975.0,31266.0,26777.0,31215.0,52598.0,31267.0,41925.0,31166.0,59626.0,28706.0,30362.0,30141.0,40080.0,38203.0,30675.0,30880.0,31231.0,20795.0,73012.0,30361.0,31475.0,52214.0,31474.0,31144.0,31245.0,60112.0,58685.0,52226.0,31335.0,2000.0,7945.0,10000.0]],\"name\":\"P\\u00fablico por Jogo - Brighton and Hove Albion\"},[1]],\"label\":\"Brighton and Hove Albion\",\"method\":\"restyle\"},{\"args\":[{\"x\":[[\"2021-08-14\",\"2021-08-21\",\"2021-08-29\",\"2021-09-13\",\"2021-09-18\",\"2021-09-25\",\"2021-10-02\",\"2021-10-16\",\"2021-10-23\",\"2021-10-30\",\"2021-11-06\",\"2021-11-20\",\"2021-12-01\",\"2021-12-04\",\"2021-12-12\",\"2021-12-30\",\"2022-01-02\",\"2022-01-23\",\"2022-02-05\",\"2022-02-08\",\"2022-02-13\",\"2022-02-19\",\"2022-02-23\",\"2022-02-26\",\"2022-03-01\",\"2022-03-05\",\"2022-03-12\",\"2022-04-02\",\"2022-04-06\",\"2022-04-10\",\"2022-04-17\",\"2022-04-21\",\"2022-04-24\",\"2020-12-13\",\"2021-05-19\",\"2021-05-23\"]],\"y\":[[16910.0,52591.0,20000.0,30000.0,20000.0,31650.0,17427.0,52711.0,29145.0,18821.0,39798.0,18028.0,30328.0,51948.0,18065.0,73121.0,36083.0,59255.0,19527.0,21233.0,19563.0,30361.0,19488.0,24203.0,17825.0,19439.0,17088.0,21249.0,19830.0,26361.0,59958.0,17384.0,19246.0,2000.0,3387.0,5000.0]],\"name\":\"P\\u00fablico por Jogo - Burnley\"},[1]],\"label\":\"Burnley\",\"method\":\"restyle\"},{\"args\":[{\"x\":[[\"2021-08-14\",\"2021-08-22\",\"2021-08-28\",\"2021-09-11\",\"2021-09-19\",\"2021-09-25\",\"2021-10-02\",\"2021-10-16\",\"2021-10-23\",\"2021-10-30\",\"2021-11-06\",\"2021-11-20\",\"2021-11-28\",\"2021-12-01\",\"2021-12-04\",\"2021-12-11\",\"2021-12-16\",\"2021-12-19\",\"2021-12-26\",\"2021-12-29\",\"2022-01-02\",\"2022-01-15\",\"2022-01-18\",\"2022-01-23\",\"2022-02-19\",\"2022-03-05\",\"2022-03-10\",\"2022-03-13\",\"2022-04-02\",\"2022-04-09\",\"2022-04-20\",\"2022-04-24\",\"2020-12-05\",\"2020-12-12\",\"2021-05-18\",\"2021-05-23\"]],\"y\":[[38965.0,58729.0,54000.0,39969.0,60059.0,40036.0,40109.0,16940.0,40113.0,52208.0,39798.0,35497.0,40041.0,20388.0,59942.0,39959.0,13933.0,30631.0,41907.0,40080.0,40072.0,53319.0,30880.0,40020.0,25109.0,19439.0,26684.0,40026.0,39061.0,31359.0,32249.0,32231.0,2000.0,2000.0,8000.0,10000.0]],\"name\":\"P\\u00fablico por Jogo - Chelsea\"},[1]],\"label\":\"Chelsea\",\"method\":\"restyle\"},{\"args\":[{\"x\":[[\"2021-08-14\",\"2021-08-21\",\"2021-08-28\",\"2021-09-11\",\"2021-09-18\",\"2021-09-27\",\"2021-10-03\",\"2021-10-18\",\"2021-10-23\",\"2021-10-30\",\"2021-11-06\",\"2021-11-20\",\"2021-11-27\",\"2021-11-30\",\"2021-12-05\",\"2021-12-12\",\"2021-12-15\",\"2021-12-26\",\"2021-12-28\",\"2022-01-01\",\"2022-01-14\",\"2022-01-23\",\"2022-02-09\",\"2022-02-12\",\"2022-02-19\",\"2022-02-23\",\"2022-02-26\",\"2022-03-05\",\"2022-03-14\",\"2022-04-04\",\"2022-04-10\",\"2022-04-20\",\"2022-04-25\",\"2020-12-13\",\"2021-05-19\",\"2021-05-23\"]],\"y\":[[38965.0,23091.0,59751.0,26000.0,52000.0,22975.0,25000.0,59475.0,24609.0,53014.0,24390.0,18028.0,25203.0,35558.0,73172.0,24066.0,22861.0,40539.0,24433.0,24351.0,30675.0,25002.0,26652.0,16958.0,25109.0,20012.0,24203.0,31395.0,25309.0,25149.0,31896.0,51938.0,25357.0,2000.0,6500.0,9901.0]],\"name\":\"P\\u00fablico por Jogo - Crystal Palace\"},[1]],\"label\":\"Crystal Palace\",\"method\":\"restyle\"},{\"args\":[{\"x\":[[\"2021-08-14\",\"2021-08-21\",\"2021-08-28\",\"2021-09-13\",\"2021-09-18\",\"2021-09-25\",\"2021-10-02\",\"2021-10-17\",\"2021-10-23\",\"2021-11-01\",\"2021-11-07\",\"2021-11-21\",\"2021-11-28\",\"2021-12-01\",\"2021-12-06\",\"2021-12-12\",\"2021-12-16\",\"2022-01-02\",\"2022-01-15\",\"2022-01-22\",\"2022-02-08\",\"2022-02-12\",\"2022-02-19\",\"2022-02-26\",\"2022-03-07\",\"2022-03-13\",\"2022-03-17\",\"2022-04-03\",\"2022-04-06\",\"2022-04-09\",\"2022-04-20\",\"2022-04-24\",\"2020-12-12\",\"2021-05-19\",\"2021-05-23\"]],\"y\":[[38487.0,36293.0,30548.0,30000.0,41888.0,38821.0,73128.0,39132.0,38834.0,30617.0,39059.0,52571.0,16957.0,39641.0,38906.0,24066.0,13933.0,38203.0,26629.0,38203.0,52186.0,39150.0,31312.0,39105.0,59647.0,39112.0,39068.0,59953.0,19830.0,39080.0,39153.0,53213.0,2000.0,4988.0,10000.0]],\"name\":\"P\\u00fablico por Jogo - Everton\"},[1]],\"label\":\"Everton\",\"method\":\"restyle\"},{\"args\":[{\"x\":[[\"2020-12-13\",\"2021-05-18\",\"2021-05-23\"]],\"y\":[[2000.0,10000.0,2000.0]],\"name\":\"P\\u00fablico por Jogo - Fulham\"},[1]],\"label\":\"Fulham\",\"method\":\"restyle\"},{\"args\":[{\"x\":[[\"2021-08-14\",\"2021-08-21\",\"2021-08-29\",\"2021-09-12\",\"2021-09-17\",\"2021-09-25\",\"2021-10-02\",\"2021-10-16\",\"2021-10-23\",\"2021-10-31\",\"2021-11-07\",\"2021-11-21\",\"2021-11-27\",\"2021-11-30\",\"2021-12-05\",\"2021-12-11\",\"2021-12-14\",\"2021-12-18\",\"2022-01-02\",\"2022-01-16\",\"2022-01-22\",\"2022-02-09\",\"2022-02-12\",\"2022-02-20\",\"2022-02-23\",\"2022-02-26\",\"2022-03-05\",\"2022-03-10\",\"2022-03-13\",\"2022-03-18\",\"2022-04-02\",\"2022-04-09\",\"2022-04-25\",\"2020-12-05\",\"2021-05-18\",\"2021-05-23\"]],\"y\":[[72732.0,36293.0,20000.0,36507.0,50407.0,36417.0,36261.0,30506.0,36475.0,26913.0,36478.0,58989.0,31166.0,35558.0,35639.0,39959.0,52401.0,36166.0,36083.0,59951.0,36405.0,41927.0,39150.0,36715.0,53018.0,36599.0,32236.0,36400.0,36321.0,31842.0,36580.0,20957.0,25357.0,2000.0,8000.0,8000.0]],\"name\":\"P\\u00fablico por Jogo - Leeds United\"},[1]],\"label\":\"Leeds United\",\"method\":\"restyle\"},{\"args\":[{\"x\":[[\"2021-08-14\",\"2021-08-23\",\"2021-08-28\",\"2021-09-11\",\"2021-09-19\",\"2021-09-25\",\"2021-10-03\",\"2021-10-16\",\"2021-10-24\",\"2021-10-30\",\"2021-11-07\",\"2021-11-20\",\"2021-11-28\",\"2021-12-01\",\"2021-12-05\",\"2021-12-12\",\"2021-12-26\",\"2021-12-28\",\"2022-01-19\",\"2022-01-23\",\"2022-02-10\",\"2022-02-13\",\"2022-02-20\",\"2022-03-01\",\"2022-03-05\",\"2022-03-13\",\"2022-03-20\",\"2022-04-02\",\"2022-04-10\",\"2022-04-17\",\"2022-04-20\",\"2022-04-23\",\"2021-05-18\",\"2021-05-23\"]],\"y\":[[31983.0,59901.0,26765.0,32087.0,31078.0,31650.0,25000.0,32219.0,16814.0,32209.0,36478.0,35497.0,32020.0,26951.0,41572.0,31959.0,53226.0,32230.0,31986.0,31231.0,53050.0,32061.0,31587.0,17825.0,32236.0,60111.0,31830.0,73444.0,31896.0,52104.0,39153.0,32185.0,8000.0,8000.0]],\"name\":\"P\\u00fablico por Jogo - Leicester City\"},[1]],\"label\":\"Leicester City\",\"method\":\"restyle\"},{\"args\":[{\"x\":[[\"2020-12-06\",\"2020-12-13\",\"2020-12-16\",\"2020-12-27\",\"2021-05-19\",\"2021-05-23\"]],\"y\":[[2000.0,2000.0,2000.0,2000.0,3387.0,9901.0]],\"name\":\"P\\u00fablico por Jogo - Liverpool\"},[1]],\"label\":\"Liverpool\",\"method\":\"restyle\"},{\"args\":[{\"x\":[[\"2021-08-15\",\"2021-08-21\",\"2021-08-28\",\"2021-09-11\",\"2021-09-18\",\"2021-09-25\",\"2021-10-03\",\"2021-10-16\",\"2021-10-23\",\"2021-10-30\",\"2021-11-06\",\"2021-11-21\",\"2021-11-28\",\"2021-12-01\",\"2021-12-04\",\"2021-12-11\",\"2021-12-14\",\"2021-12-19\",\"2021-12-26\",\"2021-12-29\",\"2022-01-01\",\"2022-01-15\",\"2022-01-22\",\"2022-02-09\",\"2022-02-12\",\"2022-02-19\",\"2022-02-26\",\"2022-03-06\",\"2022-03-14\",\"2022-04-02\",\"2022-04-10\",\"2022-04-20\",\"2022-04-23\",\"2021-05-18\",\"2021-05-23\"]],\"y\":[[58262.0,51437.0,52276.0,32087.0,52698.0,40036.0,53102.0,52711.0,31215.0,53014.0,73086.0,52571.0,53245.0,41400.0,20673.0,52613.0,52401.0,52127.0,53226.0,17009.0,59757.0,53319.0,31178.0,51658.0,27010.0,53201.0,39105.0,53165.0,25309.0,21249.0,53197.0,52226.0,53013.0,7945.0,10000.0]],\"name\":\"P\\u00fablico por Jogo - Manchester City\"},[1]],\"label\":\"Manchester City\",\"method\":\"restyle\"},{\"args\":[{\"x\":[[\"2021-08-14\",\"2021-08-22\",\"2021-08-29\",\"2021-09-11\",\"2021-09-19\",\"2021-09-25\",\"2021-10-02\",\"2021-10-16\",\"2021-10-24\",\"2021-10-30\",\"2021-11-06\",\"2021-11-20\",\"2021-11-28\",\"2021-12-02\",\"2021-12-05\",\"2021-12-11\",\"2021-12-27\",\"2021-12-30\",\"2022-01-03\",\"2022-01-15\",\"2022-01-19\",\"2022-01-22\",\"2022-02-08\",\"2022-02-12\",\"2022-02-15\",\"2022-02-20\",\"2022-02-26\",\"2022-03-06\",\"2022-03-12\",\"2022-04-02\",\"2022-04-09\",\"2022-04-16\",\"2022-04-19\",\"2022-04-23\",\"2020-12-05\",\"2021-05-18\",\"2021-05-23\"]],\"y\":[[72732.0,32000.0,30621.0,72732.0,60000.0,72922.0,73128.0,32219.0,73088.0,60356.0,73086.0,21087.0,40041.0,73123.0,73172.0,27606.0,52178.0,73121.0,73045.0,41968.0,17094.0,73130.0,21233.0,73084.0,73012.0,36715.0,73152.0,53165.0,73458.0,73444.0,39080.0,73381.0,52686.0,60223.0,2000.0,10000.0,4500.0]],\"name\":\"P\\u00fablico por Jogo - Manchester United\"},[1]],\"label\":\"Manchester United\",\"method\":\"restyle\"},{\"args\":[{\"x\":[[\"2021-08-15\",\"2021-08-21\",\"2021-08-28\",\"2021-09-11\",\"2021-09-17\",\"2021-09-25\",\"2021-10-02\",\"2021-10-17\",\"2021-10-23\",\"2021-10-30\",\"2021-11-06\",\"2021-11-20\",\"2021-11-27\",\"2021-11-30\",\"2021-12-04\",\"2021-12-12\",\"2021-12-16\",\"2021-12-19\",\"2021-12-27\",\"2022-01-15\",\"2022-01-22\",\"2022-02-08\",\"2022-02-13\",\"2022-02-19\",\"2022-02-26\",\"2022-03-05\",\"2022-03-10\",\"2022-03-13\",\"2022-03-17\",\"2022-04-03\",\"2022-04-08\",\"2022-04-17\",\"2022-04-20\",\"2022-04-23\",\"2021-05-19\",\"2021-05-23\"]],\"y\":[[50673.0,41964.0,44017.0,72732.0,50407.0,20650.0,30483.0,52214.0,24609.0,52208.0,31267.0,52131.0,59886.0,50757.0,51948.0,31959.0,52951.0,52127.0,52178.0,52223.0,36405.0,52186.0,52207.0,59949.0,17039.0,52214.0,30056.0,40026.0,39068.0,57553.0,52164.0,52104.0,51938.0,26910.0,10000.0,2000.0]],\"name\":\"P\\u00fablico por Jogo - Newcastle United\"},[1]],\"label\":\"Newcastle United\",\"method\":\"restyle\"},{\"args\":[{\"x\":[[\"2021-08-14\",\"2021-08-21\",\"2021-08-28\",\"2021-09-11\",\"2021-09-18\",\"2021-09-25\",\"2021-10-02\",\"2021-10-16\",\"2021-10-23\",\"2021-10-31\",\"2021-11-06\",\"2021-11-20\",\"2021-11-27\",\"2021-11-30\",\"2021-12-05\",\"2021-12-11\",\"2021-12-14\",\"2021-12-26\",\"2021-12-28\",\"2022-01-12\",\"2022-01-15\",\"2022-01-21\",\"2022-02-09\",\"2022-02-12\",\"2022-02-19\",\"2022-02-25\",\"2022-03-05\",\"2022-03-10\",\"2022-03-13\",\"2022-04-02\",\"2022-04-10\",\"2022-04-16\",\"2022-04-23\"]],\"y\":[[27023.0,51437.0,26765.0,58000.0,26649.0,38821.0,17427.0,26777.0,40113.0,26913.0,16837.0,26885.0,26911.0,50757.0,57088.0,27606.0,26836.0,26940.0,24433.0,59775.0,26629.0,20782.0,26652.0,27010.0,53135.0,31182.0,26887.0,26684.0,36321.0,31245.0,26361.0,73381.0,26910.0]],\"name\":\"P\\u00fablico por Jogo - Norwich City\"},[1]],\"label\":\"Norwich City\",\"method\":\"restyle\"},{\"args\":[{\"x\":[[\"2020-12-13\",\"2021-05-19\",\"2021-05-23\"]],\"y\":[[2000.0,10000.0,5000.0]],\"name\":\"P\\u00fablico por Jogo - Sheffield United\"},[1]],\"label\":\"Sheffield United\",\"method\":\"restyle\"},{\"args\":[{\"x\":[[\"2021-08-14\",\"2021-08-22\",\"2021-08-28\",\"2021-09-11\",\"2021-09-18\",\"2021-09-26\",\"2021-10-02\",\"2021-10-16\",\"2021-10-23\",\"2021-10-30\",\"2021-11-05\",\"2021-11-20\",\"2021-11-27\",\"2021-12-01\",\"2021-12-04\",\"2021-12-11\",\"2021-12-15\",\"2021-12-26\",\"2021-12-28\",\"2022-01-11\",\"2022-01-15\",\"2022-01-22\",\"2022-02-09\",\"2022-02-12\",\"2022-02-19\",\"2022-02-25\",\"2022-03-05\",\"2022-03-10\",\"2022-03-13\",\"2022-04-02\",\"2022-04-09\",\"2022-04-16\",\"2022-04-21\",\"2022-04-24\",\"2020-12-07\",\"2020-12-13\",\"2021-05-18\",\"2021-05-23\"]],\"y\":[[38487.0,32000.0,44017.0,30000.0,52698.0,28002.0,40109.0,30506.0,29145.0,20869.0,30178.0,26885.0,53040.0,26951.0,28706.0,59653.0,22861.0,41027.0,31304.0,27383.0,30057.0,31178.0,54012.0,73084.0,31312.0,31182.0,41855.0,30056.0,28863.0,36580.0,31359.0,31465.0,17384.0,31335.0,2000.0,2000.0,8000.0,10000.0]],\"name\":\"P\\u00fablico por Jogo - Southampton\"},[1]],\"label\":\"Southampton\",\"method\":\"restyle\"},{\"args\":[{\"x\":[[\"2021-08-15\",\"2021-08-22\",\"2021-08-29\",\"2021-09-11\",\"2021-09-19\",\"2021-09-26\",\"2021-10-03\",\"2021-10-17\",\"2021-10-24\",\"2021-10-30\",\"2021-11-07\",\"2021-11-21\",\"2021-12-02\",\"2021-12-05\",\"2021-12-19\",\"2021-12-26\",\"2021-12-28\",\"2022-01-01\",\"2022-01-19\",\"2022-01-23\",\"2022-02-09\",\"2022-02-13\",\"2022-02-19\",\"2022-02-23\",\"2022-02-26\",\"2022-03-07\",\"2022-03-12\",\"2022-03-16\",\"2022-03-20\",\"2022-04-03\",\"2022-04-09\",\"2022-04-16\",\"2022-04-23\",\"2020-12-06\",\"2020-12-13\",\"2020-12-16\",\"2021-05-19\",\"2021-05-23\"]],\"y\":[[58262.0,30368.0,57672.0,26000.0,60059.0,59919.0,53076.0,52214.0,59924.0,60356.0,39059.0,58989.0,54202.0,57088.0,45421.0,40539.0,31304.0,20391.0,31986.0,40020.0,54012.0,56452.0,53201.0,19488.0,36599.0,59647.0,73458.0,31144.0,58685.0,57553.0,41949.0,58685.0,17072.0,2000.0,2000.0,2000.0,10000.0,8000.0]],\"name\":\"P\\u00fablico por Jogo - Tottenham Hotspur\"},[1]],\"label\":\"Tottenham Hotspur\",\"method\":\"restyle\"},{\"args\":[{\"x\":[[\"2021-08-14\",\"2021-08-21\",\"2021-08-29\",\"2021-09-11\",\"2021-09-18\",\"2021-09-25\",\"2021-10-02\",\"2021-10-16\",\"2021-10-23\",\"2021-10-30\",\"2021-11-07\",\"2021-11-20\",\"2021-11-28\",\"2021-12-01\",\"2021-12-04\",\"2021-12-10\",\"2021-12-28\",\"2022-01-01\",\"2022-01-15\",\"2022-01-21\",\"2022-02-05\",\"2022-02-08\",\"2022-02-12\",\"2022-02-19\",\"2022-02-23\",\"2022-02-26\",\"2022-03-06\",\"2022-03-10\",\"2022-03-13\",\"2022-04-02\",\"2022-04-09\",\"2022-04-16\",\"2022-04-23\"]],\"y\":[[20051.0,29485.0,57672.0,20019.0,26649.0,20650.0,36261.0,21085.0,38834.0,20869.0,59833.0,21087.0,32020.0,20388.0,20673.0,16861.0,20073.0,20391.0,52223.0,20782.0,19527.0,59581.0,20795.0,41936.0,20012.0,73152.0,21142.0,29658.0,28863.0,53104.0,20957.0,21045.0,53013.0]],\"name\":\"P\\u00fablico por Jogo - Watford\"},[1]],\"label\":\"Watford\",\"method\":\"restyle\"},{\"args\":[{\"x\":[[\"2020-12-27\",\"2021-05-19\",\"2021-05-23\"]],\"y\":[[2000.0,5371.0,8000.0]],\"name\":\"P\\u00fablico por Jogo - West Bromwich Albion\"},[1]],\"label\":\"West Bromwich Albion\",\"method\":\"restyle\"},{\"args\":[{\"x\":[[\"2021-08-15\",\"2021-08-23\",\"2021-08-28\",\"2021-09-11\",\"2021-09-19\",\"2021-09-25\",\"2021-10-03\",\"2021-10-17\",\"2021-10-24\",\"2021-10-31\",\"2021-11-07\",\"2021-11-20\",\"2021-11-28\",\"2021-12-01\",\"2021-12-04\",\"2021-12-12\",\"2021-12-15\",\"2021-12-26\",\"2021-12-28\",\"2022-01-01\",\"2022-01-12\",\"2022-01-16\",\"2022-01-22\",\"2022-02-08\",\"2022-02-13\",\"2022-02-19\",\"2022-02-27\",\"2022-03-05\",\"2022-03-13\",\"2022-03-20\",\"2022-04-03\",\"2022-04-10\",\"2022-04-17\",\"2022-04-24\",\"2020-12-05\",\"2021-05-19\",\"2021-05-23\"]],\"y\":[[50673.0,59901.0,59751.0,30000.0,60000.0,36417.0,49940.0,39132.0,59924.0,41874.0,59909.0,30667.0,53245.0,59626.0,59942.0,18065.0,59777.0,41027.0,20073.0,24351.0,59775.0,59951.0,73130.0,59581.0,32061.0,59949.0,59946.0,59925.0,59957.0,58685.0,59953.0,17032.0,59958.0,32231.0,2000.0,5371.0,10000.0]],\"name\":\"P\\u00fablico por Jogo - West Ham United\"},[1]],\"label\":\"West Ham United\",\"method\":\"restyle\"},{\"args\":[{\"x\":[[\"2021-08-14\",\"2021-08-22\",\"2021-08-29\",\"2021-09-11\",\"2021-09-18\",\"2021-09-26\",\"2021-10-02\",\"2021-10-16\",\"2021-10-23\",\"2021-11-01\",\"2021-11-06\",\"2021-11-20\",\"2021-11-27\",\"2021-12-01\",\"2021-12-04\",\"2021-12-11\",\"2021-12-15\",\"2021-12-19\",\"2022-01-03\",\"2022-01-15\",\"2022-01-22\",\"2022-02-10\",\"2022-02-13\",\"2022-02-20\",\"2022-02-24\",\"2022-02-27\",\"2022-03-05\",\"2022-03-10\",\"2022-03-13\",\"2022-03-18\",\"2022-04-02\",\"2022-04-08\",\"2022-04-24\",\"2020-12-06\",\"2021-05-19\",\"2021-05-23\"]],\"y\":[[31983.0,30368.0,30621.0,20019.0,30000.0,28002.0,30483.0,41951.0,36475.0,30617.0,24390.0,30667.0,26911.0,30328.0,30729.0,52613.0,30362.0,30631.0,73045.0,30057.0,16982.0,31523.0,56452.0,31587.0,59888.0,59946.0,31395.0,29658.0,39112.0,31842.0,31012.0,52164.0,19246.0,2000.0,4988.0,4500.0]],\"name\":\"P\\u00fablico por Jogo - Wolverhampton Wanderers\"},[1]],\"label\":\"Wolverhampton Wanderers\",\"method\":\"restyle\"}],\"direction\":\"down\",\"showactive\":true,\"x\":0.5,\"xanchor\":\"center\",\"y\":1.15,\"yanchor\":\"top\"}],\"height\":700},                        {\"responsive\": true}                    ).then(function(){\n",
              "                            \n",
              "var gd = document.getElementById('87c78df5-01d2-4bc2-b6a6-cad776228106');\n",
              "var x = new MutationObserver(function (mutations, observer) {{\n",
              "        var display = window.getComputedStyle(gd).display;\n",
              "        if (!display || display === 'none') {{\n",
              "            console.log([gd, 'removed!']);\n",
              "            Plotly.purge(gd);\n",
              "            observer.disconnect();\n",
              "        }}\n",
              "}});\n",
              "\n",
              "// Listen for the removal of the full notebook cells\n",
              "var notebookContainer = gd.closest('#notebook-container');\n",
              "if (notebookContainer) {{\n",
              "    x.observe(notebookContainer, {childList: true});\n",
              "}}\n",
              "\n",
              "// Listen for the clearing of the current output cell\n",
              "var outputEl = gd.closest('.output');\n",
              "if (outputEl) {{\n",
              "    x.observe(outputEl, {childList: true});\n",
              "}}\n",
              "\n",
              "                        })                };                            </script>        </div>\n",
              "</body>\n",
              "</html>"
            ]
          },
          "metadata": {}
        }
      ]
    }
  ],
  "metadata": {
    "kernelspec": {
      "display_name": "Python 3 (ipykernel)",
      "language": "python",
      "name": "python3"
    },
    "language_info": {
      "codemirror_mode": {
        "name": "ipython",
        "version": 3
      },
      "file_extension": ".py",
      "mimetype": "text/x-python",
      "name": "python",
      "nbconvert_exporter": "python",
      "pygments_lexer": "ipython3",
      "version": "3.12.2"
    },
    "toc": {
      "base_numbering": 1
    },
    "colab": {
      "provenance": []
    }
  },
  "nbformat": 4,
  "nbformat_minor": 5
}